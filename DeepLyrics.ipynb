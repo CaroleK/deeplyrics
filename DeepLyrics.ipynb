{
  "nbformat": 4,
  "nbformat_minor": 0,
  "metadata": {
    "colab": {
      "name": "DeepLyrics.ipynb",
      "provenance": [],
      "collapsed_sections": [],
      "toc_visible": true,
      "machine_shape": "hm"
    },
    "kernelspec": {
      "name": "python3",
      "display_name": "Python 3"
    },
    "accelerator": "GPU"
  },
  "cells": [
    {
      "cell_type": "markdown",
      "metadata": {
        "id": "ikaf-CwjNRPG",
        "colab_type": "text"
      },
      "source": [
        "# 0. Importations "
      ]
    },
    {
      "cell_type": "code",
      "metadata": {
        "id": "HgdRco0F_0QJ",
        "colab_type": "code",
        "outputId": "a82b956f-aea0-4016-f851-0708f98963d3",
        "colab": {
          "base_uri": "https://localhost:8080/",
          "height": 34
        }
      },
      "source": [
        "from google.colab import drive\n",
        "drive.mount('/content/drive')"
      ],
      "execution_count": 154,
      "outputs": [
        {
          "output_type": "stream",
          "text": [
            "Drive already mounted at /content/drive; to attempt to forcibly remount, call drive.mount(\"/content/drive\", force_remount=True).\n"
          ],
          "name": "stdout"
        }
      ]
    },
    {
      "cell_type": "code",
      "metadata": {
        "id": "pv3v7l0R_8T4",
        "colab_type": "code",
        "outputId": "f72933ab-8f6d-44d7-e635-11e2bad89046",
        "colab": {
          "base_uri": "https://localhost:8080/",
          "height": 84
        }
      },
      "source": [
        "import os\n",
        "print(f\"Chemin vers le dossier actuel: \\n {os.getcwd()}\")\n",
        "path_main_folder = '/content/drive/My Drive/lyrics_generation/data/'\n",
        "\n",
        "os.chdir(path_main_folder)\n",
        "print(f\"Chemin vers le dossier actuel: \\n {os.getcwd()}\")"
      ],
      "execution_count": 2,
      "outputs": [
        {
          "output_type": "stream",
          "text": [
            "Chemin vers le dossier actuel: \n",
            " /content\n",
            "Chemin vers le dossier actuel: \n",
            " /content/drive/My Drive/lyrics_generation/data\n"
          ],
          "name": "stdout"
        }
      ]
    },
    {
      "cell_type": "code",
      "metadata": {
        "id": "CNYDItefAFi6",
        "colab_type": "code",
        "outputId": "6d9b697b-6195-438a-9ba3-95717d7fc1fe",
        "colab": {
          "base_uri": "https://localhost:8080/",
          "height": 1000
        }
      },
      "source": [
        "import torch\n",
        "import torch.nn as nn\n",
        "from torch.autograd import Variable\n",
        "import torch.utils.data as data\n",
        "from torch.utils.data import DataLoader, TensorDataset\n",
        "import configparser as config\n",
        "\n",
        "import numpy as np\n",
        "import pandas as pd\n",
        "import matplotlib.pyplot as plt\n",
        "from collections import Counter\n",
        "import re\n",
        "import pickle\n",
        "import torch.nn.functional as F\n",
        "\n",
        "from argparse import Namespace\n",
        "import random\n",
        "import time\n",
        "import string\n",
        "import io\n",
        "import sys, os\n",
        "\n",
        "!pip install pronouncing\n",
        "import pronouncing\n",
        "import nltk\n",
        "nltk.download('cmudict')\n",
        "\n",
        "import math  \n",
        "import seaborn as sns\n",
        "\n",
        "from sklearn.feature_extraction.text import TfidfTransformer\n",
        "from sklearn.feature_extraction.text import CountVectorizer\n",
        "from sklearn.metrics.pairwise import cosine_similarity\n",
        "from sklearn.feature_extraction.text import TfidfVectorizer\n",
        "from sklearn.model_selection import RandomizedSearchCV\n",
        "from sklearn.metrics import accuracy_score\n",
        "\n",
        "# Necessary to install language-check\n",
        "!sudo apt install openjdk-8-jdk\n",
        "!sudo update-alternatives --set java /usr/lib/jvm/java-8-openjdk-amd64/jre/bin/java\n",
        "!pip install language-check\n",
        "import language_check"
      ],
      "execution_count": 3,
      "outputs": [
        {
          "output_type": "stream",
          "text": [
            "Collecting pronouncing\n",
            "  Downloading https://files.pythonhosted.org/packages/7f/c6/9dc74a3ddca71c492e224116b6654592bfe5717b4a78582e4d9c3345d153/pronouncing-0.2.0.tar.gz\n",
            "Collecting cmudict>=0.4.0\n",
            "\u001b[?25l  Downloading https://files.pythonhosted.org/packages/fe/cf/4d24ac4f3ea5a57406a690ad7c07023c310185eac99adae7473c9ebdf550/cmudict-0.4.4-py2.py3-none-any.whl (938kB)\n",
            "\u001b[K     |████████████████████████████████| 942kB 7.1MB/s \n",
            "\u001b[?25hBuilding wheels for collected packages: pronouncing\n",
            "  Building wheel for pronouncing (setup.py) ... \u001b[?25l\u001b[?25hdone\n",
            "  Created wheel for pronouncing: filename=pronouncing-0.2.0-py2.py3-none-any.whl size=6223 sha256=73010df2cf6a3b5200c3394198b1f73d2c804a39ca2e05f644c661f416b827a9\n",
            "  Stored in directory: /root/.cache/pip/wheels/81/fd/e8/fb1a226f707c7e20dbed4c43f81b819d279ffd3b0e2f06ee13\n",
            "Successfully built pronouncing\n",
            "Installing collected packages: cmudict, pronouncing\n",
            "Successfully installed cmudict-0.4.4 pronouncing-0.2.0\n",
            "[nltk_data] Downloading package cmudict to /root/nltk_data...\n",
            "[nltk_data]   Unzipping corpora/cmudict.zip.\n",
            "Reading package lists... Done\n",
            "Building dependency tree       \n",
            "Reading state information... Done\n",
            "The following package was automatically installed and is no longer required:\n",
            "  libnvidia-common-430\n",
            "Use 'sudo apt autoremove' to remove it.\n",
            "The following additional packages will be installed:\n",
            "  fonts-dejavu-core fonts-dejavu-extra libatk-wrapper-java\n",
            "  libatk-wrapper-java-jni libgail-common libgail18 libgtk2.0-0 libgtk2.0-bin\n",
            "  libgtk2.0-common libxxf86dga1 openjdk-8-jre x11-utils\n",
            "Suggested packages:\n",
            "  gvfs openjdk-8-demo openjdk-8-source visualvm icedtea-8-plugin mesa-utils\n",
            "The following NEW packages will be installed:\n",
            "  fonts-dejavu-core fonts-dejavu-extra libatk-wrapper-java\n",
            "  libatk-wrapper-java-jni libgail-common libgail18 libgtk2.0-0 libgtk2.0-bin\n",
            "  libgtk2.0-common libxxf86dga1 openjdk-8-jdk openjdk-8-jre x11-utils\n",
            "0 upgraded, 13 newly installed, 0 to remove and 25 not upgraded.\n",
            "Need to get 6,970 kB of archives.\n",
            "After this operation, 20.0 MB of additional disk space will be used.\n",
            "Get:1 http://archive.ubuntu.com/ubuntu bionic/main amd64 libxxf86dga1 amd64 2:1.1.4-1 [13.7 kB]\n",
            "Get:2 http://archive.ubuntu.com/ubuntu bionic/main amd64 fonts-dejavu-core all 2.37-1 [1,041 kB]\n",
            "Get:3 http://archive.ubuntu.com/ubuntu bionic/main amd64 fonts-dejavu-extra all 2.37-1 [1,953 kB]\n",
            "Get:4 http://archive.ubuntu.com/ubuntu bionic/main amd64 x11-utils amd64 7.7+3build1 [196 kB]\n",
            "Get:5 http://archive.ubuntu.com/ubuntu bionic/main amd64 libatk-wrapper-java all 0.33.3-20ubuntu0.1 [34.7 kB]\n",
            "Get:6 http://archive.ubuntu.com/ubuntu bionic/main amd64 libatk-wrapper-java-jni amd64 0.33.3-20ubuntu0.1 [28.3 kB]\n",
            "Get:7 http://archive.ubuntu.com/ubuntu bionic/main amd64 libgtk2.0-common all 2.24.32-1ubuntu1 [125 kB]\n",
            "Get:8 http://archive.ubuntu.com/ubuntu bionic/main amd64 libgtk2.0-0 amd64 2.24.32-1ubuntu1 [1,769 kB]\n",
            "Get:9 http://archive.ubuntu.com/ubuntu bionic/main amd64 libgail18 amd64 2.24.32-1ubuntu1 [14.2 kB]\n",
            "Get:10 http://archive.ubuntu.com/ubuntu bionic/main amd64 libgail-common amd64 2.24.32-1ubuntu1 [112 kB]\n",
            "Get:11 http://archive.ubuntu.com/ubuntu bionic/main amd64 libgtk2.0-bin amd64 2.24.32-1ubuntu1 [7,536 B]\n",
            "Get:12 http://archive.ubuntu.com/ubuntu bionic-updates/universe amd64 openjdk-8-jre amd64 8u242-b08-0ubuntu3~18.04 [69.7 kB]\n",
            "Get:13 http://archive.ubuntu.com/ubuntu bionic-updates/universe amd64 openjdk-8-jdk amd64 8u242-b08-0ubuntu3~18.04 [1,606 kB]\n",
            "Fetched 6,970 kB in 2s (4,371 kB/s)\n",
            "debconf: unable to initialize frontend: Dialog\n",
            "debconf: (No usable dialog-like program is installed, so the dialog based frontend cannot be used. at /usr/share/perl5/Debconf/FrontEnd/Dialog.pm line 76, <> line 13.)\n",
            "debconf: falling back to frontend: Readline\n",
            "debconf: unable to initialize frontend: Readline\n",
            "debconf: (This frontend requires a controlling tty.)\n",
            "debconf: falling back to frontend: Teletype\n",
            "dpkg-preconfigure: unable to re-open stdin: \n",
            "Selecting previously unselected package libxxf86dga1:amd64.\n",
            "(Reading database ... 145113 files and directories currently installed.)\n",
            "Preparing to unpack .../00-libxxf86dga1_2%3a1.1.4-1_amd64.deb ...\n",
            "Unpacking libxxf86dga1:amd64 (2:1.1.4-1) ...\n",
            "Selecting previously unselected package fonts-dejavu-core.\n",
            "Preparing to unpack .../01-fonts-dejavu-core_2.37-1_all.deb ...\n",
            "Unpacking fonts-dejavu-core (2.37-1) ...\n",
            "Selecting previously unselected package fonts-dejavu-extra.\n",
            "Preparing to unpack .../02-fonts-dejavu-extra_2.37-1_all.deb ...\n",
            "Unpacking fonts-dejavu-extra (2.37-1) ...\n",
            "Selecting previously unselected package x11-utils.\n",
            "Preparing to unpack .../03-x11-utils_7.7+3build1_amd64.deb ...\n",
            "Unpacking x11-utils (7.7+3build1) ...\n",
            "Selecting previously unselected package libatk-wrapper-java.\n",
            "Preparing to unpack .../04-libatk-wrapper-java_0.33.3-20ubuntu0.1_all.deb ...\n",
            "Unpacking libatk-wrapper-java (0.33.3-20ubuntu0.1) ...\n",
            "Selecting previously unselected package libatk-wrapper-java-jni:amd64.\n",
            "Preparing to unpack .../05-libatk-wrapper-java-jni_0.33.3-20ubuntu0.1_amd64.deb ...\n",
            "Unpacking libatk-wrapper-java-jni:amd64 (0.33.3-20ubuntu0.1) ...\n",
            "Selecting previously unselected package libgtk2.0-common.\n",
            "Preparing to unpack .../06-libgtk2.0-common_2.24.32-1ubuntu1_all.deb ...\n",
            "Unpacking libgtk2.0-common (2.24.32-1ubuntu1) ...\n",
            "Selecting previously unselected package libgtk2.0-0:amd64.\n",
            "Preparing to unpack .../07-libgtk2.0-0_2.24.32-1ubuntu1_amd64.deb ...\n",
            "Unpacking libgtk2.0-0:amd64 (2.24.32-1ubuntu1) ...\n",
            "Selecting previously unselected package libgail18:amd64.\n",
            "Preparing to unpack .../08-libgail18_2.24.32-1ubuntu1_amd64.deb ...\n",
            "Unpacking libgail18:amd64 (2.24.32-1ubuntu1) ...\n",
            "Selecting previously unselected package libgail-common:amd64.\n",
            "Preparing to unpack .../09-libgail-common_2.24.32-1ubuntu1_amd64.deb ...\n",
            "Unpacking libgail-common:amd64 (2.24.32-1ubuntu1) ...\n",
            "Selecting previously unselected package libgtk2.0-bin.\n",
            "Preparing to unpack .../10-libgtk2.0-bin_2.24.32-1ubuntu1_amd64.deb ...\n",
            "Unpacking libgtk2.0-bin (2.24.32-1ubuntu1) ...\n",
            "Selecting previously unselected package openjdk-8-jre:amd64.\n",
            "Preparing to unpack .../11-openjdk-8-jre_8u242-b08-0ubuntu3~18.04_amd64.deb ...\n",
            "Unpacking openjdk-8-jre:amd64 (8u242-b08-0ubuntu3~18.04) ...\n",
            "Selecting previously unselected package openjdk-8-jdk:amd64.\n",
            "Preparing to unpack .../12-openjdk-8-jdk_8u242-b08-0ubuntu3~18.04_amd64.deb ...\n",
            "Unpacking openjdk-8-jdk:amd64 (8u242-b08-0ubuntu3~18.04) ...\n",
            "Setting up libgtk2.0-common (2.24.32-1ubuntu1) ...\n",
            "Setting up fonts-dejavu-core (2.37-1) ...\n",
            "Setting up libxxf86dga1:amd64 (2:1.1.4-1) ...\n",
            "Setting up fonts-dejavu-extra (2.37-1) ...\n",
            "Setting up libgtk2.0-0:amd64 (2.24.32-1ubuntu1) ...\n",
            "Setting up libgail18:amd64 (2.24.32-1ubuntu1) ...\n",
            "Setting up x11-utils (7.7+3build1) ...\n",
            "Setting up libgail-common:amd64 (2.24.32-1ubuntu1) ...\n",
            "Setting up libatk-wrapper-java (0.33.3-20ubuntu0.1) ...\n",
            "Setting up libgtk2.0-bin (2.24.32-1ubuntu1) ...\n",
            "Setting up libatk-wrapper-java-jni:amd64 (0.33.3-20ubuntu0.1) ...\n",
            "Setting up openjdk-8-jre:amd64 (8u242-b08-0ubuntu3~18.04) ...\n",
            "update-alternatives: using /usr/lib/jvm/java-8-openjdk-amd64/jre/bin/policytool to provide /usr/bin/policytool (policytool) in auto mode\n",
            "Setting up openjdk-8-jdk:amd64 (8u242-b08-0ubuntu3~18.04) ...\n",
            "update-alternatives: using /usr/lib/jvm/java-8-openjdk-amd64/bin/appletviewer to provide /usr/bin/appletviewer (appletviewer) in auto mode\n",
            "update-alternatives: using /usr/lib/jvm/java-8-openjdk-amd64/bin/jconsole to provide /usr/bin/jconsole (jconsole) in auto mode\n",
            "Processing triggers for man-db (2.8.3-2ubuntu0.1) ...\n",
            "Processing triggers for hicolor-icon-theme (0.17-2) ...\n",
            "Processing triggers for fontconfig (2.12.6-0ubuntu2) ...\n",
            "Processing triggers for mime-support (3.60ubuntu1) ...\n",
            "Processing triggers for libc-bin (2.27-3ubuntu1) ...\n",
            "/sbin/ldconfig.real: /usr/local/lib/python3.6/dist-packages/ideep4py/lib/libmkldnn.so.0 is not a symbolic link\n",
            "\n",
            "update-alternatives: using /usr/lib/jvm/java-8-openjdk-amd64/jre/bin/java to provide /usr/bin/java (java) in manual mode\n",
            "Collecting language-check\n",
            "  Downloading https://files.pythonhosted.org/packages/97/45/0fd1d3683d6129f30fa09143fa383cdf6dff8bc0d1648f2cf156109cb772/language-check-1.1.tar.gz\n",
            "Building wheels for collected packages: language-check\n",
            "  Building wheel for language-check (setup.py) ... \u001b[?25l\u001b[?25hdone\n",
            "  Created wheel for language-check: filename=language_check-1.1-cp36-none-any.whl size=90190899 sha256=68feb9e9c42f38fc7764bcefc098f5d4212e8693d717833f1d8a021672cdd801\n",
            "  Stored in directory: /root/.cache/pip/wheels/d5/46/82/90a89c23eac1837364ed7217a9eed71bc9e6ad4825be93968e\n",
            "Successfully built language-check\n",
            "Installing collected packages: language-check\n",
            "Successfully installed language-check-1.1\n"
          ],
          "name": "stdout"
        }
      ]
    },
    {
      "cell_type": "code",
      "metadata": {
        "id": "8A16nGFYPjA_",
        "colab_type": "code",
        "outputId": "51126912-40f2-4ebe-d7b6-4af0c1643892",
        "colab": {
          "base_uri": "https://localhost:8080/",
          "height": 34
        }
      },
      "source": [
        "# Display figures in jupyter notebook\n",
        "%matplotlib inline\n",
        "\n",
        "# Ensure reproductbility between models\n",
        "torch.manual_seed(1)"
      ],
      "execution_count": 4,
      "outputs": [
        {
          "output_type": "execute_result",
          "data": {
            "text/plain": [
              "<torch._C.Generator at 0x7fa5a92317d0>"
            ]
          },
          "metadata": {
            "tags": []
          },
          "execution_count": 4
        }
      ]
    },
    {
      "cell_type": "markdown",
      "metadata": {
        "id": "UCoe7RbCASeG",
        "colab_type": "text"
      },
      "source": [
        "Define device"
      ]
    },
    {
      "cell_type": "code",
      "metadata": {
        "id": "eC9bPRqVVDz7",
        "colab_type": "code",
        "colab": {}
      },
      "source": [
        "device = torch.device('cuda' if torch.cuda.is_available() else 'cpu')"
      ],
      "execution_count": 0,
      "outputs": []
    },
    {
      "cell_type": "markdown",
      "metadata": {
        "id": "5iJZj4jZvHUN",
        "colab_type": "text"
      },
      "source": [
        "# 0. Data Analysis"
      ]
    },
    {
      "cell_type": "markdown",
      "metadata": {
        "id": "Pai7WL4F5z9z",
        "colab_type": "text"
      },
      "source": [
        "## 0. A) Exploration"
      ]
    },
    {
      "cell_type": "code",
      "metadata": {
        "id": "V0dV1eLWu5FW",
        "colab_type": "code",
        "colab": {}
      },
      "source": [
        "df = pd.read_csv(\"songdata.csv\")\n",
        "df = df.drop(columns=\"link\")"
      ],
      "execution_count": 0,
      "outputs": []
    },
    {
      "cell_type": "code",
      "metadata": {
        "id": "AgAKjtVCwDuv",
        "colab_type": "code",
        "outputId": "ad7727cd-fa6f-41bb-f134-76f6f925846f",
        "colab": {
          "base_uri": "https://localhost:8080/",
          "height": 195
        }
      },
      "source": [
        "df.head()"
      ],
      "execution_count": 113,
      "outputs": [
        {
          "output_type": "execute_result",
          "data": {
            "text/html": [
              "<div>\n",
              "<style scoped>\n",
              "    .dataframe tbody tr th:only-of-type {\n",
              "        vertical-align: middle;\n",
              "    }\n",
              "\n",
              "    .dataframe tbody tr th {\n",
              "        vertical-align: top;\n",
              "    }\n",
              "\n",
              "    .dataframe thead th {\n",
              "        text-align: right;\n",
              "    }\n",
              "</style>\n",
              "<table border=\"1\" class=\"dataframe\">\n",
              "  <thead>\n",
              "    <tr style=\"text-align: right;\">\n",
              "      <th></th>\n",
              "      <th>artist</th>\n",
              "      <th>song</th>\n",
              "      <th>text</th>\n",
              "    </tr>\n",
              "  </thead>\n",
              "  <tbody>\n",
              "    <tr>\n",
              "      <th>0</th>\n",
              "      <td>ABBA</td>\n",
              "      <td>Ahe's My Kind Of Girl</td>\n",
              "      <td>Look at her face, it's a wonderful face  \\nAnd...</td>\n",
              "    </tr>\n",
              "    <tr>\n",
              "      <th>1</th>\n",
              "      <td>ABBA</td>\n",
              "      <td>Andante, Andante</td>\n",
              "      <td>Take it easy with me, please  \\nTouch me gentl...</td>\n",
              "    </tr>\n",
              "    <tr>\n",
              "      <th>2</th>\n",
              "      <td>ABBA</td>\n",
              "      <td>As Good As New</td>\n",
              "      <td>I'll never know why I had to go  \\nWhy I had t...</td>\n",
              "    </tr>\n",
              "    <tr>\n",
              "      <th>3</th>\n",
              "      <td>ABBA</td>\n",
              "      <td>Bang</td>\n",
              "      <td>Making somebody happy is a question of give an...</td>\n",
              "    </tr>\n",
              "    <tr>\n",
              "      <th>4</th>\n",
              "      <td>ABBA</td>\n",
              "      <td>Bang-A-Boomerang</td>\n",
              "      <td>Making somebody happy is a question of give an...</td>\n",
              "    </tr>\n",
              "  </tbody>\n",
              "</table>\n",
              "</div>"
            ],
            "text/plain": [
              "  artist  ...                                               text\n",
              "0   ABBA  ...  Look at her face, it's a wonderful face  \\nAnd...\n",
              "1   ABBA  ...  Take it easy with me, please  \\nTouch me gentl...\n",
              "2   ABBA  ...  I'll never know why I had to go  \\nWhy I had t...\n",
              "3   ABBA  ...  Making somebody happy is a question of give an...\n",
              "4   ABBA  ...  Making somebody happy is a question of give an...\n",
              "\n",
              "[5 rows x 3 columns]"
            ]
          },
          "metadata": {
            "tags": []
          },
          "execution_count": 113
        }
      ]
    },
    {
      "cell_type": "code",
      "metadata": {
        "id": "vpjccVj5wB02",
        "colab_type": "code",
        "outputId": "3498f687-cf61-4527-daac-97d2dba0fd44",
        "colab": {
          "base_uri": "https://localhost:8080/",
          "height": 34
        }
      },
      "source": [
        "df.shape"
      ],
      "execution_count": 114,
      "outputs": [
        {
          "output_type": "execute_result",
          "data": {
            "text/plain": [
              "(57650, 3)"
            ]
          },
          "metadata": {
            "tags": []
          },
          "execution_count": 114
        }
      ]
    },
    {
      "cell_type": "code",
      "metadata": {
        "id": "Ygr-ivnOwK9_",
        "colab_type": "code",
        "outputId": "1cde9df3-35e1-4f5a-c7bb-7837a55c8314",
        "colab": {
          "base_uri": "https://localhost:8080/",
          "height": 218
        }
      },
      "source": [
        "df.artist.value_counts()"
      ],
      "execution_count": 115,
      "outputs": [
        {
          "output_type": "execute_result",
          "data": {
            "text/plain": [
              "Donna Summer        191\n",
              "Gordon Lightfoot    189\n",
              "Bob Dylan           188\n",
              "George Strait       188\n",
              "Alabama             187\n",
              "                   ... \n",
              "Zazie                 2\n",
              "Zed                   1\n",
              "Zoe                   1\n",
              "U-Kiss                1\n",
              "X-Treme               1\n",
              "Name: artist, Length: 643, dtype: int64"
            ]
          },
          "metadata": {
            "tags": []
          },
          "execution_count": 115
        }
      ]
    },
    {
      "cell_type": "code",
      "metadata": {
        "id": "UshfFeHyWZrN",
        "colab_type": "code",
        "colab": {}
      },
      "source": [
        "# (Note : Duplicate songs)\n",
        "len(df.song.unique())\n",
        "duplicated = df[df.duplicated(subset=['artist','song'])]"
      ],
      "execution_count": 0,
      "outputs": []
    },
    {
      "cell_type": "code",
      "metadata": {
        "id": "ZW2srGwbW1XN",
        "colab_type": "code",
        "outputId": "1556307e-e213-4cf7-be74-d83cf8072e24",
        "colab": {
          "base_uri": "https://localhost:8080/",
          "height": 106
        }
      },
      "source": [
        "duplicated"
      ],
      "execution_count": 117,
      "outputs": [
        {
          "output_type": "execute_result",
          "data": {
            "text/html": [
              "<div>\n",
              "<style scoped>\n",
              "    .dataframe tbody tr th:only-of-type {\n",
              "        vertical-align: middle;\n",
              "    }\n",
              "\n",
              "    .dataframe tbody tr th {\n",
              "        vertical-align: top;\n",
              "    }\n",
              "\n",
              "    .dataframe thead th {\n",
              "        text-align: right;\n",
              "    }\n",
              "</style>\n",
              "<table border=\"1\" class=\"dataframe\">\n",
              "  <thead>\n",
              "    <tr style=\"text-align: right;\">\n",
              "      <th></th>\n",
              "      <th>artist</th>\n",
              "      <th>song</th>\n",
              "      <th>text</th>\n",
              "    </tr>\n",
              "  </thead>\n",
              "  <tbody>\n",
              "    <tr>\n",
              "      <th>39082</th>\n",
              "      <td>Judy Garland</td>\n",
              "      <td>Look For The Silver Lining</td>\n",
              "      <td>As I wash my dishes, I'll be following a plan ...</td>\n",
              "    </tr>\n",
              "    <tr>\n",
              "      <th>52998</th>\n",
              "      <td>The Weeknd</td>\n",
              "      <td>Can't Feel My Face</td>\n",
              "      <td>[Verse 1]  \\nAnd I know she'll be the death of...</td>\n",
              "    </tr>\n",
              "  </tbody>\n",
              "</table>\n",
              "</div>"
            ],
            "text/plain": [
              "             artist  ...                                               text\n",
              "39082  Judy Garland  ...  As I wash my dishes, I'll be following a plan ...\n",
              "52998    The Weeknd  ...  [Verse 1]  \\nAnd I know she'll be the death of...\n",
              "\n",
              "[2 rows x 3 columns]"
            ]
          },
          "metadata": {
            "tags": []
          },
          "execution_count": 117
        }
      ]
    },
    {
      "cell_type": "code",
      "metadata": {
        "id": "hhBG5MJhvAbs",
        "colab_type": "code",
        "colab": {}
      },
      "source": [
        "# Add songs' total length\n",
        "df['len_text']= df.text.apply(len)"
      ],
      "execution_count": 0,
      "outputs": []
    },
    {
      "cell_type": "code",
      "metadata": {
        "id": "hoqTxqD2vs6N",
        "colab_type": "code",
        "outputId": "692e6624-91f0-408f-c5d8-0895c6780052",
        "colab": {
          "base_uri": "https://localhost:8080/",
          "height": 168
        }
      },
      "source": [
        "df.len_text.describe()"
      ],
      "execution_count": 119,
      "outputs": [
        {
          "output_type": "execute_result",
          "data": {
            "text/plain": [
              "count    57650.000000\n",
              "mean      1179.504892\n",
              "std        575.705050\n",
              "min        400.000000\n",
              "25%        784.000000\n",
              "50%       1052.000000\n",
              "75%       1415.000000\n",
              "max       3997.000000\n",
              "Name: len_text, dtype: float64"
            ]
          },
          "metadata": {
            "tags": []
          },
          "execution_count": 119
        }
      ]
    },
    {
      "cell_type": "code",
      "metadata": {
        "id": "JppgFCjS4x_U",
        "colab_type": "code",
        "outputId": "c4157dcb-0048-40ea-80da-0acdf9866eb9",
        "colab": {
          "base_uri": "https://localhost:8080/",
          "height": 34
        }
      },
      "source": [
        "sum(df.len_text)"
      ],
      "execution_count": 120,
      "outputs": [
        {
          "output_type": "execute_result",
          "data": {
            "text/plain": [
              "67998457"
            ]
          },
          "metadata": {
            "tags": []
          },
          "execution_count": 120
        }
      ]
    },
    {
      "cell_type": "code",
      "metadata": {
        "id": "QH7cCdhqw5f-",
        "colab_type": "code",
        "outputId": "26fbcc18-88a5-4415-e021-7cca062d3ba8",
        "colab": {
          "base_uri": "https://localhost:8080/",
          "height": 1000
        }
      },
      "source": [
        "#Sample lyrics\n",
        "print(df.text[142])"
      ],
      "execution_count": 121,
      "outputs": [
        {
          "output_type": "stream",
          "text": [
            "I heard, that you're settled down  \n",
            "That you found a girl and you're, married now  \n",
            "  \n",
            "I heard, that your dreams came true  \n",
            "I guess she gave you things  \n",
            "I didn't give to you  \n",
            "  \n",
            "Old friend, why are you so shy  \n",
            "Ain't like you to hold back  \n",
            "Or hide from the light  \n",
            "  \n",
            "I hate to turn up out of the blue uninvited but I  \n",
            "Couldn't stay away I couldn't fight it  \n",
            "I had hoped you'd see my face  \n",
            "And that you be reminded that for me it isn't over  \n",
            "  \n",
            "Never mind I'll find someone like you  \n",
            "I wish nothing but the best  \n",
            "For you too, don't forget me  \n",
            "I beg, I'll remember you say  \n",
            "Sometimes it lasts in love  \n",
            "But sometimes it hurts instead  \n",
            "Sometimes it lasts in love  \n",
            "But sometimes it hurts instead yeah  \n",
            "  \n",
            "You know how the time flies  \n",
            "Only yesterday it was the time of our lives  \n",
            "We were born and raised  \n",
            "In a summer haze bound by the surprise  \n",
            "Of our glory days  \n",
            "  \n",
            "I hate to turn up out of the blue uninvited but I  \n",
            "Couldn't stay away I couldn't fight it  \n",
            "I hoped you'd see my face  \n",
            "And that you'd be reminded that for me it isn't over  \n",
            "  \n",
            "Never mind I'll find someone like you  \n",
            "I wish nothing but the best for you too  \n",
            "Don't forget me I beg, I'll remember you say  \n",
            "Sometimes it lasts in love but sometimes it hurts instead  \n",
            "  \n",
            "Nothing compares no worries or cares  \n",
            "Regrets and mistakes their memories made  \n",
            "Who would have known how bittersweet  \n",
            "This would taste  \n",
            "  \n",
            "Never mind I'll find someone like you  \n",
            "I wish nothing but the best for you  \n",
            "Don't forget me I beg, I'll remember you say  \n",
            "Sometimes it lasts in love but sometimes it hurts instead  \n",
            "  \n",
            "Never mind I'll find someone like you  \n",
            "I wish nothing but the best for you too  \n",
            "Don't forget me I beg, I'll remember you say  \n",
            "Sometimes it lasts in love but sometimes it hurts instead  \n",
            "  \n",
            "Sometimes it lasts in love but sometimes it hurts instead\n",
            "\n",
            "\n"
          ],
          "name": "stdout"
        }
      ]
    },
    {
      "cell_type": "markdown",
      "metadata": {
        "id": "MEqgdbLd6F8n",
        "colab_type": "text"
      },
      "source": [
        "## 0. B) Calculate some characteristics"
      ]
    },
    {
      "cell_type": "code",
      "metadata": {
        "id": "eTlIz6K22AEi",
        "colab_type": "code",
        "colab": {}
      },
      "source": [
        "def get_mean_nb_lines_per_para(x):\n",
        "  \"\"\"Calculate the mean number of lines in a paragraph\"\"\"\n",
        "  # Une fin de chanson se traduit par '\\n\\n'\n",
        "  # Compter la dernière ligne (+1)\n",
        "  lignes_par_para = [t.replace('\\n\\n','').count('\\n') + 1 for t in x.split('\\n  \\n')]\n",
        "  return math.ceil(np.mean(lignes_par_para))\n",
        "\n",
        "def get_lines(x):\n",
        "  \"\"\"Return a list of the lines of a song\"\"\"\n",
        "  #Split in lines\n",
        "  lines = x.split('\\n')\n",
        "  # Remove trailing spaces\n",
        "  r = [j.strip() for j in lines]\n",
        "  # Remove empty lines\n",
        "  return [x for x in r if len(x)>0]\n",
        "\n",
        "def get_mean_len_line(x):\n",
        "  \"\"\"Calculate average length of a line\"\"\"\n",
        "  # Calculate len of lines\n",
        "  len_lines= [len(r) for r in x]\n",
        "  # Return mean length\n",
        "  return math.ceil(np.mean(len_lines))\n",
        "\n",
        "def get_mean_nb_words_per_line(x):\n",
        "  \"\"\"Calculate average nb of words of a line\"\"\"\n",
        "  # Calculate len of lines\n",
        "  words_list = [j.split(\" \") for j in x]\n",
        "  nb_words= [len(r) for r in words_list]\n",
        "  # Return mean length\n",
        "  return math.ceil(np.mean(nb_words))\n",
        "\n",
        "def get_nb_repeated_lines(x):\n",
        "  \"\"\"Calculate the number of lines that are repeated\"\"\"\n",
        "  l = [normalize(j) for j in x]\n",
        "  d = dict(Counter(l))\n",
        "  return sum(1 for i in d.values() if i >= 2)\n",
        "\n",
        "def normalize(text):\n",
        "  \"Custom function to remove punctuation and lower text\"\n",
        "  text= \"\".join(v for v in text if v not in string.punctuation)\n",
        "  return text.lower()\n",
        "\n",
        "def get_nb_words(x):\n",
        "  \"\"\"Calculate nb of words in a song (x is the list of lines)\"\"\"\n",
        "  # Calculate len of lines\n",
        "  words_list = [j.strip().split(\" \") for j in x]\n",
        "  nb_words= [len(r) for r in words_list]\n",
        "  return sum(nb_words)"
      ],
      "execution_count": 0,
      "outputs": []
    },
    {
      "cell_type": "code",
      "metadata": {
        "id": "wJvBCTJ4x9O-",
        "colab_type": "code",
        "colab": {}
      },
      "source": [
        "df['nb_songs']=df.groupby('artist').count()['song']\n",
        "df['lines']=df.text.apply(get_lines)\n",
        "df['nb_paragraphes']= df.text.apply(lambda x: x.count('\\n  \\n')+1)\n",
        "df['mean_nb_lines_per_para'] = df.text.apply(get_mean_nb_lines_per_para)\n",
        "df['nb_lines']=df.lines.apply(len)\n",
        "df['mean_len_line']= df.lines.apply(get_mean_len_line)\n",
        "df['nb_repeated_lines']= df.lines.apply(get_nb_repeated_lines)\n",
        "df['mean_nb_words_per_line']= df.lines.apply(get_mean_nb_words_per_line)"
      ],
      "execution_count": 0,
      "outputs": []
    },
    {
      "cell_type": "code",
      "metadata": {
        "id": "BevoFBA55E-D",
        "colab_type": "code",
        "outputId": "0218cc6a-bafd-4aee-e154-515f2c1ef148",
        "colab": {
          "base_uri": "https://localhost:8080/",
          "height": 235
        }
      },
      "source": [
        "# Simple check\n",
        "df.iloc[142,:]"
      ],
      "execution_count": 124,
      "outputs": [
        {
          "output_type": "execute_result",
          "data": {
            "text/plain": [
              "artist                                                                Adele\n",
              "song                                                       Someone Like You\n",
              "text                      I heard, that you're settled down  \\nThat you ...\n",
              "len_text                                                               1836\n",
              "nb_songs                                                                NaN\n",
              "lines                     [I heard, that you're settled down, That you f...\n",
              "nb_paragraphes                                                           12\n",
              "mean_nb_lines_per_para                                                    4\n",
              "nb_lines                                                                 46\n",
              "mean_len_line                                                            37\n",
              "nb_repeated_lines                                                         7\n",
              "mean_nb_words_per_line                                                    8\n",
              "Name: 142, dtype: object"
            ]
          },
          "metadata": {
            "tags": []
          },
          "execution_count": 124
        }
      ]
    },
    {
      "cell_type": "markdown",
      "metadata": {
        "id": "d62Y0q6xOw1j",
        "colab_type": "text"
      },
      "source": [
        "Create a dataframe with artists as index"
      ]
    },
    {
      "cell_type": "code",
      "metadata": {
        "id": "6Ja3H3qk8l3W",
        "colab_type": "code",
        "outputId": "4802dc18-0fe6-4a23-9b5c-bf57fe89d85c",
        "colab": {
          "base_uri": "https://localhost:8080/",
          "height": 225
        }
      },
      "source": [
        "# Get mean values for each artist\n",
        "artists_df = df.groupby('artist').mean()\n",
        "artists_df['nb_songs'] = df.groupby('artist').count()['song']\n",
        "artists_df = artists_df.astype(int)\n",
        "artists_df.head()"
      ],
      "execution_count": 21,
      "outputs": [
        {
          "output_type": "execute_result",
          "data": {
            "text/html": [
              "<div>\n",
              "<style scoped>\n",
              "    .dataframe tbody tr th:only-of-type {\n",
              "        vertical-align: middle;\n",
              "    }\n",
              "\n",
              "    .dataframe tbody tr th {\n",
              "        vertical-align: top;\n",
              "    }\n",
              "\n",
              "    .dataframe thead th {\n",
              "        text-align: right;\n",
              "    }\n",
              "</style>\n",
              "<table border=\"1\" class=\"dataframe\">\n",
              "  <thead>\n",
              "    <tr style=\"text-align: right;\">\n",
              "      <th></th>\n",
              "      <th>len_text</th>\n",
              "      <th>nb_songs</th>\n",
              "      <th>nb_paragraphes</th>\n",
              "      <th>mean_nb_lines_per_para</th>\n",
              "      <th>nb_lines</th>\n",
              "      <th>mean_len_line</th>\n",
              "      <th>nb_repeated_lines</th>\n",
              "      <th>mean_nb_words_per_line</th>\n",
              "    </tr>\n",
              "    <tr>\n",
              "      <th>artist</th>\n",
              "      <th></th>\n",
              "      <th></th>\n",
              "      <th></th>\n",
              "      <th></th>\n",
              "      <th></th>\n",
              "      <th></th>\n",
              "      <th></th>\n",
              "      <th></th>\n",
              "    </tr>\n",
              "  </thead>\n",
              "  <tbody>\n",
              "    <tr>\n",
              "      <th>'n Sync</th>\n",
              "      <td>1432</td>\n",
              "      <td>93</td>\n",
              "      <td>7</td>\n",
              "      <td>8</td>\n",
              "      <td>45</td>\n",
              "      <td>29</td>\n",
              "      <td>6</td>\n",
              "      <td>6</td>\n",
              "    </tr>\n",
              "    <tr>\n",
              "      <th>ABBA</th>\n",
              "      <td>1340</td>\n",
              "      <td>113</td>\n",
              "      <td>6</td>\n",
              "      <td>7</td>\n",
              "      <td>38</td>\n",
              "      <td>32</td>\n",
              "      <td>7</td>\n",
              "      <td>7</td>\n",
              "    </tr>\n",
              "    <tr>\n",
              "      <th>Ace Of Base</th>\n",
              "      <td>1288</td>\n",
              "      <td>74</td>\n",
              "      <td>8</td>\n",
              "      <td>6</td>\n",
              "      <td>42</td>\n",
              "      <td>27</td>\n",
              "      <td>6</td>\n",
              "      <td>6</td>\n",
              "    </tr>\n",
              "    <tr>\n",
              "      <th>Adam Sandler</th>\n",
              "      <td>1475</td>\n",
              "      <td>70</td>\n",
              "      <td>7</td>\n",
              "      <td>13</td>\n",
              "      <td>41</td>\n",
              "      <td>33</td>\n",
              "      <td>2</td>\n",
              "      <td>6</td>\n",
              "    </tr>\n",
              "    <tr>\n",
              "      <th>Adele</th>\n",
              "      <td>1523</td>\n",
              "      <td>54</td>\n",
              "      <td>7</td>\n",
              "      <td>6</td>\n",
              "      <td>46</td>\n",
              "      <td>31</td>\n",
              "      <td>8</td>\n",
              "      <td>7</td>\n",
              "    </tr>\n",
              "  </tbody>\n",
              "</table>\n",
              "</div>"
            ],
            "text/plain": [
              "              len_text  nb_songs  ...  nb_repeated_lines  mean_nb_words_per_line\n",
              "artist                            ...                                           \n",
              "'n Sync           1432        93  ...                  6                       6\n",
              "ABBA              1340       113  ...                  7                       7\n",
              "Ace Of Base       1288        74  ...                  6                       6\n",
              "Adam Sandler      1475        70  ...                  2                       6\n",
              "Adele             1523        54  ...                  8                       7\n",
              "\n",
              "[5 rows x 8 columns]"
            ]
          },
          "metadata": {
            "tags": []
          },
          "execution_count": 21
        }
      ]
    },
    {
      "cell_type": "code",
      "metadata": {
        "id": "5FGSdqf_IHEt",
        "colab_type": "code",
        "outputId": "8219bcc1-fbed-401e-a6a2-41d96e5280f6",
        "colab": {
          "base_uri": "https://localhost:8080/",
          "height": 34
        }
      },
      "source": [
        "# Number of artists\n",
        "len(artists_df.index)"
      ],
      "execution_count": 22,
      "outputs": [
        {
          "output_type": "execute_result",
          "data": {
            "text/plain": [
              "643"
            ]
          },
          "metadata": {
            "tags": []
          },
          "execution_count": 22
        }
      ]
    },
    {
      "cell_type": "code",
      "metadata": {
        "id": "DXnhCBhDRiaS",
        "colab_type": "code",
        "outputId": "2b6373d5-c1d3-4113-c12d-3ea5a04d9d5e",
        "colab": {
          "base_uri": "https://localhost:8080/",
          "height": 284
        }
      },
      "source": [
        "artists_df.describe()"
      ],
      "execution_count": 23,
      "outputs": [
        {
          "output_type": "execute_result",
          "data": {
            "text/html": [
              "<div>\n",
              "<style scoped>\n",
              "    .dataframe tbody tr th:only-of-type {\n",
              "        vertical-align: middle;\n",
              "    }\n",
              "\n",
              "    .dataframe tbody tr th {\n",
              "        vertical-align: top;\n",
              "    }\n",
              "\n",
              "    .dataframe thead th {\n",
              "        text-align: right;\n",
              "    }\n",
              "</style>\n",
              "<table border=\"1\" class=\"dataframe\">\n",
              "  <thead>\n",
              "    <tr style=\"text-align: right;\">\n",
              "      <th></th>\n",
              "      <th>len_text</th>\n",
              "      <th>nb_songs</th>\n",
              "      <th>nb_paragraphes</th>\n",
              "      <th>mean_nb_lines_per_para</th>\n",
              "      <th>nb_lines</th>\n",
              "      <th>mean_len_line</th>\n",
              "      <th>nb_repeated_lines</th>\n",
              "      <th>mean_nb_words_per_line</th>\n",
              "    </tr>\n",
              "  </thead>\n",
              "  <tbody>\n",
              "    <tr>\n",
              "      <th>count</th>\n",
              "      <td>643.000000</td>\n",
              "      <td>643.000000</td>\n",
              "      <td>643.000000</td>\n",
              "      <td>643.000000</td>\n",
              "      <td>643.000000</td>\n",
              "      <td>643.000000</td>\n",
              "      <td>643.000000</td>\n",
              "      <td>643.000000</td>\n",
              "    </tr>\n",
              "    <tr>\n",
              "      <th>mean</th>\n",
              "      <td>1227.167963</td>\n",
              "      <td>89.657854</td>\n",
              "      <td>5.782271</td>\n",
              "      <td>9.897356</td>\n",
              "      <td>35.671851</td>\n",
              "      <td>31.451011</td>\n",
              "      <td>4.270607</td>\n",
              "      <td>6.483670</td>\n",
              "    </tr>\n",
              "    <tr>\n",
              "      <th>std</th>\n",
              "      <td>453.476903</td>\n",
              "      <td>54.689192</td>\n",
              "      <td>2.113419</td>\n",
              "      <td>5.650686</td>\n",
              "      <td>11.274248</td>\n",
              "      <td>4.254594</td>\n",
              "      <td>1.888197</td>\n",
              "      <td>0.922696</td>\n",
              "    </tr>\n",
              "    <tr>\n",
              "      <th>min</th>\n",
              "      <td>469.000000</td>\n",
              "      <td>1.000000</td>\n",
              "      <td>1.000000</td>\n",
              "      <td>3.000000</td>\n",
              "      <td>16.000000</td>\n",
              "      <td>20.000000</td>\n",
              "      <td>0.000000</td>\n",
              "      <td>4.000000</td>\n",
              "    </tr>\n",
              "    <tr>\n",
              "      <th>25%</th>\n",
              "      <td>958.500000</td>\n",
              "      <td>41.000000</td>\n",
              "      <td>4.500000</td>\n",
              "      <td>6.000000</td>\n",
              "      <td>28.000000</td>\n",
              "      <td>29.000000</td>\n",
              "      <td>3.000000</td>\n",
              "      <td>6.000000</td>\n",
              "    </tr>\n",
              "    <tr>\n",
              "      <th>50%</th>\n",
              "      <td>1110.000000</td>\n",
              "      <td>86.000000</td>\n",
              "      <td>6.000000</td>\n",
              "      <td>8.000000</td>\n",
              "      <td>33.000000</td>\n",
              "      <td>31.000000</td>\n",
              "      <td>4.000000</td>\n",
              "      <td>6.000000</td>\n",
              "    </tr>\n",
              "    <tr>\n",
              "      <th>75%</th>\n",
              "      <td>1337.000000</td>\n",
              "      <td>141.000000</td>\n",
              "      <td>7.000000</td>\n",
              "      <td>12.000000</td>\n",
              "      <td>40.000000</td>\n",
              "      <td>33.000000</td>\n",
              "      <td>5.000000</td>\n",
              "      <td>7.000000</td>\n",
              "    </tr>\n",
              "    <tr>\n",
              "      <th>max</th>\n",
              "      <td>3134.000000</td>\n",
              "      <td>191.000000</td>\n",
              "      <td>24.000000</td>\n",
              "      <td>46.000000</td>\n",
              "      <td>75.000000</td>\n",
              "      <td>57.000000</td>\n",
              "      <td>13.000000</td>\n",
              "      <td>12.000000</td>\n",
              "    </tr>\n",
              "  </tbody>\n",
              "</table>\n",
              "</div>"
            ],
            "text/plain": [
              "          len_text    nb_songs  ...  nb_repeated_lines  mean_nb_words_per_line\n",
              "count   643.000000  643.000000  ...         643.000000              643.000000\n",
              "mean   1227.167963   89.657854  ...           4.270607                6.483670\n",
              "std     453.476903   54.689192  ...           1.888197                0.922696\n",
              "min     469.000000    1.000000  ...           0.000000                4.000000\n",
              "25%     958.500000   41.000000  ...           3.000000                6.000000\n",
              "50%    1110.000000   86.000000  ...           4.000000                6.000000\n",
              "75%    1337.000000  141.000000  ...           5.000000                7.000000\n",
              "max    3134.000000  191.000000  ...          13.000000               12.000000\n",
              "\n",
              "[8 rows x 8 columns]"
            ]
          },
          "metadata": {
            "tags": []
          },
          "execution_count": 23
        }
      ]
    },
    {
      "cell_type": "markdown",
      "metadata": {
        "id": "9Z36DKY3CKeo",
        "colab_type": "text"
      },
      "source": [
        "Choose artist to duplicate his style"
      ]
    },
    {
      "cell_type": "code",
      "metadata": {
        "id": "5G5c31rQ5KO5",
        "colab_type": "code",
        "colab": {}
      },
      "source": [
        "# Get artists with most songs\n",
        "#artists_df.sort_values(by=['nb_songs'], ascending=False).iloc[100:150,:]"
      ],
      "execution_count": 0,
      "outputs": []
    },
    {
      "cell_type": "code",
      "metadata": {
        "id": "UTzUPOae7X7_",
        "colab_type": "code",
        "colab": {}
      },
      "source": [
        "# Some artists with lots of songs\n",
        "artists = ['Elton John','Michael Jackson','Red Hot Chili Peppers', 'The Beatles', 'Queen', 'Mariah Carey', 'Britney Spears', 'Miley Cyrus']"
      ],
      "execution_count": 0,
      "outputs": []
    },
    {
      "cell_type": "code",
      "metadata": {
        "id": "FhAVI3BzIpjw",
        "colab_type": "code",
        "outputId": "269518e8-47ee-4a18-d739-0bf4c9669b59",
        "colab": {
          "base_uri": "https://localhost:8080/",
          "height": 330
        }
      },
      "source": [
        "artists_df.loc[artists,]"
      ],
      "execution_count": 26,
      "outputs": [
        {
          "output_type": "execute_result",
          "data": {
            "text/html": [
              "<div>\n",
              "<style scoped>\n",
              "    .dataframe tbody tr th:only-of-type {\n",
              "        vertical-align: middle;\n",
              "    }\n",
              "\n",
              "    .dataframe tbody tr th {\n",
              "        vertical-align: top;\n",
              "    }\n",
              "\n",
              "    .dataframe thead th {\n",
              "        text-align: right;\n",
              "    }\n",
              "</style>\n",
              "<table border=\"1\" class=\"dataframe\">\n",
              "  <thead>\n",
              "    <tr style=\"text-align: right;\">\n",
              "      <th></th>\n",
              "      <th>len_text</th>\n",
              "      <th>nb_songs</th>\n",
              "      <th>nb_paragraphes</th>\n",
              "      <th>mean_nb_lines_per_para</th>\n",
              "      <th>nb_lines</th>\n",
              "      <th>mean_len_line</th>\n",
              "      <th>nb_repeated_lines</th>\n",
              "      <th>mean_nb_words_per_line</th>\n",
              "    </tr>\n",
              "    <tr>\n",
              "      <th>artist</th>\n",
              "      <th></th>\n",
              "      <th></th>\n",
              "      <th></th>\n",
              "      <th></th>\n",
              "      <th></th>\n",
              "      <th></th>\n",
              "      <th></th>\n",
              "      <th></th>\n",
              "    </tr>\n",
              "  </thead>\n",
              "  <tbody>\n",
              "    <tr>\n",
              "      <th>Elton John</th>\n",
              "      <td>1017</td>\n",
              "      <td>175</td>\n",
              "      <td>5</td>\n",
              "      <td>7</td>\n",
              "      <td>27</td>\n",
              "      <td>34</td>\n",
              "      <td>3</td>\n",
              "      <td>7</td>\n",
              "    </tr>\n",
              "    <tr>\n",
              "      <th>Michael Jackson</th>\n",
              "      <td>1484</td>\n",
              "      <td>176</td>\n",
              "      <td>9</td>\n",
              "      <td>6</td>\n",
              "      <td>48</td>\n",
              "      <td>29</td>\n",
              "      <td>7</td>\n",
              "      <td>6</td>\n",
              "    </tr>\n",
              "    <tr>\n",
              "      <th>Red Hot Chili Peppers</th>\n",
              "      <td>1311</td>\n",
              "      <td>173</td>\n",
              "      <td>8</td>\n",
              "      <td>8</td>\n",
              "      <td>42</td>\n",
              "      <td>28</td>\n",
              "      <td>6</td>\n",
              "      <td>6</td>\n",
              "    </tr>\n",
              "    <tr>\n",
              "      <th>The Beatles</th>\n",
              "      <td>919</td>\n",
              "      <td>178</td>\n",
              "      <td>5</td>\n",
              "      <td>6</td>\n",
              "      <td>28</td>\n",
              "      <td>31</td>\n",
              "      <td>5</td>\n",
              "      <td>6</td>\n",
              "    </tr>\n",
              "    <tr>\n",
              "      <th>Queen</th>\n",
              "      <td>1235</td>\n",
              "      <td>163</td>\n",
              "      <td>5</td>\n",
              "      <td>10</td>\n",
              "      <td>37</td>\n",
              "      <td>30</td>\n",
              "      <td>3</td>\n",
              "      <td>6</td>\n",
              "    </tr>\n",
              "    <tr>\n",
              "      <th>Mariah Carey</th>\n",
              "      <td>1551</td>\n",
              "      <td>159</td>\n",
              "      <td>8</td>\n",
              "      <td>8</td>\n",
              "      <td>54</td>\n",
              "      <td>26</td>\n",
              "      <td>7</td>\n",
              "      <td>5</td>\n",
              "    </tr>\n",
              "    <tr>\n",
              "      <th>Britney Spears</th>\n",
              "      <td>1418</td>\n",
              "      <td>158</td>\n",
              "      <td>9</td>\n",
              "      <td>6</td>\n",
              "      <td>49</td>\n",
              "      <td>26</td>\n",
              "      <td>8</td>\n",
              "      <td>6</td>\n",
              "    </tr>\n",
              "    <tr>\n",
              "      <th>Miley Cyrus</th>\n",
              "      <td>1513</td>\n",
              "      <td>147</td>\n",
              "      <td>9</td>\n",
              "      <td>7</td>\n",
              "      <td>49</td>\n",
              "      <td>29</td>\n",
              "      <td>7</td>\n",
              "      <td>6</td>\n",
              "    </tr>\n",
              "  </tbody>\n",
              "</table>\n",
              "</div>"
            ],
            "text/plain": [
              "                       len_text  ...  mean_nb_words_per_line\n",
              "artist                           ...                        \n",
              "Elton John                 1017  ...                       7\n",
              "Michael Jackson            1484  ...                       6\n",
              "Red Hot Chili Peppers      1311  ...                       6\n",
              "The Beatles                 919  ...                       6\n",
              "Queen                      1235  ...                       6\n",
              "Mariah Carey               1551  ...                       5\n",
              "Britney Spears             1418  ...                       6\n",
              "Miley Cyrus                1513  ...                       6\n",
              "\n",
              "[8 rows x 8 columns]"
            ]
          },
          "metadata": {
            "tags": []
          },
          "execution_count": 26
        }
      ]
    },
    {
      "cell_type": "markdown",
      "metadata": {
        "id": "WbOunA-OAJLP",
        "colab_type": "text"
      },
      "source": [
        "Evaluate parameters's std for chosen artists"
      ]
    },
    {
      "cell_type": "code",
      "metadata": {
        "id": "Fn8ITi3b6uNW",
        "colab_type": "code",
        "colab": {}
      },
      "source": [
        "artists_std = df.groupby('artist').std()"
      ],
      "execution_count": 0,
      "outputs": []
    },
    {
      "cell_type": "code",
      "metadata": {
        "id": "HlKOUqEN8H-3",
        "colab_type": "code",
        "outputId": "8e1fb213-9643-4129-e8d5-f19dab07e1b2",
        "colab": {
          "base_uri": "https://localhost:8080/",
          "height": 284
        }
      },
      "source": [
        "artists_std.describe()"
      ],
      "execution_count": 28,
      "outputs": [
        {
          "output_type": "execute_result",
          "data": {
            "text/html": [
              "<div>\n",
              "<style scoped>\n",
              "    .dataframe tbody tr th:only-of-type {\n",
              "        vertical-align: middle;\n",
              "    }\n",
              "\n",
              "    .dataframe tbody tr th {\n",
              "        vertical-align: top;\n",
              "    }\n",
              "\n",
              "    .dataframe thead th {\n",
              "        text-align: right;\n",
              "    }\n",
              "</style>\n",
              "<table border=\"1\" class=\"dataframe\">\n",
              "  <thead>\n",
              "    <tr style=\"text-align: right;\">\n",
              "      <th></th>\n",
              "      <th>len_text</th>\n",
              "      <th>nb_songs</th>\n",
              "      <th>nb_paragraphes</th>\n",
              "      <th>mean_nb_lines_per_para</th>\n",
              "      <th>nb_lines</th>\n",
              "      <th>mean_len_line</th>\n",
              "      <th>nb_repeated_lines</th>\n",
              "      <th>mean_nb_words_per_line</th>\n",
              "    </tr>\n",
              "  </thead>\n",
              "  <tbody>\n",
              "    <tr>\n",
              "      <th>count</th>\n",
              "      <td>639.000000</td>\n",
              "      <td>0.0</td>\n",
              "      <td>639.000000</td>\n",
              "      <td>639.000000</td>\n",
              "      <td>639.000000</td>\n",
              "      <td>639.000000</td>\n",
              "      <td>639.000000</td>\n",
              "      <td>639.000000</td>\n",
              "    </tr>\n",
              "    <tr>\n",
              "      <th>mean</th>\n",
              "      <td>433.882946</td>\n",
              "      <td>NaN</td>\n",
              "      <td>3.660423</td>\n",
              "      <td>9.648318</td>\n",
              "      <td>13.699595</td>\n",
              "      <td>7.200135</td>\n",
              "      <td>3.377558</td>\n",
              "      <td>1.484262</td>\n",
              "    </tr>\n",
              "    <tr>\n",
              "      <th>std</th>\n",
              "      <td>166.415804</td>\n",
              "      <td>NaN</td>\n",
              "      <td>2.103006</td>\n",
              "      <td>5.781015</td>\n",
              "      <td>4.956040</td>\n",
              "      <td>1.845670</td>\n",
              "      <td>0.965796</td>\n",
              "      <td>0.381786</td>\n",
              "    </tr>\n",
              "    <tr>\n",
              "      <th>min</th>\n",
              "      <td>23.334524</td>\n",
              "      <td>NaN</td>\n",
              "      <td>0.000000</td>\n",
              "      <td>0.000000</td>\n",
              "      <td>1.414214</td>\n",
              "      <td>0.707107</td>\n",
              "      <td>0.000000</td>\n",
              "      <td>0.000000</td>\n",
              "    </tr>\n",
              "    <tr>\n",
              "      <th>25%</th>\n",
              "      <td>328.437384</td>\n",
              "      <td>NaN</td>\n",
              "      <td>2.739772</td>\n",
              "      <td>5.661232</td>\n",
              "      <td>10.467930</td>\n",
              "      <td>6.107262</td>\n",
              "      <td>2.745934</td>\n",
              "      <td>1.260207</td>\n",
              "    </tr>\n",
              "    <tr>\n",
              "      <th>50%</th>\n",
              "      <td>389.883439</td>\n",
              "      <td>NaN</td>\n",
              "      <td>3.208837</td>\n",
              "      <td>8.832752</td>\n",
              "      <td>12.737054</td>\n",
              "      <td>7.023769</td>\n",
              "      <td>3.279342</td>\n",
              "      <td>1.451049</td>\n",
              "    </tr>\n",
              "    <tr>\n",
              "      <th>75%</th>\n",
              "      <td>490.807553</td>\n",
              "      <td>NaN</td>\n",
              "      <td>4.064897</td>\n",
              "      <td>12.511770</td>\n",
              "      <td>15.650522</td>\n",
              "      <td>8.006069</td>\n",
              "      <td>3.889059</td>\n",
              "      <td>1.654932</td>\n",
              "    </tr>\n",
              "    <tr>\n",
              "      <th>max</th>\n",
              "      <td>1154.937661</td>\n",
              "      <td>NaN</td>\n",
              "      <td>32.201426</td>\n",
              "      <td>39.715656</td>\n",
              "      <td>41.055180</td>\n",
              "      <td>23.891421</td>\n",
              "      <td>9.131258</td>\n",
              "      <td>5.683309</td>\n",
              "    </tr>\n",
              "  </tbody>\n",
              "</table>\n",
              "</div>"
            ],
            "text/plain": [
              "          len_text  nb_songs  ...  nb_repeated_lines  mean_nb_words_per_line\n",
              "count   639.000000       0.0  ...         639.000000              639.000000\n",
              "mean    433.882946       NaN  ...           3.377558                1.484262\n",
              "std     166.415804       NaN  ...           0.965796                0.381786\n",
              "min      23.334524       NaN  ...           0.000000                0.000000\n",
              "25%     328.437384       NaN  ...           2.745934                1.260207\n",
              "50%     389.883439       NaN  ...           3.279342                1.451049\n",
              "75%     490.807553       NaN  ...           3.889059                1.654932\n",
              "max    1154.937661       NaN  ...           9.131258                5.683309\n",
              "\n",
              "[8 rows x 8 columns]"
            ]
          },
          "metadata": {
            "tags": []
          },
          "execution_count": 28
        }
      ]
    },
    {
      "cell_type": "code",
      "metadata": {
        "id": "WoFUFUHZ7szW",
        "colab_type": "code",
        "outputId": "184ec72b-4ca9-4a3a-a5bc-fbf3326de46e",
        "colab": {
          "base_uri": "https://localhost:8080/",
          "height": 347
        }
      },
      "source": [
        "artists_std.loc[artists,]"
      ],
      "execution_count": 29,
      "outputs": [
        {
          "output_type": "execute_result",
          "data": {
            "text/html": [
              "<div>\n",
              "<style scoped>\n",
              "    .dataframe tbody tr th:only-of-type {\n",
              "        vertical-align: middle;\n",
              "    }\n",
              "\n",
              "    .dataframe tbody tr th {\n",
              "        vertical-align: top;\n",
              "    }\n",
              "\n",
              "    .dataframe thead th {\n",
              "        text-align: right;\n",
              "    }\n",
              "</style>\n",
              "<table border=\"1\" class=\"dataframe\">\n",
              "  <thead>\n",
              "    <tr style=\"text-align: right;\">\n",
              "      <th></th>\n",
              "      <th>len_text</th>\n",
              "      <th>nb_songs</th>\n",
              "      <th>nb_paragraphes</th>\n",
              "      <th>mean_nb_lines_per_para</th>\n",
              "      <th>nb_lines</th>\n",
              "      <th>mean_len_line</th>\n",
              "      <th>nb_repeated_lines</th>\n",
              "      <th>mean_nb_words_per_line</th>\n",
              "    </tr>\n",
              "    <tr>\n",
              "      <th>artist</th>\n",
              "      <th></th>\n",
              "      <th></th>\n",
              "      <th></th>\n",
              "      <th></th>\n",
              "      <th></th>\n",
              "      <th></th>\n",
              "      <th></th>\n",
              "      <th></th>\n",
              "    </tr>\n",
              "  </thead>\n",
              "  <tbody>\n",
              "    <tr>\n",
              "      <th>Elton John</th>\n",
              "      <td>365.567024</td>\n",
              "      <td>NaN</td>\n",
              "      <td>2.955199</td>\n",
              "      <td>7.591491</td>\n",
              "      <td>11.035792</td>\n",
              "      <td>8.238693</td>\n",
              "      <td>3.339449</td>\n",
              "      <td>1.668150</td>\n",
              "    </tr>\n",
              "    <tr>\n",
              "      <th>Michael Jackson</th>\n",
              "      <td>656.260869</td>\n",
              "      <td>NaN</td>\n",
              "      <td>4.792090</td>\n",
              "      <td>5.534282</td>\n",
              "      <td>25.642487</td>\n",
              "      <td>6.901155</td>\n",
              "      <td>4.887856</td>\n",
              "      <td>1.409753</td>\n",
              "    </tr>\n",
              "    <tr>\n",
              "      <th>Red Hot Chili Peppers</th>\n",
              "      <td>463.726257</td>\n",
              "      <td>NaN</td>\n",
              "      <td>4.696080</td>\n",
              "      <td>9.135358</td>\n",
              "      <td>15.039999</td>\n",
              "      <td>7.348780</td>\n",
              "      <td>4.349197</td>\n",
              "      <td>1.483407</td>\n",
              "    </tr>\n",
              "    <tr>\n",
              "      <th>The Beatles</th>\n",
              "      <td>263.633482</td>\n",
              "      <td>NaN</td>\n",
              "      <td>2.756507</td>\n",
              "      <td>5.054646</td>\n",
              "      <td>9.345490</td>\n",
              "      <td>7.882935</td>\n",
              "      <td>3.317003</td>\n",
              "      <td>1.576193</td>\n",
              "    </tr>\n",
              "    <tr>\n",
              "      <th>Queen</th>\n",
              "      <td>411.932033</td>\n",
              "      <td>NaN</td>\n",
              "      <td>3.130357</td>\n",
              "      <td>10.139170</td>\n",
              "      <td>12.655139</td>\n",
              "      <td>5.825760</td>\n",
              "      <td>2.707132</td>\n",
              "      <td>1.259787</td>\n",
              "    </tr>\n",
              "    <tr>\n",
              "      <th>Mariah Carey</th>\n",
              "      <td>752.506341</td>\n",
              "      <td>NaN</td>\n",
              "      <td>5.083453</td>\n",
              "      <td>7.949311</td>\n",
              "      <td>28.190731</td>\n",
              "      <td>5.916652</td>\n",
              "      <td>5.066794</td>\n",
              "      <td>1.179226</td>\n",
              "    </tr>\n",
              "    <tr>\n",
              "      <th>Britney Spears</th>\n",
              "      <td>578.178219</td>\n",
              "      <td>NaN</td>\n",
              "      <td>4.355800</td>\n",
              "      <td>4.882164</td>\n",
              "      <td>22.335989</td>\n",
              "      <td>5.919782</td>\n",
              "      <td>5.558775</td>\n",
              "      <td>1.360709</td>\n",
              "    </tr>\n",
              "    <tr>\n",
              "      <th>Miley Cyrus</th>\n",
              "      <td>532.823456</td>\n",
              "      <td>NaN</td>\n",
              "      <td>3.713019</td>\n",
              "      <td>8.218506</td>\n",
              "      <td>18.351551</td>\n",
              "      <td>8.427366</td>\n",
              "      <td>4.806817</td>\n",
              "      <td>1.675468</td>\n",
              "    </tr>\n",
              "  </tbody>\n",
              "</table>\n",
              "</div>"
            ],
            "text/plain": [
              "                         len_text  ...  mean_nb_words_per_line\n",
              "artist                             ...                        \n",
              "Elton John             365.567024  ...                1.668150\n",
              "Michael Jackson        656.260869  ...                1.409753\n",
              "Red Hot Chili Peppers  463.726257  ...                1.483407\n",
              "The Beatles            263.633482  ...                1.576193\n",
              "Queen                  411.932033  ...                1.259787\n",
              "Mariah Carey           752.506341  ...                1.179226\n",
              "Britney Spears         578.178219  ...                1.360709\n",
              "Miley Cyrus            532.823456  ...                1.675468\n",
              "\n",
              "[8 rows x 8 columns]"
            ]
          },
          "metadata": {
            "tags": []
          },
          "execution_count": 29
        }
      ]
    },
    {
      "cell_type": "markdown",
      "metadata": {
        "id": "sCYMTYtyAb8I",
        "colab_type": "text"
      },
      "source": [
        "We can choose **The Beatles** : a lot of songs + songs not too much different"
      ]
    },
    {
      "cell_type": "code",
      "metadata": {
        "id": "ghyFHG2eCRnG",
        "colab_type": "code",
        "colab": {}
      },
      "source": [
        "beatles_df = df[df.artist== \"The Beatles\"]"
      ],
      "execution_count": 0,
      "outputs": []
    },
    {
      "cell_type": "code",
      "metadata": {
        "id": "r13FTtRgCWes",
        "colab_type": "code",
        "outputId": "d9081310-419e-4055-cf4d-57ab54a8b453",
        "colab": {
          "base_uri": "https://localhost:8080/",
          "height": 118
        }
      },
      "source": [
        "print(\"Total number of lines is\")\n",
        "print(sum(beatles_df.nb_lines))\n",
        "print(\"Total number of words is\")\n",
        "print(sum(beatles_df.lines.apply(get_nb_words)))\n",
        "print(\"Total number of characters is\")\n",
        "sum(beatles_df.len_text)"
      ],
      "execution_count": 31,
      "outputs": [
        {
          "output_type": "stream",
          "text": [
            "Total number of lines is\n",
            "4989\n",
            "Total number of words is\n",
            "30879\n",
            "Total number of characters is\n"
          ],
          "name": "stdout"
        },
        {
          "output_type": "execute_result",
          "data": {
            "text/plain": [
              "163652"
            ]
          },
          "metadata": {
            "tags": []
          },
          "execution_count": 31
        }
      ]
    },
    {
      "cell_type": "code",
      "metadata": {
        "id": "NgWUJ_r_ltjB",
        "colab_type": "code",
        "colab": {
          "base_uri": "https://localhost:8080/",
          "height": 34
        },
        "outputId": "8afb62b9-3cb3-4e8a-9dd3-e9c3b6db6f66"
      },
      "source": [
        "# Mean number of words in a song\n",
        "print(np.mean(beatles_df.lines.apply(get_nb_words)))"
      ],
      "execution_count": 231,
      "outputs": [
        {
          "output_type": "stream",
          "text": [
            "173.47752808988764\n"
          ],
          "name": "stdout"
        }
      ]
    },
    {
      "cell_type": "markdown",
      "metadata": {
        "id": "6x97SKRM6Rwe",
        "colab_type": "text"
      },
      "source": [
        "## 0. C) Plot characteristics"
      ]
    },
    {
      "cell_type": "markdown",
      "metadata": {
        "id": "MJTdgtzoAjwJ",
        "colab_type": "text"
      },
      "source": [
        "Plot characteristics for one artist"
      ]
    },
    {
      "cell_type": "code",
      "metadata": {
        "id": "YUpAxtOi6Uxn",
        "colab_type": "code",
        "outputId": "125573d2-f7bf-4fbc-e2ac-9f577f877588",
        "colab": {
          "base_uri": "https://localhost:8080/",
          "height": 408
        }
      },
      "source": [
        "plt.figure(figsize=(10, 6))\n",
        "artist = 'The Beatles'\n",
        "sns.boxplot(data=df[df.artist==artist].iloc[:,5:-1])\n",
        "plt.title(\"Characteristics for {} songs\".format(artist))"
      ],
      "execution_count": 32,
      "outputs": [
        {
          "output_type": "execute_result",
          "data": {
            "text/plain": [
              "Text(0.5, 1.0, 'Characteristics for The Beatles songs')"
            ]
          },
          "metadata": {
            "tags": []
          },
          "execution_count": 32
        },
        {
          "output_type": "display_data",
          "data": {
            "image/png": "[encoded data removed]",
            "text/plain": [
              "<Figure size 720x432 with 1 Axes>"
            ]
          },
          "metadata": {
            "tags": []
          }
        }
      ]
    },
    {
      "cell_type": "markdown",
      "metadata": {
        "id": "YjHqxf_zAoDN",
        "colab_type": "text"
      },
      "source": [
        "Compare one characteristic between artists"
      ]
    },
    {
      "cell_type": "code",
      "metadata": {
        "id": "lYNmR4wLNXmJ",
        "colab_type": "code",
        "colab": {}
      },
      "source": [
        "def get_topk(k, df):\n",
        "  \"\"\"Get the top k artists with the most songs\"\"\"\n",
        "  l = df.artist.value_counts()\n",
        "  return l[:k].index.tolist()"
      ],
      "execution_count": 0,
      "outputs": []
    },
    {
      "cell_type": "code",
      "metadata": {
        "id": "qJnzRQpuAfEP",
        "colab_type": "code",
        "outputId": "9ebfad59-add4-4f72-8d14-e6a1670ce86a",
        "colab": {
          "base_uri": "https://localhost:8080/",
          "height": 421
        }
      },
      "source": [
        "plt.figure(figsize=(15, 6))\n",
        "characteristic = \"nb_paragraphes\"\n",
        "artists = get_topk(10, df)\n",
        "df_to_show = df[df.artist.isin(artists)]\n",
        "sns.boxplot(y=df[characteristic], x=df_to_show.artist)\n",
        "plt.title(\"Compare artists on {}\".format(characteristic))"
      ],
      "execution_count": 39,
      "outputs": [
        {
          "output_type": "execute_result",
          "data": {
            "text/plain": [
              "Text(0.5, 1.0, 'Compare artists on nb_paragraphes')"
            ]
          },
          "metadata": {
            "tags": []
          },
          "execution_count": 39
        },
        {
          "output_type": "display_data",
          "data": {
            "image/png": "[encoded data removed]",
            "text/plain": [
              "<Figure size 1080x432 with 1 Axes>"
            ]
          },
          "metadata": {
            "tags": []
          }
        }
      ]
    },
    {
      "cell_type": "code",
      "metadata": {
        "id": "nTziPHBUPjxH",
        "colab_type": "code",
        "colab": {
          "base_uri": "https://localhost:8080/",
          "height": 101
        },
        "outputId": "197cd3ea-b353-4094-db74-544b6b5a4bda"
      },
      "source": [
        "# Mean values\n",
        "print(\"Mean value for nb paragraphes\", round(np.mean(artists_df.nb_paragraphes)))\n",
        "print(\"Mean value for length of song\", round(np.mean(artists_df.len_text)))\n",
        "print(\"Mean value for nb lines\", round(np.mean(artists_df.nb_lines)))\n",
        "print(\"Mean value for nb of lines in paragraph\", round(np.mean(artists_df.mean_nb_lines_per_para)))\n",
        "print(\"Mean value for nb words in a line\", round(np.mean(artists_df.mean_nb_words_per_line)))"
      ],
      "execution_count": 37,
      "outputs": [
        {
          "output_type": "stream",
          "text": [
            "Mean value for nb paragraphes 6\n",
            "Mean value for length of song 1227\n",
            "Mean value for nb lines 36\n",
            "Mean value for nb of lines in paragraph 10\n",
            "Mean value for nb words in a line 6\n"
          ],
          "name": "stdout"
        }
      ]
    },
    {
      "cell_type": "markdown",
      "metadata": {
        "id": "0s6XxKc3bKcT",
        "colab_type": "text"
      },
      "source": [
        "Plot one characteristic"
      ]
    },
    {
      "cell_type": "code",
      "metadata": {
        "id": "eHEmaSgtdR0E",
        "colab_type": "code",
        "outputId": "ccb52f3f-5023-4012-da3e-047e2796f262",
        "colab": {
          "base_uri": "https://localhost:8080/",
          "height": 422
        }
      },
      "source": [
        "plt.figure(figsize=(10, 6))\n",
        "characteristic = 'nb_paragraphes'\n",
        "sns.distplot(df[characteristic], hist=True, kde=True, \n",
        "             bins=30, color = 'green',\n",
        "             hist_kws={'edgecolor':'black'})\n",
        "# Add labels\n",
        "plt.title('Histogram of {}'.format(characteristic))\n",
        "plt.xlabel(characteristic)\n",
        "plt.ylabel('Number of songs')"
      ],
      "execution_count": 40,
      "outputs": [
        {
          "output_type": "execute_result",
          "data": {
            "text/plain": [
              "Text(0, 0.5, 'Number of songs')"
            ]
          },
          "metadata": {
            "tags": []
          },
          "execution_count": 40
        },
        {
          "output_type": "display_data",
          "data": {
            "image/png": "[encoded data removed]",
            "text/plain": [
              "<Figure size 720x432 with 1 Axes>"
            ]
          },
          "metadata": {
            "tags": []
          }
        }
      ]
    },
    {
      "cell_type": "markdown",
      "metadata": {
        "id": "gRwpvREcgSPs",
        "colab_type": "text"
      },
      "source": [
        "Compare all characteristics between all artists"
      ]
    },
    {
      "cell_type": "code",
      "metadata": {
        "id": "Zpd5fGn_fS3c",
        "colab_type": "code",
        "outputId": "ec8479b8-9f58-484c-d4ed-8de663a120cf",
        "colab": {
          "base_uri": "https://localhost:8080/",
          "height": 374
        }
      },
      "source": [
        "plt.figure(figsize=(15, 6))\n",
        "p1=sns.kdeplot(df['nb_paragraphes'], shade=True, color=\"r\")\n",
        "p1=sns.kdeplot(df['mean_nb_lines_per_para'], shade=True, color=\"b\")\n",
        "p1=sns.kdeplot(df['nb_lines'], shade=True, color=\"g\")\n",
        "p1=sns.kdeplot(df['mean_len_line'], shade=True, color=\"brown\")\n",
        "p1=sns.kdeplot(df['nb_repeated_lines'], shade=True, color=\"y\")"
      ],
      "execution_count": 41,
      "outputs": [
        {
          "output_type": "display_data",
          "data": {
            "image/png": "[encoded data removed]",
            "text/plain": [
              "<Figure size 1080x432 with 1 Axes>"
            ]
          },
          "metadata": {
            "tags": []
          }
        }
      ]
    },
    {
      "cell_type": "markdown",
      "metadata": {
        "id": "PYKwwdXLQpZJ",
        "colab_type": "text"
      },
      "source": [
        "The number of paragraphes and the mean number of lines seem to be common to most songs, with values respectively around 6 and 10"
      ]
    },
    {
      "cell_type": "code",
      "metadata": {
        "id": "znXT82QsCXtX",
        "colab_type": "code",
        "outputId": "29d2d7a7-3351-4326-c84a-c75b7759a015",
        "colab": {
          "base_uri": "https://localhost:8080/",
          "height": 408
        }
      },
      "source": [
        "plt.figure(figsize=(15, 6))\n",
        "# For the top k artists\n",
        "topk = 50\n",
        "artists = get_topk(topk, df)\n",
        "plot_artists_to_show = artists_df[artists_df.index.isin(artists)]\n",
        "plt.plot(plot_artists_to_show.drop(columns=['len_text']).T)\n",
        "#plt.legend(plot_artists_to_show.columns)\n",
        "plt.title(\"Compare the top {} artists on all characteristics\".format(topk))"
      ],
      "execution_count": 44,
      "outputs": [
        {
          "output_type": "execute_result",
          "data": {
            "text/plain": [
              "Text(0.5, 1.0, 'Compare the top 50 artists on all characteristics')"
            ]
          },
          "metadata": {
            "tags": []
          },
          "execution_count": 44
        },
        {
          "output_type": "display_data",
          "data": {
            "image/png": "[encoded data removed]",
            "text/plain": [
              "<Figure size 1080x432 with 1 Axes>"
            ]
          },
          "metadata": {
            "tags": []
          }
        }
      ]
    },
    {
      "cell_type": "code",
      "metadata": {
        "id": "T2YAUYQvSsxQ",
        "colab_type": "code",
        "outputId": "f6b18cba-df1e-43bf-addf-2d68042d1e26",
        "colab": {
          "base_uri": "https://localhost:8080/",
          "height": 407
        }
      },
      "source": [
        "plt.figure(figsize=(15, 6))\n",
        "topk = 10\n",
        "artists = get_topk(topk, df)\n",
        "plot_artists_to_show = artists_df[artists_df.index.isin(artists)]\n",
        "df2 = plot_artists_to_show.drop(columns=['len_text'])\n",
        "plt.plot(df2)\n",
        "plt.legend(df2.columns)\n",
        "plt.title(\"Compare the top {} artists on all characteristics\".format(topk))"
      ],
      "execution_count": 43,
      "outputs": [
        {
          "output_type": "execute_result",
          "data": {
            "text/plain": [
              "Text(0.5, 1.0, 'Compare the top 10 artists on all characteristics')"
            ]
          },
          "metadata": {
            "tags": []
          },
          "execution_count": 43
        },
        {
          "output_type": "display_data",
          "data": {
            "image/png": "[encoded data removed]",
            "text/plain": [
              "<Figure size 1080x432 with 1 Axes>"
            ]
          },
          "metadata": {
            "tags": []
          }
        }
      ]
    },
    {
      "cell_type": "code",
      "metadata": {
        "id": "eDaxZAd0Cz07",
        "colab_type": "code",
        "outputId": "62b22e43-9a34-4d81-8929-3164093fc53e",
        "colab": {
          "base_uri": "https://localhost:8080/",
          "height": 408
        }
      },
      "source": [
        "plt.figure(figsize=(10, 6))\n",
        "df_plot = artists_df\n",
        "sns.boxplot(data=df_plot.drop(columns=['nb_lines','mean_len_line','len_text','nb_songs']))\n",
        "plt.title(\"Compare all artists on all characteristics\")"
      ],
      "execution_count": 45,
      "outputs": [
        {
          "output_type": "execute_result",
          "data": {
            "text/plain": [
              "Text(0.5, 1.0, 'Compare all artists on all characteristics')"
            ]
          },
          "metadata": {
            "tags": []
          },
          "execution_count": 45
        },
        {
          "output_type": "display_data",
          "data": {
            "image/png": "[encoded data removed]",
            "text/plain": [
              "<Figure size 720x432 with 1 Axes>"
            ]
          },
          "metadata": {
            "tags": []
          }
        }
      ]
    },
    {
      "cell_type": "markdown",
      "metadata": {
        "id": "FDGGtBJyNXck",
        "colab_type": "text"
      },
      "source": [
        "# 1. Text pre-processing "
      ]
    },
    {
      "cell_type": "code",
      "metadata": {
        "id": "KBM0ev3AAdx8",
        "colab_type": "code",
        "colab": {}
      },
      "source": [
        "def preprocess(text, for_ghostwriter=False):\n",
        "   \n",
        "    if (for_ghostwriter==False):\n",
        "      # Avoid having \\n glued to a word (\\n\\n separations are used for ghostwriter)\n",
        "      text = text.replace(\"\\n\",\" \\n \")\n",
        "    text = text.lower()\n",
        "    \n",
        "    # Remove all words in-between () or []\n",
        "    text = re.sub(\"[\\(\\[].*?[\\)\\]]\", \"\", text)\n",
        "   \n",
        "    # Remove unwanted words\n",
        "    unwanted_words = ['chorus\\s*', 'verse\\s*', 'intro\\s*', 'outro\\s*', 'bridge\\s*','pre-chorus\\s*','hook\\s*', 'instrumental']\n",
        "    text = re.sub('({})'.format('|'.join(unwanted_words)),\"\",text.strip())\n",
        "    \n",
        "    # Remove numbers\n",
        "    text = re.sub(r'[0-9\\.]+', '', text)\n",
        "\n",
        "    # Only keep one space everywhere\n",
        "    text = re.sub(' {2,}', ' ', text)\n",
        "\n",
        "    # Remove some punctuation\n",
        "    punct_to_keep = [\"'\",\"!\",\"?\",\",\"]\n",
        "    text = text.replace(\"?\",\" ? \")\n",
        "    text = text.replace(\"!\",\" ! \")\n",
        "    punct_to_discard = [x for x in string.punctuation if x not in punct_to_keep]\n",
        "    text = \"\".join(v for v in text if v not in punct_to_discard)\n",
        "\n",
        "    print (\"Text length after preprocessing is : \", len(text))\n",
        "    return text\n",
        "\n",
        "def extract_characters(text):\n",
        "    return sorted(list(set(text)))\n",
        "\n",
        "def get_chars_index_dicts(chars):\n",
        "    return dict((c, i) for i, c in enumerate(chars)), dict((i, c) for i, c in enumerate(chars))\n",
        "\n",
        "def extract_words(text):\n",
        "    # Split by space\n",
        "    words = text.split(' ')\n",
        "    word_counts = Counter(words)\n",
        "    return sorted(word_counts, key=word_counts.get, reverse=True)\n",
        "\n",
        "def get_words_index_dicts(sorted_vocab):\n",
        "  return dict((c, i) for i, c in enumerate(sorted_vocab)), dict((i, c) for i, c in enumerate(sorted_vocab))"
      ],
      "execution_count": 0,
      "outputs": []
    },
    {
      "cell_type": "code",
      "metadata": {
        "id": "--1Ardx5cPiq",
        "colab_type": "code",
        "colab": {}
      },
      "source": [
        "def preprocess_ghostwriter(text):\n",
        "  \"\"\"Add helpers such as <endline> and <endsong> to help model distinguish rhymes\n",
        "  Arguments:\n",
        "  text: all songs of an artist \"\"\"\n",
        "\n",
        "  # Do usual preprocessing\n",
        "  text = preprocess(text, True)\n",
        "  # Split in songs\n",
        "  songs = text.split('\\n\\n')[:-1]\n",
        "\n",
        "  new_songs = []\n",
        "  \n",
        "  for s in songs:\n",
        "    new_para = []\n",
        "    # Split each song in paragraphes\n",
        "    paragraphes = s.split('\\n  \\n')\n",
        "    for p in paragraphes :\n",
        "      new_lines=[]\n",
        "      # Split each paragraphe in lines\n",
        "      lines = p.split('\\n')\n",
        "      for l in lines :\n",
        "        new_lines.append(l+\" <endline> \")\n",
        "      p = \" \".join(new_lines)\n",
        "      new_para.append(p + \"<endverse> \")\n",
        "      \n",
        "    new_s = \" \".join(new_para)\n",
        "    new_songs.append(\"<startsong> \"+new_s+\"<endsong>\")\n",
        "\n",
        "  return \" \".join(new_songs)"
      ],
      "execution_count": 0,
      "outputs": []
    },
    {
      "cell_type": "code",
      "metadata": {
        "id": "xAvfBQRujMbE",
        "colab_type": "code",
        "colab": {}
      },
      "source": [
        "def unprocess_ghostwriter(text):\n",
        "  \"\"\" Remove helpers to create normal string\"\"\"\n",
        "  text = text.replace(\"<startsong>\", \"\")\n",
        "  text = text.replace(\"<endsong>\", \" \\n\")\n",
        "  text = text.replace(\"<endline>\", \"\\n\")\n",
        "  text = text.replace(\"<endverse>\", \"\\n\\n\")\n",
        "  text = re.sub(' {2,}', ' ', text)\n",
        "  # replace multiple blank lines by only one\n",
        "  text = re.sub(r'(\\n\\s*)+\\n+', '\\n\\n', text)\n",
        "\n",
        "  return text"
      ],
      "execution_count": 0,
      "outputs": []
    },
    {
      "cell_type": "code",
      "metadata": {
        "id": "J7hsFuVJgW01",
        "colab_type": "code",
        "colab": {}
      },
      "source": [
        "#Example\n",
        "# abba = df[df.artist==\"ABBA\"]\n",
        "# abbatext = \" \".join([x for x in abba.text])\n",
        "# te = preprocess_ghostwriter(abbatext)\n",
        "# print(unprocess_ghostwriter(te))"
      ],
      "execution_count": 0,
      "outputs": []
    },
    {
      "cell_type": "markdown",
      "metadata": {
        "id": "rYnKH9giN_xS",
        "colab_type": "text"
      },
      "source": [
        "# 2. Vectorization"
      ]
    },
    {
      "cell_type": "markdown",
      "metadata": {
        "id": "tMtYm9orjb0a",
        "colab_type": "text"
      },
      "source": [
        "### 2. 1) One-hot encoding"
      ]
    },
    {
      "cell_type": "code",
      "metadata": {
        "id": "omsBXGzqQe69",
        "colab_type": "code",
        "colab": {}
      },
      "source": [
        "#Encode characters in numbers\n",
        "def vectorize(sentence, char_to_index):\n",
        "  return np.array([char_to_index[char] for char in sentence])\n",
        "\n",
        "#Project a batch of int_sequences in dim chars space\n",
        "def one_hot_encode(sequences, chars):\n",
        "    X = np.zeros((len(sequences), len(sequences[0]), len(chars)), dtype=int)\n",
        "    for i, sentence in enumerate(sequences):\n",
        "        for t, integer in enumerate(sentence):\n",
        "            X[i, t, integer] = 1\n",
        "    return X"
      ],
      "execution_count": 0,
      "outputs": []
    },
    {
      "cell_type": "markdown",
      "metadata": {
        "id": "TIgAaCbGjf7c",
        "colab_type": "text"
      },
      "source": [
        "### 2. 2) Word2vec"
      ]
    },
    {
      "cell_type": "code",
      "metadata": {
        "id": "l9p3uv1XE_zD",
        "colab_type": "code",
        "colab": {}
      },
      "source": [
        "#TODO"
      ],
      "execution_count": 0,
      "outputs": []
    },
    {
      "cell_type": "markdown",
      "metadata": {
        "id": "yhETnRtsRWz4",
        "colab_type": "text"
      },
      "source": [
        "# Data extraction : file to encoded"
      ]
    },
    {
      "cell_type": "code",
      "metadata": {
        "id": "ep-zkc-yReSj",
        "colab_type": "code",
        "colab": {}
      },
      "source": [
        "def get_data_from_file(train_file,artists_names=None,mtype=\"characters\", embedding=\"one-hot\", ghostwrite=False):\n",
        "  \n",
        "    df = pd.read_csv(train_file)\n",
        "    \n",
        "    #Select artist\n",
        "    if artists_names :\n",
        "      df = df[df.artist.isin(artists_names)]\n",
        "    \n",
        "    print(\"Number of songs : \", len(df.index))\n",
        "\n",
        "    #Get text\n",
        "    text = ' '.join([x for x in df.text])\n",
        "\n",
        "    #Transform data\n",
        "    if ghostwrite:\n",
        "      text = preprocess_ghostwriter(text)\n",
        "    else:\n",
        "      text = preprocess(text)\n",
        "    \n",
        "    if mtype==\"words\":\n",
        "        #Get words\n",
        "        vocab = extract_words(text)\n",
        "\n",
        "        #Get dictionnaries\n",
        "        word_to_index, index_to_word = get_words_index_dicts(vocab)\n",
        "\n",
        "        #Encode text\n",
        "        encoded_text = vectorize(text.split(' '), word_to_index)\n",
        "    \n",
        "    else:\n",
        "        #Get characters\n",
        "        vocab = extract_characters(text)\n",
        "\n",
        "        #Get dictionnaries\n",
        "        char_to_index, index_to_char = get_chars_index_dicts(vocab)\n",
        "\n",
        "        #Encode text\n",
        "        encoded_text = vectorize(text, char_to_index)\n",
        "\n",
        "    return vocab, encoded_text"
      ],
      "execution_count": 0,
      "outputs": []
    },
    {
      "cell_type": "markdown",
      "metadata": {
        "id": "BXfEMBsMTBa9",
        "colab_type": "text"
      },
      "source": [
        "# Create Batches"
      ]
    },
    {
      "cell_type": "code",
      "metadata": {
        "id": "DfK3g6sKTDw2",
        "colab_type": "code",
        "colab": {}
      },
      "source": [
        "def get_batches(arr, batch_size, seq_length):\n",
        "    '''Create a generator that returns batches of size\n",
        "       batch_size x seq_length from arr.\n",
        "       \n",
        "       Arguments\n",
        "       ---------\n",
        "       arr: Array you want to make batches from\n",
        "       batch_size: Batch size, the number of sequences per batch\n",
        "       seq_length: Number of encoded chars in a sequence\n",
        "    '''\n",
        "\n",
        "    #print(\"arrr\", arr)\n",
        "    #print(len(arr))\n",
        "    #print(\"seq length\", seq_length)\n",
        "    batch_size_total = batch_size * seq_length\n",
        "    #print(\"batch size total\", batch_size_total)\n",
        "    # total number of batches we can make\n",
        "    n_batches = len(arr)//batch_size_total\n",
        "    #print(\"nb batches\", n_batches)\n",
        "\n",
        "    \n",
        "    # Keep only enough characters to make full batches\n",
        "    arr = arr[:n_batches * batch_size_total]\n",
        "    # Reshape into batch_size rows\n",
        "    arr = arr.reshape((batch_size, -1))\n",
        "    \n",
        "    # iterate through the array, one sequence at a time\n",
        "    for n in range(0, arr.shape[1], seq_length):\n",
        "        # The features\n",
        "        x = arr[:, n:n+seq_length]\n",
        "        # The targets, shifted by one\n",
        "        y = np.zeros_like(x)\n",
        "        try:\n",
        "            y[:, :-1], y[:, -1] = x[:, 1:], arr[:, n+seq_length]\n",
        "        except IndexError:\n",
        "            y[:, :-1], y[:, -1] = x[:, 1:], arr[:, 0]\n",
        "        yield x, y"
      ],
      "execution_count": 0,
      "outputs": []
    },
    {
      "cell_type": "markdown",
      "metadata": {
        "id": "RKwmVCuBOSUj",
        "colab_type": "text"
      },
      "source": [
        "# 3. Create Model class and train function"
      ]
    },
    {
      "cell_type": "markdown",
      "metadata": {
        "id": "azqpndqROvF_",
        "colab_type": "text"
      },
      "source": [
        "## 3. A) LSTM"
      ]
    },
    {
      "cell_type": "code",
      "metadata": {
        "id": "1lKvf1MlFiCG",
        "colab_type": "code",
        "colab": {}
      },
      "source": [
        "class LSTM(nn.Module):\n",
        "    ## Chars is actually a dict of chars or a dict of words, depending on input\n",
        "    def __init__(self, chars, hidden_size=256, num_layers=2, drop_prob=0.5):\n",
        "        super().__init__()\n",
        "        self.chars = chars\n",
        "        self.hidden_size = hidden_size\n",
        "        self.num_layers = num_layers\n",
        "        self.drop_prob = drop_prob\n",
        "        self.int2char = dict(enumerate(self.chars))\n",
        "        self.char2int = {ch: ii for ii, ch in self.int2char.items()}\n",
        "\n",
        "        # Define layers\n",
        "        self.lstm = nn.LSTM(input_size=len(chars), hidden_size=hidden_size, num_layers=num_layers, dropout=drop_prob, batch_first=True)\n",
        "        self.dropout = nn.Dropout(drop_prob)\n",
        "        self.fc = nn.Linear(hidden_size, len(chars))\n",
        "\n",
        "    def forward(self, x, hidden):\n",
        "      \n",
        "      # Hidden = h et c les états internes\n",
        "      output, hidden = self.lstm(x, hidden)\n",
        "      # Use dropout\n",
        "      out = self.dropout(output)\n",
        "      out = out.contiguous().view(-1, self.hidden_size)\n",
        "      out = self.fc(out)\n",
        "      \n",
        "      return out, hidden\n",
        "      \n",
        "    def init_hidden(self, batch_size):\n",
        "        ''' Initializes hidden state '''\n",
        "        \n",
        "        # Create two new tensors with sizes nb_layers x batch_size x hidden_size,\n",
        "        # initialized to zero, for hidden state and cell state of LSTM\n",
        "        hidden = (torch.zeros(self.num_layers, batch_size, self.hidden_size, dtype=int).to(device),\n",
        "                torch.zeros(self.num_layers, batch_size, self.hidden_size,dtype=int).to(device))\n",
        "        \n",
        "        return hidden"
      ],
      "execution_count": 0,
      "outputs": []
    },
    {
      "cell_type": "markdown",
      "metadata": {
        "id": "z07TRaUYOzbT",
        "colab_type": "text"
      },
      "source": [
        "## 3. B) Train function"
      ]
    },
    {
      "cell_type": "markdown",
      "metadata": {
        "id": "OJYplgxMR58S",
        "colab_type": "text"
      },
      "source": [
        "Save model function"
      ]
    },
    {
      "cell_type": "code",
      "metadata": {
        "id": "MgQQ9krwQ3b6",
        "colab_type": "code",
        "colab": {}
      },
      "source": [
        "def save_model(model, model_name, optimizer, nb_epochs, mtype=None, ghostwrite=None):\n",
        "  PATH = \"../models/\" + model_name + \"_\"+ str(mtype) + \".net\"\n",
        "  checkpoint = {'nb_epochs': nb_epochs,\n",
        "                'model_type' : mtype, \n",
        "                'ghostwrite' : ghostwrite,\n",
        "                'chars': model.chars,\n",
        "                'hidden_size': model.hidden_size,\n",
        "                'nb_layers': model.num_layers,\n",
        "                'drop_prob': model.drop_prob,\n",
        "                'model_state_dict': model.state_dict(),\n",
        "                'tokens': model.chars,\n",
        "                'optimizer_state_dict' : optimizer.state_dict()}\n",
        "  torch.save(checkpoint, PATH)"
      ],
      "execution_count": 0,
      "outputs": []
    },
    {
      "cell_type": "code",
      "metadata": {
        "id": "yu3YONIuAug8",
        "colab_type": "code",
        "colab": {}
      },
      "source": [
        "def train(model, data, optimizer=torch.optim.Adam, batch_size=10, seq_length=40, nb_epochs=50, \n",
        "          lr=0.01, clip=5, val_frac=0.1, top_k=1, print_stats=True, saving_model=False, artist=None, mtype=None, ghostwrite=None):\n",
        "  \"\"\" trains model on data and returns last version of model (after all epochs!!)\"\"\"\n",
        "  model = model.to(device)\n",
        "  model.train()\n",
        "  \n",
        "  criterion = nn.CrossEntropyLoss()\n",
        "  optimizer = optimizer(model.parameters(), lr=lr)\n",
        "  \n",
        "\n",
        "  # Track the avg training loss of all epochs\n",
        "  avg_train_losses = []\n",
        "  # Track the avg validation loss of all epochs\n",
        "  avg_valid_losses = [] \n",
        "    \n",
        "  # Create training and validation data\n",
        "  val_index = int(len(data)*(1-val_frac))\n",
        "  train_data, val_data = data[:val_index], data[val_index:]\n",
        "\n",
        "  counter = 0\n",
        "\n",
        "  for epoch in range(nb_epochs):\n",
        "\n",
        "    # Track the training and validation loss as the model trains in this epoch\n",
        "    train_losses = []\n",
        "    valid_losses = []\n",
        "\n",
        "    ###################\n",
        "    # train the model #\n",
        "    ###################\n",
        "    \n",
        "    # Initialize hidden state\n",
        "    h = model.init_hidden(batch_size)\n",
        "\n",
        "    for x, y in get_batches(data, batch_size, seq_length):\n",
        "\n",
        "      counter+=1\n",
        "\n",
        "      # One-hot encode our data and make them Torch tensors (only x data!!)  \n",
        "      x = one_hot_encode(x, model.chars)\n",
        "          \n",
        "      inputs, targets = torch.from_numpy(x).float(), torch.from_numpy(y).float()\n",
        "      inputs, targets = inputs.to(device), targets.to(device)\n",
        "      \n",
        "      # Creating new variables for the hidden state, otherwise\n",
        "      # we'd backprop through the entire training history\n",
        "      h = tuple([each.data.float() for each in h])\n",
        " \n",
        "      model.zero_grad()\n",
        "      output, h = model(inputs, h)\n",
        "      loss = criterion(output, targets.view(batch_size*seq_length).long())\n",
        "      loss.backward()\n",
        "      \n",
        "      # Gradient clipping\n",
        "      nn.utils.clip_grad_norm_(model.parameters(), clip)\n",
        "\n",
        "      optimizer.step()\n",
        "\n",
        "      train_losses.append(loss.item())\n",
        "    \n",
        "    ######################    \n",
        "    # validate the model #\n",
        "    ######################\n",
        "\n",
        "    model.eval()\n",
        "    \n",
        "    # Initialize hidden state\n",
        "    val_h = model.init_hidden(batch_size)\n",
        "    \n",
        "    # Track tha validation accuracies calculated every epoch\n",
        "    val_accuracies = []\n",
        "    # To calculate validation accuracy\n",
        "    correct = 0\n",
        "    total = 0\n",
        "    \n",
        "    for x, y in get_batches(val_data, batch_size, seq_length):\n",
        "        \n",
        "        # One-hot encode our data and make them Torch tensors\n",
        "        x = one_hot_encode(x, model.chars)\n",
        "\n",
        "        inputs, targets = torch.from_numpy(x).float(), torch.from_numpy(y).float()\n",
        "        \n",
        "        # Creating new variables for the hidden state, otherwise\n",
        "        # we'd backprop through the entire training history\n",
        "        val_h = tuple([each.data.float() for each in val_h])\n",
        "      \n",
        "        inputs, targets = inputs.to(device), targets.to(device)\n",
        "        output, val_h = model(inputs, val_h)\n",
        "        val_loss = criterion(output, targets.view(batch_size*seq_length).long())\n",
        "        valid_losses.append(val_loss.item())\n",
        "        \n",
        "        # TODO: same way to get values\n",
        "        #tp_top_char_or_word = get_int_next_token_topk_filtering(output, model.chars, top_k)\n",
        "        #print(\"tp\", tp_top_char_or_word.shape)\n",
        "        \n",
        "        #softmax to get probas\n",
        "        p = F.softmax(output, dim=1).data\n",
        "        p = p.cpu()\n",
        "        p, top_char_or_word = p.topk(1)\n",
        "        top_char_or_word = top_char_or_word.numpy().squeeze()\n",
        "        array_targets = targets.view(batch_size*seq_length).detach().cpu().numpy()\n",
        "\n",
        "        #number of correct values in the sequence predicted (for one whole batch)\n",
        "        correct += (top_char_or_word == array_targets).sum()\n",
        "        total+= len(top_char_or_word)\n",
        "       \n",
        "    # Calculate val accuracy for whole epoch    \n",
        "    accuracy =  correct / total\n",
        "    val_accuracies.append(accuracy)\n",
        "\n",
        "    # reset to train mode after iterating through validation data\n",
        "    model.train() \n",
        "    \n",
        "    # For each epoch calculate average loss \n",
        "    train_loss = np.average(train_losses)\n",
        "    valid_loss = np.average(valid_losses)\n",
        "    avg_train_losses.append(train_loss)\n",
        "    avg_valid_losses.append(valid_loss)\n",
        "    \n",
        "    if print_stats:\n",
        "      # For each epoch print training/validation statistics \n",
        "      print(\"Epoch: [{}/{}]\".format(epoch+1, nb_epochs),\n",
        "              \"Step: [{}]\".format(counter),\n",
        "              \"Loss: {:.4f}\".format(train_loss),\n",
        "              \"Val Loss: {:.4f}\".format(valid_loss),\n",
        "            \"Val accuracy: %.2f%%\"%(accuracy*100))\n",
        "    if saving_model:\n",
        "      save_model(model, artist+ \"_epoch\" +str(epoch+1),optimizer, epoch+1, mtype, ghostwrite)\n",
        "      print(\"Saved model at epoch \" + str(epoch+1))\n",
        "\n",
        "  return model, avg_train_losses, avg_valid_losses, val_accuracies"
      ],
      "execution_count": 0,
      "outputs": []
    },
    {
      "cell_type": "markdown",
      "metadata": {
        "id": "0jXFz7ZjIaXz",
        "colab_type": "text"
      },
      "source": [
        "# 4. Instantiate model"
      ]
    },
    {
      "cell_type": "markdown",
      "metadata": {
        "id": "SQdQ1eE-8_c6",
        "colab_type": "text"
      },
      "source": [
        "## 4. A) Quick example"
      ]
    },
    {
      "cell_type": "code",
      "metadata": {
        "id": "01wmppOoPpxG",
        "colab_type": "code",
        "outputId": "d9e43e9d-1c58-4c0c-c0e1-7c2381a25412",
        "colab": {
          "base_uri": "https://localhost:8080/",
          "height": 50
        }
      },
      "source": [
        "words, encoded_text = get_data_from_file(\"songdata.csv\",[\"The Beatles\"], \"words\")\n",
        "model = LSTM(words,hidden_size=256)\n",
        "model =model.float()"
      ],
      "execution_count": 276,
      "outputs": [
        {
          "output_type": "stream",
          "text": [
            "Number of songs :  178\n",
            "Text length after preprocessing is :  160343\n"
          ],
          "name": "stdout"
        }
      ]
    },
    {
      "cell_type": "code",
      "metadata": {
        "id": "mnzKxXI_U0-x",
        "colab_type": "code",
        "outputId": "53a34111-a342-49f0-dfbc-2ec9beaffc50",
        "colab": {
          "base_uri": "https://localhost:8080/",
          "height": 316
        }
      },
      "source": [
        "#Train the model\n",
        "model, avg_train_losses, avg_valid_losses, val_accuracies = train(model, encoded_text, batch_size=30,\n",
        "                                                                  seq_length=40, nb_epochs=10, lr=0.01)"
      ],
      "execution_count": 277,
      "outputs": [
        {
          "output_type": "error",
          "ename": "AttributeError",
          "evalue": "ignored",
          "traceback": [
            "\u001b[0;31m---------------------------------------------------------------------------\u001b[0m",
            "\u001b[0;31mAttributeError\u001b[0m                            Traceback (most recent call last)",
            "\u001b[0;32m<ipython-input-277-5b7d42176000>\u001b[0m in \u001b[0;36m<module>\u001b[0;34m()\u001b[0m\n\u001b[1;32m      1\u001b[0m model, avg_train_losses, avg_valid_losses, val_accuracies = train(model, encoded_text, batch_size=30,\n\u001b[0;32m----> 2\u001b[0;31m                                                                   seq_length=40, nb_epochs=10, lr=0.01)\n\u001b[0m",
            "\u001b[0;32m<ipython-input-275-10c60ef8a024>\u001b[0m in \u001b[0;36mtrain\u001b[0;34m(model, data, optimizer, batch_size, seq_length, nb_epochs, lr, clip, val_frac, top_k, print_stats, saving_model, artist, mtype, ghostwrite)\u001b[0m\n\u001b[1;32m      6\u001b[0m \u001b[0;34m\u001b[0m\u001b[0m\n\u001b[1;32m      7\u001b[0m   \u001b[0;31m#criterion = nn.CrossEntropyLoss()\u001b[0m\u001b[0;34m\u001b[0m\u001b[0;34m\u001b[0m\u001b[0;34m\u001b[0m\u001b[0m\n\u001b[0;32m----> 8\u001b[0;31m   \u001b[0mcriterion\u001b[0m \u001b[0;34m=\u001b[0m \u001b[0mnn\u001b[0m\u001b[0;34m.\u001b[0m\u001b[0mCategoricalCrossEntropyLoss\u001b[0m\u001b[0;34m(\u001b[0m\u001b[0;34m)\u001b[0m\u001b[0;34m\u001b[0m\u001b[0;34m\u001b[0m\u001b[0m\n\u001b[0m\u001b[1;32m      9\u001b[0m   \u001b[0moptimizer\u001b[0m \u001b[0;34m=\u001b[0m \u001b[0moptimizer\u001b[0m\u001b[0;34m(\u001b[0m\u001b[0mmodel\u001b[0m\u001b[0;34m.\u001b[0m\u001b[0mparameters\u001b[0m\u001b[0;34m(\u001b[0m\u001b[0;34m)\u001b[0m\u001b[0;34m,\u001b[0m \u001b[0mlr\u001b[0m\u001b[0;34m=\u001b[0m\u001b[0mlr\u001b[0m\u001b[0;34m)\u001b[0m\u001b[0;34m\u001b[0m\u001b[0;34m\u001b[0m\u001b[0m\n\u001b[1;32m     10\u001b[0m \u001b[0;34m\u001b[0m\u001b[0m\n",
            "\u001b[0;31mAttributeError\u001b[0m: module 'torch.nn' has no attribute 'CategoricalCrossEntropyLoss'"
          ]
        }
      ]
    },
    {
      "cell_type": "code",
      "metadata": {
        "id": "B_aVOLf47M1L",
        "colab_type": "code",
        "outputId": "1abf10c2-1fe1-46bd-c1ee-311178335d18",
        "colab": {
          "base_uri": "https://localhost:8080/",
          "height": 282
        }
      },
      "source": [
        "plt.figure()\n",
        "plt.plot(avg_train_losses, label='Training loss')\n",
        "plt.plot(avg_valid_losses, label='Validation loss')\n",
        "plt.legend(frameon=False)"
      ],
      "execution_count": 66,
      "outputs": [
        {
          "output_type": "execute_result",
          "data": {
            "text/plain": [
              "<matplotlib.legend.Legend at 0x7fa580cdcfd0>"
            ]
          },
          "metadata": {
            "tags": []
          },
          "execution_count": 66
        },
        {
          "output_type": "display_data",
          "data": {
            "image/png": "[encoded data removed]",
            "text/plain": [
              "<Figure size 432x288 with 1 Axes>"
            ]
          },
          "metadata": {
            "tags": []
          }
        }
      ]
    },
    {
      "cell_type": "markdown",
      "metadata": {
        "id": "SUahDdWnO50g",
        "colab_type": "text"
      },
      "source": [
        "## 4. B) Create pipeline"
      ]
    },
    {
      "cell_type": "code",
      "metadata": {
        "id": "IBlJtXcMacF2",
        "colab_type": "code",
        "colab": {}
      },
      "source": [
        "def create_and_train_model(dict_chars_or_words, encoded_data, params, saving_model=False, mtype=None, print_stats=False):\n",
        "    \"\"\" Function to facilitate creation and training of model \"\"\"\n",
        "    # 1. Create model\n",
        "    model = LSTM(dict_chars_or_words,hidden_size=params['hidden_size'],\n",
        "                 num_layers=params['nb_layers'], drop_prob=params['dropout']).float()\n",
        "\n",
        "    # 2. Train model\n",
        "    t = time.time()\n",
        "    model, avg_train_losses, avg_valid_losses, val_accuracies = train(model, encoded_data, optimizer=params['optimizer'], \n",
        "                                                                      batch_size=params['batch_size'], seq_length=params['seq_length'], \n",
        "                                                                      nb_epochs=params['nb_epochs'], lr = params['learning_rate'],\n",
        "                                                                      clip=params['clip'], val_frac=params['val_frac'],\n",
        "                                                                      top_k = params[ 'top_k_sampling'], print_stats=print_stats, \n",
        "                                                                      saving_model=saving_model, artist=params['artists_names'], \n",
        "                                                                      mtype=mtype, ghostwrite = params['ghostwrite'])\n",
        "    t = time.time() - t\n",
        "\n",
        "    return model, avg_train_losses, avg_valid_losses, val_accuracies, t"
      ],
      "execution_count": 0,
      "outputs": []
    },
    {
      "cell_type": "code",
      "metadata": {
        "id": "MeuDjDnhWcMu",
        "colab_type": "code",
        "colab": {}
      },
      "source": [
        "def run_plot_save(params, print_stats=False):\n",
        "    \"\"\" With a given dictionnary of parameters:\n",
        "    - load data\n",
        "    - create and train model\n",
        "    - plot metrics and save graphs\"\"\"\n",
        "\n",
        "    plt.ion() \n",
        "\n",
        "    # 1. Get data only once\n",
        "    dict_chars_or_words, encoded_data = get_data_from_file(params['train_file'],[params['artists_names']], \n",
        "                                                           params['model_type'], params['embedding'],params['ghostwrite'])\n",
        "\n",
        "    plt.figure(figsize=(10,4))\n",
        "    \n",
        "    # Args are our wanted parameters for each tested parameter\n",
        "    args = {key : None for key in params.keys()}\n",
        "    best_acc = 0\n",
        "    accs = []\n",
        "    number_of_model = 0\n",
        "    \n",
        "    for key in params.keys():\n",
        "        if type(params[key]) != type(list()):\n",
        "            args[key] = params[key]\n",
        "    \n",
        "    for key in params.keys():       \n",
        "        \n",
        "        if type(params[key]) == type(list()):\n",
        "            for value in params[key]:\n",
        "                \n",
        "                # 2. Take the tested value to build and train model\n",
        "                args[key] = value\n",
        "                model, avg_train_losses, avg_valid_losses, val_accuracies, time = create_and_train_model(dict_chars_or_words, encoded_data, args, print_stats=print_stats)\n",
        "\n",
        "                # Take last accuracy score / or avg ? / or max ?\n",
        "                acc = val_accuracies[-1]\n",
        "                accs.append(acc)\n",
        "                number_of_model += 1\n",
        "                \n",
        "                if acc > best_acc:\n",
        "                    best_acc, best_param, best_time = acc, value, time\n",
        "                \n",
        "                if key not in ['optimizer']:\n",
        "                    str_value = str(value)\n",
        "                else:\n",
        "                    str_value = value.__name__\n",
        "\n",
        "                print(\"Model {} : {} = {}, accuracy = {:.2f}%, training time = {:.2f} sec\".format(number_of_model,key,str_value,acc*100,time))\n",
        "                #plot train losses\n",
        "                plt.plot(range(1,args['nb_epochs']+1), avg_train_losses, label=\"train_\"+str_value)\n",
        "                plt.plot(range(1,args['nb_epochs']+1), avg_valid_losses, label=\"val_\"+str_value, linestyle='dashed')     \n",
        "            \n",
        "            if key not in ['optimizer']:\n",
        "                x = [str(i) for i in params[key]]\n",
        "            else:\n",
        "                x = [value.__name__ for value in params[key]]\n",
        "            \n",
        "            # Visualization of val loss convergence\n",
        "            plt.xlabel(\"number of epochs\")\n",
        "            plt.ylabel(\"train/val error\")\n",
        "            plt.legend(title=key)\n",
        "            plt.title(\"Convergence of train/val loss\")\n",
        "            plt.savefig(\"../figures/\"+ str(key) +\"-train-val.png\", metadata=params)\n",
        "\n",
        "            # Visualization of accuracy per model\n",
        "            plt.figure(figsize=(14,4))\n",
        "            ax11=plt.subplot(1, 2, 1)\n",
        "            accus = [100*acc for acc in accs]\n",
        "            ax11.bar(x=x, height=accus)\n",
        "            plt.xlabel(key)\n",
        "            plt.ylabel(\"accuracy\")\n",
        "            plt.ylim([0.8*min(accs)*100,100])\n",
        "            plt.title(\"Comparison of models' accuracy\")\n",
        "            plt.savefig(\"../figures/\"+ str(key) +\"-val-accuracy.png\", metadata=params)\n",
        "\n",
        "            # Performance of the best model\n",
        "            print('Best {} : {}'.format(key,best_param))\n",
        "            print('Accuracy of the best model on validation data: {:.2f} %'.format(best_acc*100))\n",
        "            print('Training time of the best model: {:.2f} seconds'.format(best_time))\n",
        "    \n",
        "    plt.ioff()     \n",
        "    \n",
        "   "
      ],
      "execution_count": 0,
      "outputs": []
    },
    {
      "cell_type": "markdown",
      "metadata": {
        "id": "nSAOykqan9qq",
        "colab_type": "text"
      },
      "source": [
        "# 5. Hypertune model"
      ]
    },
    {
      "cell_type": "markdown",
      "metadata": {
        "id": "BbjmrDqLoGGo",
        "colab_type": "text"
      },
      "source": [
        "## 5. A) Efficiency functions "
      ]
    },
    {
      "cell_type": "markdown",
      "metadata": {
        "id": "GteMblW3odDl",
        "colab_type": "text"
      },
      "source": [
        "### **1) Similarity score**"
      ]
    },
    {
      "cell_type": "code",
      "metadata": {
        "id": "Txl8CLsHwxq_",
        "colab_type": "code",
        "colab": {}
      },
      "source": [
        "def get_similarities(generated_song, other_songs):\n",
        "  \"\"\"Compute the \"semantic\" similarity between a generated song and a list of other_songs\"\"\"\n",
        "  #Option A: Vectorizer direct\n",
        "  tfidf_vectorizer = TfidfVectorizer()\n",
        "  train_set= [generated_song]\n",
        "  for song in other_songs:\n",
        "      train_set.append(song)\n",
        "  #print(len(train_set))\n",
        "  tfidf_matrix_train = tfidf_vectorizer.fit_transform(train_set)  #finds the tfidf score with normalization\n",
        "  \n",
        "  #Get similarity with first element = generated song\n",
        "  similarities = cosine_similarity(tfidf_matrix_train[0], tfidf_matrix_train)\n",
        "\n",
        "  return similarities"
      ],
      "execution_count": 0,
      "outputs": []
    },
    {
      "cell_type": "code",
      "metadata": {
        "id": "I-WwE3d-AscM",
        "colab_type": "code",
        "colab": {
          "base_uri": "https://localhost:8080/",
          "height": 34
        },
        "outputId": "3e815cff-2657-491e-b7e3-252d967bba20"
      },
      "source": [
        "# Example\n",
        "get_similarities(df.text[1],[df.text[0]])"
      ],
      "execution_count": 70,
      "outputs": [
        {
          "output_type": "execute_result",
          "data": {
            "text/plain": [
              "array([[1.       , 0.1720383]])"
            ]
          },
          "metadata": {
            "tags": []
          },
          "execution_count": 70
        }
      ]
    },
    {
      "cell_type": "markdown",
      "metadata": {
        "id": "AibutC_jCKxz",
        "colab_type": "text"
      },
      "source": [
        "Compute average song similarity for an artist's songs"
      ]
    },
    {
      "cell_type": "code",
      "metadata": {
        "id": "g_gEQo9PCX7x",
        "colab_type": "code",
        "colab": {}
      },
      "source": [
        "def get_max_sim_artist(artist):\n",
        "  \"\"\" Calculates the max similarity between all of an artist's songs\"\"\"\n",
        "  max_similarities = []\n",
        "  all_songs = df.text[df.artist==artist].reset_index(drop=True)\n",
        "  for i in range(len(all_songs)-1):\n",
        "    other_songs = all_songs[:i].tolist()+all_songs[i+1:].tolist()\n",
        "    similarities = get_similarities(all_songs[i],other_songs)\n",
        "    # Remove first element which is equal to one\n",
        "    max_similarities.append(np.max(similarities[0][1:]))\n",
        "  \n",
        "  return np.max(max_similarities)\n",
        "  "
      ],
      "execution_count": 0,
      "outputs": []
    },
    {
      "cell_type": "code",
      "metadata": {
        "id": "Wk3FaB4hSd4a",
        "colab_type": "code",
        "colab": {
          "base_uri": "https://localhost:8080/",
          "height": 34
        },
        "outputId": "47f94506-4cbe-44ce-8d11-e56362dc823c"
      },
      "source": [
        "get_max_sim_artist(\"The Beatles\")"
      ],
      "execution_count": 98,
      "outputs": [
        {
          "output_type": "execute_result",
          "data": {
            "text/plain": [
              "0.9402929539591268"
            ]
          },
          "metadata": {
            "tags": []
          },
          "execution_count": 98
        }
      ]
    },
    {
      "cell_type": "code",
      "metadata": {
        "id": "6VxlznyWL863",
        "colab_type": "code",
        "colab": {}
      },
      "source": [
        "def get_max_similarity_score(generated_song,artist,df):\n",
        "  \"\"\" Returns the maximum similarity between a generated song and all of an artists'songs\"\"\" \n",
        "  all_songs = df.text[df.artist==artist].reset_index(drop=True)\n",
        "  similarities = get_similarities(generated_song,all_songs.tolist())\n",
        "  # do not count first element which is one\n",
        "  return np.max(similarities[0][1:])\n"
      ],
      "execution_count": 0,
      "outputs": []
    },
    {
      "cell_type": "code",
      "metadata": {
        "id": "d6sRgjDhIUfz",
        "colab_type": "code",
        "colab": {}
      },
      "source": [
        "#artists_df[\"mean_similarity\"] = [get_mean_sim_artist(artist) for artist in artists_df.index]"
      ],
      "execution_count": 0,
      "outputs": []
    },
    {
      "cell_type": "markdown",
      "metadata": {
        "id": "qGR15O1hNevK",
        "colab_type": "text"
      },
      "source": [
        "### **2) Rhyme density**"
      ]
    },
    {
      "cell_type": "code",
      "metadata": {
        "id": "GVa9_qTMiiRq",
        "colab_type": "code",
        "colab": {}
      },
      "source": [
        "def rhyme(input_word, level):\n",
        "     \"\"\" Custome rhyming function that returns all words rhyming with input_word using the CMU dict from nltk\n",
        "     - Level 1 : weak rhymes \n",
        "     - Level 2 : intermediate rhymes\n",
        "     - Level 3 : strong rhymes \"\"\"\n",
        "     entries = nltk.corpus.cmudict.entries()\n",
        "     syllables = [(word, syl) for word, syl in entries if word == input_word]\n",
        "     rhymes = []\n",
        "     for (word, syllable) in syllables:\n",
        "             rhymes += [word for word, pron in entries if pron[-level:] == syllable[-level:]]\n",
        "     return set(rhymes)"
      ],
      "execution_count": 0,
      "outputs": []
    },
    {
      "cell_type": "code",
      "metadata": {
        "id": "kPGzf9l3a05j",
        "colab_type": "code",
        "colab": {}
      },
      "source": [
        "def compute_rhyme_density(lines, rhyming_function = rhyme, level = 2):\n",
        "  \"\"\"Compute the ratio of rhymes over number of lines\"\"\"\n",
        "  \"\"\"Rhyme function returns a dict with words rhyming :\n",
        "  - pronoucing.rhymes : strong rhymes + does not count for same word\n",
        "  - rhyme function : level 1 are the weakest rhymes and level 3 the strongest \"\"\"\n",
        "  nb_rimes = 0\n",
        "  get_rimes = []\n",
        "  counted_line_indexes = []\n",
        "  splitted_lines = [line.split(\" \") for line in lines]\n",
        "  all_last_words = [normalize(x[-1]) for x in splitted_lines]\n",
        "  # Compute words rhyming with unique last words only once\n",
        "  rhyme_dict = get_rhyme_dict(np.unique(all_last_words), rhyming_function,level)\n",
        "  for j in range(len(all_last_words)-2):\n",
        "    #Only count lines in one rime maximum\n",
        "    if j not in counted_line_indexes:\n",
        "      # if rimes with next line\n",
        "      if all_last_words[j] in rhyme_dict[all_last_words[j+1]]:\n",
        "        nb_rimes +=1\n",
        "        counted_line_indexes.extend([j,j+1])\n",
        "        get_rimes.append((all_last_words[j], all_last_words[j+1]))\n",
        "      # if rimes with 2 lines after\n",
        "      elif all_last_words[j] in rhyme_dict[all_last_words[j+2]]:\n",
        "        nb_rimes +=1\n",
        "        counted_line_indexes.extend([j,j+2])\n",
        "        get_rimes.append((all_last_words[j], all_last_words[j+2]))\n",
        "  # Check for avant dernière ligne if nb_lines > 3\n",
        "  if len(all_last_words)> 1:\n",
        "    if len(all_last_words)-2 not in counted_line_indexes:\n",
        "      if all_last_words[-2] in rhyme_dict[all_last_words[-1]]:\n",
        "        nb_rimes +=1\n",
        "        counted_line_indexes.extend([len(lines)-2,len(lines)-1])\n",
        "        get_rimes.append((all_last_words[-2], all_last_words[-1]))\n",
        "  #print(get_rimes)\n",
        "  return nb_rimes/len(lines)\n"
      ],
      "execution_count": 0,
      "outputs": []
    },
    {
      "cell_type": "code",
      "metadata": {
        "id": "SoLVA3x6kpYq",
        "colab_type": "code",
        "colab": {}
      },
      "source": [
        "def get_rhyme_dict(unique_last_words, rhyming_function,level):\n",
        "  \"\"\" Compute a dictionary {word: words riming with it} depending on rhyming function and level of rhyme\"\"\"\n",
        "  rhyme_dict = {}\n",
        "  if rhyming_function==pronouncing.rhymes:\n",
        "    for word in unique_last_words:\n",
        "      rhyme_dict[word] = rhyming_function(word)\n",
        "  else:\n",
        "    for word in unique_last_words:\n",
        "      rhyme_dict[word] = rhyming_function(word,level) \n",
        "  return rhyme_dict\n"
      ],
      "execution_count": 0,
      "outputs": []
    },
    {
      "cell_type": "code",
      "metadata": {
        "id": "bPyYC_KPF_ch",
        "colab_type": "code",
        "outputId": "cf0c6e59-4a3a-4e49-af9b-54aae75c4872",
        "colab": {
          "base_uri": "https://localhost:8080/",
          "height": 34
        }
      },
      "source": [
        "pronouncing.rhymes(\"fishing\")"
      ],
      "execution_count": 104,
      "outputs": [
        {
          "output_type": "execute_result",
          "data": {
            "text/plain": [
              "['dishing', 'phishing', 'wishing']"
            ]
          },
          "metadata": {
            "tags": []
          },
          "execution_count": 104
        }
      ]
    },
    {
      "cell_type": "code",
      "metadata": {
        "id": "WAjmGBYgGQNR",
        "colab_type": "code",
        "outputId": "0191aa0d-572a-4cd2-8701-1bd707469d77",
        "colab": {
          "base_uri": "https://localhost:8080/",
          "height": 34
        }
      },
      "source": [
        "print(\"knitting\" in rhyme(\"fishing\",3))"
      ],
      "execution_count": 105,
      "outputs": [
        {
          "output_type": "stream",
          "text": [
            "False\n"
          ],
          "name": "stdout"
        }
      ]
    },
    {
      "cell_type": "code",
      "metadata": {
        "id": "SwIRSQnealMO",
        "colab_type": "code",
        "outputId": "ac01368b-2faf-40d9-df10-e234cf59dd3d",
        "colab": {
          "base_uri": "https://localhost:8080/",
          "height": 50
        }
      },
      "source": [
        "# Test pronouncing lib (needs to be lower-case)\n",
        "print(\"no\" in pronouncing.rhymes(\"go\"))\n",
        "# Test cmu dict with rhyme function\n",
        "print(\"candlelight\" in rhyme(\"tonight\",1))"
      ],
      "execution_count": 106,
      "outputs": [
        {
          "output_type": "stream",
          "text": [
            "True\n",
            "True\n"
          ],
          "name": "stdout"
        }
      ]
    },
    {
      "cell_type": "code",
      "metadata": {
        "id": "-zet1Mqmg07O",
        "colab_type": "code",
        "outputId": "f02bbdca-6967-4654-f863-4d5c081a33f9",
        "colab": {
          "base_uri": "https://localhost:8080/",
          "height": 34
        }
      },
      "source": [
        "# Example\n",
        "#compute_rhyme_density(df.lines[1232],pronouncing.rhymes)\n",
        "compute_rhyme_density(df.lines[1232])"
      ],
      "execution_count": 0,
      "outputs": [
        {
          "output_type": "execute_result",
          "data": {
            "text/plain": [
              "0.4117647058823529"
            ]
          },
          "metadata": {
            "tags": []
          },
          "execution_count": 79
        }
      ]
    },
    {
      "cell_type": "markdown",
      "metadata": {
        "id": "DbdIEXRqUNEp",
        "colab_type": "text"
      },
      "source": [
        "### **3) Grammar errors**"
      ]
    },
    {
      "cell_type": "code",
      "metadata": {
        "id": "i2yO-fzputhT",
        "colab_type": "code",
        "colab": {}
      },
      "source": [
        "def count_grammar_errors(lines):\n",
        "  \"\"\" Count the number of grammatical errors in lines of lyrics (input is a list)\"\"\"\n",
        "  errors = []\n",
        "  tool = language_check.LanguageTool('en-US')\n",
        "  for line in lines :\n",
        "     if len(tool.check(line)) > 0 :\n",
        "       errors.extend(tool.check(line))\n",
        "  \n",
        "  errors_to_ignore = ['UPPERCASE_SENTENCE_START','I_LOWERCASE']\n",
        "  real_errors = [e for e in errors if e.ruleId not in errors_to_ignore]\n",
        "\n",
        "  #print(real_errors)\n",
        "  return len(real_errors)"
      ],
      "execution_count": 0,
      "outputs": []
    },
    {
      "cell_type": "code",
      "metadata": {
        "id": "Y_DzYBxKvKjc",
        "colab_type": "code",
        "outputId": "6f524f07-e078-4486-a5d9-6d45d5b0b762",
        "colab": {
          "base_uri": "https://localhost:8080/",
          "height": 34
        }
      },
      "source": [
        "# Example\n",
        "# print(df.text[122])\n",
        "count_grammar_errors(df.lines[122])"
      ],
      "execution_count": 0,
      "outputs": [
        {
          "output_type": "execute_result",
          "data": {
            "text/plain": [
              "1"
            ]
          },
          "metadata": {
            "tags": []
          },
          "execution_count": 94
        }
      ]
    },
    {
      "cell_type": "code",
      "metadata": {
        "id": "li7Wu8-AUMr-",
        "colab_type": "code",
        "colab": {
          "base_uri": "https://localhost:8080/",
          "height": 34
        },
        "outputId": "e6e8e9aa-1b78-41a6-eac9-3cd39a2ad17d"
      },
      "source": [
        "artist = \"Elton John\"\n",
        "one_artist_df = df[df.artist==artist].text.reset_index(drop=True)\n",
        "count_grammar_errors(one_artist_df[0])"
      ],
      "execution_count": 128,
      "outputs": [
        {
          "output_type": "execute_result",
          "data": {
            "text/plain": [
              "8"
            ]
          },
          "metadata": {
            "tags": []
          },
          "execution_count": 128
        }
      ]
    },
    {
      "cell_type": "code",
      "metadata": {
        "id": "nowIGX4yZoAj",
        "colab_type": "code",
        "outputId": "d1891560-8de8-47c9-dba0-30a9c0fb5568",
        "colab": {
          "base_uri": "https://localhost:8080/",
          "height": 34
        }
      },
      "source": [
        "# This takes time\n",
        "results = []\n",
        "tp_artists = [\"The Beatles\"]\n",
        "for a in tp_artists:\n",
        "  x = []\n",
        "  x.append(a)\n",
        "  beatles = df[df.artist==a]\n",
        "  x.append(np.mean(beatles.len_text))\n",
        "  x.append(np.mean(beatles.nb_paragraphes))\n",
        "  #x.append(np.mean(beatles.text.apply(compute_rhyme_density)))\n",
        "  x.append(np.mean(beatles.text.apply(count_grammar_errors)))\n",
        "  results.append(x)\n",
        "results"
      ],
      "execution_count": 0,
      "outputs": [
        {
          "output_type": "execute_result",
          "data": {
            "text/plain": [
              "[['The Beatles', 919.3932584269663, 5.848314606741573, 32.20786516853933]]"
            ]
          },
          "metadata": {
            "tags": []
          },
          "execution_count": 181
        }
      ]
    },
    {
      "cell_type": "markdown",
      "metadata": {
        "id": "MYd72Fygus0o",
        "colab_type": "text"
      },
      "source": [
        "Compute rhyme density on 5 songs of the Beatles"
      ]
    },
    {
      "cell_type": "code",
      "metadata": {
        "id": "ZsiuyrKbuy9e",
        "colab_type": "code",
        "colab": {
          "base_uri": "https://localhost:8080/",
          "height": 101
        },
        "outputId": "07b77f9d-bbf7-434b-b658-fac58f1263eb"
      },
      "source": [
        "beatles_lines = beatles_df.lines.reset_index(drop=True)\n",
        "density = []\n",
        "for i in range(0,5):\n",
        "  density.append(compute_rhyme_density(beatles_lines[i]))\n",
        "  print(\"done\")"
      ],
      "execution_count": 256,
      "outputs": [
        {
          "output_type": "stream",
          "text": [
            "done\n",
            "done\n",
            "done\n",
            "done\n",
            "done\n"
          ],
          "name": "stdout"
        }
      ]
    },
    {
      "cell_type": "code",
      "metadata": {
        "id": "BmAaQ_kbvncE",
        "colab_type": "code",
        "colab": {
          "base_uri": "https://localhost:8080/",
          "height": 34
        },
        "outputId": "77263893-a618-49b2-ce3d-1afb8f6d8d8a"
      },
      "source": [
        "np.mean(density)"
      ],
      "execution_count": 258,
      "outputs": [
        {
          "output_type": "execute_result",
          "data": {
            "text/plain": [
              "0.19043859649122807"
            ]
          },
          "metadata": {
            "tags": []
          },
          "execution_count": 258
        }
      ]
    },
    {
      "cell_type": "markdown",
      "metadata": {
        "id": "F1JwNAoKQQJ1",
        "colab_type": "text"
      },
      "source": [
        "## 5. B) Evaluate different impacts\n"
      ]
    },
    {
      "cell_type": "code",
      "metadata": {
        "id": "Gctah7yDF8OP",
        "colab_type": "code",
        "colab": {}
      },
      "source": [
        "flags = Namespace(\n",
        "    train_file='songdata.csv',\n",
        "    artists_names=['The Beatles']\n",
        ")"
      ],
      "execution_count": 0,
      "outputs": []
    },
    {
      "cell_type": "markdown",
      "metadata": {
        "id": "A6--X1gEMhhf",
        "colab_type": "text"
      },
      "source": [
        "### **1) Ghostwrite**"
      ]
    },
    {
      "cell_type": "markdown",
      "metadata": {
        "id": "jB0zc0CAGOgw",
        "colab_type": "text"
      },
      "source": [
        "Ghostwrite"
      ]
    },
    {
      "cell_type": "code",
      "metadata": {
        "id": "spiU6QHsGNbT",
        "colab_type": "code",
        "outputId": "ec350224-cec2-4b74-b62b-c56720272716",
        "colab": {
          "base_uri": "https://localhost:8080/",
          "height": 778
        }
      },
      "source": [
        "# Model = words\n",
        "params = {'train_file':'songdata.csv',\n",
        "          'model_type':\"words\",\n",
        "          'artists_names':'The Beatles',\n",
        "          'embedding' : 'one-hot',\n",
        "          'ghostwrite' : [True,False],\n",
        "          'nb_epochs' : 15,\n",
        "          'nb_layers' : 1, \n",
        "          'seq_length' : 5,\n",
        "          'batch_size' : 40,\n",
        "          'hidden_size':256,\n",
        "          'optimizer' : torch.optim.Adam,\n",
        "          'learning_rate' : 0.01,\n",
        "          'dropout':0.5,\n",
        "          'clip':5,\n",
        "          'val_frac':0.1,\n",
        "          'top_k_sampling':5}\n",
        "\n",
        "run_plot_save(params)"
      ],
      "execution_count": 0,
      "outputs": [
        {
          "output_type": "stream",
          "text": [
            "Number of songs :  178\n",
            "Text length is :  155201\n"
          ],
          "name": "stdout"
        },
        {
          "output_type": "stream",
          "text": [
            "/usr/local/lib/python3.6/dist-packages/torch/nn/modules/rnn.py:50: UserWarning: dropout option adds dropout after all but last recurrent layer, so non-zero dropout expects num_layers greater than 1, but got dropout=0.5 and num_layers=1\n",
            "  \"num_layers={}\".format(dropout, num_layers))\n"
          ],
          "name": "stderr"
        },
        {
          "output_type": "stream",
          "text": [
            "Model 1 : ghostwrite = True, accuracy = 72.65%, training time = 18.86 sec\n"
          ],
          "name": "stdout"
        },
        {
          "output_type": "stream",
          "text": [
            "/usr/local/lib/python3.6/dist-packages/torch/nn/modules/rnn.py:50: UserWarning: dropout option adds dropout after all but last recurrent layer, so non-zero dropout expects num_layers greater than 1, but got dropout=0.5 and num_layers=1\n",
            "  \"num_layers={}\".format(dropout, num_layers))\n"
          ],
          "name": "stderr"
        },
        {
          "output_type": "stream",
          "text": [
            "Model 2 : ghostwrite = False, accuracy = 72.15%, training time = 18.80 sec\n",
            "Best ghostwrite : True\n",
            "Accuracy of the best model on validation data: 72.65 %\n",
            "Training time of the best model: 18.86 seconds\n"
          ],
          "name": "stdout"
        },
        {
          "output_type": "display_data",
          "data": {
            "image/png": "[encoded data removed]",
            "text/plain": [
              "<Figure size 720x288 with 1 Axes>"
            ]
          },
          "metadata": {
            "tags": []
          }
        },
        {
          "output_type": "display_data",
          "data": {
            "image/png": "[encoded data removed]",
            "text/plain": [
              "<Figure size 1008x288 with 2 Axes>"
            ]
          },
          "metadata": {
            "tags": []
          }
        }
      ]
    },
    {
      "cell_type": "markdown",
      "metadata": {
        "id": "fi71wKngSDf2",
        "colab_type": "text"
      },
      "source": [
        "\n",
        "Pré-entrainé : **word2vec**"
      ]
    },
    {
      "cell_type": "code",
      "metadata": {
        "id": "ZdEr45tOALSs",
        "colab_type": "code",
        "colab": {}
      },
      "source": [
        "# TODO"
      ],
      "execution_count": 0,
      "outputs": []
    },
    {
      "cell_type": "markdown",
      "metadata": {
        "id": "TiHZl3-kQcqq",
        "colab_type": "text"
      },
      "source": [
        "### **2) Model's architecture** : words_LSTM\n"
      ]
    },
    {
      "cell_type": "code",
      "metadata": {
        "id": "04SGOkBVFjVG",
        "colab_type": "code",
        "outputId": "a079b6a4-cf65-4ae0-8385-52fd8ae1342d",
        "colab": {
          "base_uri": "https://localhost:8080/",
          "height": 828
        }
      },
      "source": [
        "params = {'train_file':'songdata.csv',\n",
        "          'model_type':\"words\",\n",
        "          'artists_names':'The Beatles',\n",
        "          'embedding' : 'one-hot',\n",
        "          'ghostwrite' : True,\n",
        "          'nb_epochs' : 15,\n",
        "          'nb_layers' : 1, \n",
        "          #'nb_layers' : [1,2,3,4,5],\n",
        "          'seq_length' : 15,\n",
        "          'batch_size' : 40,\n",
        "          #'batch_size' : [10,20,30,40,50,60], #usually not more than 120 examples\n",
        "          'hidden_size':512,\n",
        "          #'optimizer' : torch.optim.Adam,\n",
        "          'optimizer' : [torch.optim.Adam, torch.optim.Adadelta,torch.optim.Adagrad],\n",
        "          'learning_rate' : 0.01,\n",
        "          #'learning_rate' : [0.1, 0.01, 0.05, 0.001],\n",
        "          'dropout':0.0,\n",
        "          'clip':5,\n",
        "          'val_frac':0.2,\n",
        "          'top_k_sampling':5}\n",
        "\n",
        "run_plot_save(params)"
      ],
      "execution_count": 0,
      "outputs": [
        {
          "output_type": "stream",
          "text": [
            "Number of songs :  120\n",
            "Text length is :  110019\n"
          ],
          "name": "stdout"
        },
        {
          "output_type": "stream",
          "text": [
            "/usr/local/lib/python3.6/dist-packages/torch/nn/modules/rnn.py:50: UserWarning: dropout option adds dropout after all but last recurrent layer, so non-zero dropout expects num_layers greater than 1, but got dropout=0.5 and num_layers=1\n",
            "  \"num_layers={}\".format(dropout, num_layers))\n"
          ],
          "name": "stderr"
        },
        {
          "output_type": "stream",
          "text": [
            "Model 1 : optimizer = Adam, accuracy = 69.17%, training time = 11.55 sec\n"
          ],
          "name": "stdout"
        },
        {
          "output_type": "stream",
          "text": [
            "/usr/local/lib/python3.6/dist-packages/torch/nn/modules/rnn.py:50: UserWarning: dropout option adds dropout after all but last recurrent layer, so non-zero dropout expects num_layers greater than 1, but got dropout=0.5 and num_layers=1\n",
            "  \"num_layers={}\".format(dropout, num_layers))\n"
          ],
          "name": "stderr"
        },
        {
          "output_type": "stream",
          "text": [
            "Model 2 : optimizer = Adadelta, accuracy = 26.40%, training time = 12.02 sec\n"
          ],
          "name": "stdout"
        },
        {
          "output_type": "stream",
          "text": [
            "/usr/local/lib/python3.6/dist-packages/torch/nn/modules/rnn.py:50: UserWarning: dropout option adds dropout after all but last recurrent layer, so non-zero dropout expects num_layers greater than 1, but got dropout=0.5 and num_layers=1\n",
            "  \"num_layers={}\".format(dropout, num_layers))\n"
          ],
          "name": "stderr"
        },
        {
          "output_type": "stream",
          "text": [
            "Model 3 : optimizer = Adagrad, accuracy = 45.83%, training time = 11.09 sec\n",
            "Best optimizer : <class 'torch.optim.adam.Adam'>\n",
            "Accuracy of the best model on validation data: 69.17 %\n",
            "Training time of the best model: 11.55 seconds\n"
          ],
          "name": "stdout"
        },
        {
          "output_type": "display_data",
          "data": {
            "image/png": "[encoded data removed]",
            "text/plain": [
              "<Figure size 720x288 with 1 Axes>"
            ]
          },
          "metadata": {
            "tags": []
          }
        },
        {
          "output_type": "display_data",
          "data": {
            "image/png": "[encoded data removed]",
            "text/plain": [
              "<Figure size 1008x288 with 2 Axes>"
            ]
          },
          "metadata": {
            "tags": []
          }
        }
      ]
    },
    {
      "cell_type": "markdown",
      "metadata": {
        "id": "_-ZYb_iOY2Ri",
        "colab_type": "text"
      },
      "source": [
        "### **3) Model's architecture** : chars_LSTM"
      ]
    },
    {
      "cell_type": "code",
      "metadata": {
        "id": "I5DwXdgEFe9Y",
        "colab_type": "code",
        "colab": {
          "base_uri": "https://localhost:8080/",
          "height": 726
        },
        "outputId": "e8351a50-d624-4175-a391-9176b3fcc8aa"
      },
      "source": [
        "params = {'train_file':'songdata.csv',\n",
        "          'model_type':\"chars\",\n",
        "          'artists_names':'The Beatles',\n",
        "          'embedding' : 'one-hot',\n",
        "          'ghostwrite' : True,\n",
        "          'nb_epochs' : 15,\n",
        "          #'nb_epochs' : [10, 15, 30],\n",
        "          'nb_layers' : 1, \n",
        "          #'nb_layers' : [1,2,3,4,5],\n",
        "          #'seq_length' : 10,\n",
        "          'seq_length' : [5, 10, 15, 20],\n",
        "          'batch_size' : 40,\n",
        "          #'batch_size' : [10,20,30,40,50,60], #usually not more than 120 examples\n",
        "          'hidden_size':512,\n",
        "          #'hidden_size' : [64,128,256,512],\n",
        "          'optimizer' : torch.optim.Adam,\n",
        "          #'optimizer' : [torch.optim.Adam, torch.optim.Adadelta,torch.optim.Adagrad],\n",
        "          'learning_rate' : 0.01,\n",
        "          #'learning_rate' : [0.1, 0.01, 0.05, 0.001],\n",
        "          'dropout':0.0,\n",
        "          'clip':5,\n",
        "          'val_frac':0.2,\n",
        "          'top_k_sampling':5}\n",
        "run_plot_save(params)"
      ],
      "execution_count": 166,
      "outputs": [
        {
          "output_type": "stream",
          "text": [
            "Number of songs :  178\n",
            "Text length after preprocessing is :  155201\n",
            "Model 1 : seq_length = 5, accuracy = 78.87%, training time = 67.16 sec\n",
            "Model 2 : seq_length = 10, accuracy = 80.77%, training time = 39.67 sec\n",
            "Model 3 : seq_length = 15, accuracy = 79.16%, training time = 30.76 sec\n",
            "Model 4 : seq_length = 20, accuracy = 78.19%, training time = 25.98 sec\n",
            "Best seq_length : 10\n",
            "Accuracy of the best model on validation data: 80.77 %\n",
            "Training time of the best model: 39.67 seconds\n"
          ],
          "name": "stdout"
        },
        {
          "output_type": "display_data",
          "data": {
            "image/png": "[encoded data removed]",
            "text/plain": [
              "<Figure size 720x288 with 1 Axes>"
            ]
          },
          "metadata": {
            "tags": []
          }
        },
        {
          "output_type": "display_data",
          "data": {
            "image/png": "[encoded data removed]",
            "text/plain": [
              "<Figure size 1008x288 with 1 Axes>"
            ]
          },
          "metadata": {
            "tags": []
          }
        }
      ]
    },
    {
      "cell_type": "markdown",
      "metadata": {
        "id": "N_sqtcvjyBOV",
        "colab_type": "text"
      },
      "source": [
        "# 6. Generate samples"
      ]
    },
    {
      "cell_type": "markdown",
      "metadata": {
        "id": "1hMCm4rMtjSd",
        "colab_type": "text"
      },
      "source": [
        "## 6. A) Predict and sample functions"
      ]
    },
    {
      "cell_type": "code",
      "metadata": {
        "id": "x0BQGwWUylhy",
        "colab_type": "code",
        "colab": {}
      },
      "source": [
        "def predict(model, char_or_word, h=None, top_k=None, top_p=0.0, use_sampling=False):\n",
        "        ''' Given a character/word, predict the next character/word.\n",
        "            Returns the predicted character and the hidden state.\n",
        "        '''\n",
        "        # tensor inputs\n",
        "        x = np.array([[model.char2int[char_or_word]]])\n",
        "        x = one_hot_encode(x, model.chars)\n",
        "        inputs = torch.from_numpy(x).float()\n",
        "        \n",
        "        inputs = inputs.to(device)\n",
        "        \n",
        "        # detach hidden state from history\n",
        "        h = tuple([each.data.float() for each in h])\n",
        "        \n",
        "        # get the output of the model\n",
        "        out, h = model(inputs, h)\n",
        "        \n",
        "        if use_sampling :\n",
        "          temperature = 1\n",
        "          out = out[0] / temperature\n",
        "          filtered_logits = top_k_top_p_filtering(out, top_p=top_p, top_k=top_k)\n",
        "          probabilities = F.softmax(filtered_logits, dim=-1)\n",
        "          next_token = torch.multinomial(probabilities, num_samples=1)\n",
        "          int_char_or_word = next_token.cpu().numpy()[0]\n",
        "\n",
        "        else:\n",
        "          # get the character probabilities\n",
        "          p = F.softmax(out, dim=1).data\n",
        "          \n",
        "          p = p.cpu() # move to cpu\n",
        "          \n",
        "          # get top characters\n",
        "          if top_k is None:\n",
        "              top_ch = np.arange(len(model.chars))\n",
        "          else:\n",
        "              p, top_ch = p.topk(top_k)\n",
        "              top_ch = top_ch.numpy().squeeze()\n",
        "          \n",
        "          # select the likely next character with some element of randomness\n",
        "          p = p.numpy().squeeze()\n",
        "    \n",
        "          int_char_or_word = np.random.choice(top_ch, p=p/p.sum())\n",
        "          \n",
        "        #return the encoded value of the predicted char and the hidden state\n",
        "        return model.int2char[int_char_or_word], h"
      ],
      "execution_count": 0,
      "outputs": []
    },
    {
      "cell_type": "code",
      "metadata": {
        "id": "JMyVFrPXfcUh",
        "colab_type": "code",
        "colab": {}
      },
      "source": [
        "def get_int_next_token_topk_filtering(output, chars, top_k):\n",
        "    # get the character probabilities\n",
        "    p = F.softmax(output, dim=1).data\n",
        "    \n",
        "    p = p.cpu() \n",
        "    \n",
        "    # get top characters\n",
        "    if top_k is None:\n",
        "        top_ch = np.arange(len(chars))\n",
        "    else:\n",
        "        p, top_ch = p.topk(top_k)\n",
        "        top_ch = top_ch.numpy().squeeze()\n",
        "    \n",
        "    # select the likely next character with some element of randomness\n",
        "    p = p.numpy().squeeze()\n",
        "    \n",
        "    indices = np.arange(len(top_ch))\n",
        "    index_char_or_word = np.random.choice(indices, p=p/p.sum())\n",
        "\n",
        "    return top_ch[index_char_or_word]\n"
      ],
      "execution_count": 0,
      "outputs": []
    },
    {
      "cell_type": "code",
      "metadata": {
        "id": "odmLzqZa-yrf",
        "colab_type": "code",
        "colab": {}
      },
      "source": [
        "def top_k_top_p_filtering(logits, top_k=0, top_p=0.0, filter_value=-float('Inf')):\n",
        "    \"\"\" Filter a distribution of logits using top-k and/or nucleus (top-p) filtering\n",
        "     https://gist.github.com/thomwolf/1a5a29f6962089e871b94cbd09daf317\n",
        "        Args:\n",
        "            logits: logits distribution shape (vocabulary size)\n",
        "            top_k >0: keep only top k tokens with highest probability (top-k filtering).\n",
        "            top_p >0.0: keep the top tokens with cumulative probability >= top_p (nucleus filtering).\n",
        "    \"\"\"\n",
        "    top_k = min(top_k, logits.size(-1))  # Safety check\n",
        "    if top_k > 0:\n",
        "        # Remove all tokens with a probability less than the last token of the top-k\n",
        "        indices_to_remove = logits < torch.topk(logits, top_k)[0][..., -1, None]\n",
        "        logits[indices_to_remove] = filter_value\n",
        "\n",
        "    if top_p > 0.0:\n",
        "        sorted_logits, sorted_indices = torch.sort(logits, descending=True)\n",
        "        cumulative_probs = torch.cumsum(F.softmax(sorted_logits, dim=-1), dim=-1)\n",
        "        # Remove tokens with cumulative probability above the threshold\n",
        "        sorted_indices_to_remove = cumulative_probs > top_p\n",
        "        # Shift the indices to the right to keep also the first token above the threshold\n",
        "        sorted_indices_to_remove[..., 1:] = sorted_indices_to_remove[..., :-1].clone()\n",
        "        sorted_indices_to_remove[..., 0] = 0\n",
        "\n",
        "        indices_to_remove = sorted_indices[sorted_indices_to_remove]\n",
        "        logits[indices_to_remove] = filter_value\n",
        "    return logits"
      ],
      "execution_count": 0,
      "outputs": []
    },
    {
      "cell_type": "code",
      "metadata": {
        "id": "PQPQ6mp9y3ms",
        "colab_type": "code",
        "colab": {}
      },
      "source": [
        "def sample(model, size, sentence='The', top_k=None,top_p=0.0, mtype=\"characters\", ghostwrite=False, automatic_end=False, use_sampling=False):\n",
        "    \n",
        "    model = model.to(device)\n",
        "\n",
        "    model.eval() # eval mode\n",
        "    \n",
        "    sentence = sentence.lower()\n",
        "\n",
        "    if mtype==\"words\":\n",
        "      list_words_or_chars = sentence.split(' ')\n",
        "    else:\n",
        "      list_words_or_chars = [char for char in sentence]\n",
        "    \n",
        "    h = model.init_hidden(1)\n",
        "    \n",
        "    for element in list_words_or_chars:\n",
        "        new_element, h = predict(model, element, h, top_k=top_k,top_p=top_p,use_sampling=use_sampling)\n",
        "    \n",
        "    #add last one\n",
        "    list_words_or_chars.append(new_element)\n",
        "    \n",
        "    # Pass in the previous element and get a new one until the end (fixed size or when created end song)\n",
        "  \n",
        "    if automatic_end:\n",
        "      while True:\n",
        "          new_element, h = predict(model, list_words_or_chars[-1], h, top_k=top_k,top_p=top_p,use_sampling=use_sampling)\n",
        "          list_words_or_chars.append(new_element)\n",
        "          if new_element == \"<endsong>\":\n",
        "            unprocessed_output = ' '.join(list_words_or_chars)\n",
        "            return unprocess_ghostwriter(unprocessed_output)\n",
        "    else:\n",
        "      for i in range(size):\n",
        "        new_element, h = predict(model, list_words_or_chars[-1], h, top_k=top_k,top_p=top_p,use_sampling=use_sampling)\n",
        "        list_words_or_chars.append(new_element)\n",
        "\n",
        "    if mtype==\"words\":\n",
        "      unprocessed_output = ' '.join(list_words_or_chars)\n",
        "    else :\n",
        "      unprocessed_output = ''.join(list_words_or_chars)\n",
        "    \n",
        "    if ghostwrite :\n",
        "      return unprocess_ghostwriter(unprocessed_output)\n",
        "    else:\n",
        "      return unprocessed_output"
      ],
      "execution_count": 0,
      "outputs": []
    },
    {
      "cell_type": "markdown",
      "metadata": {
        "id": "0fwUYiBYEQP6",
        "colab_type": "text"
      },
      "source": [
        "## 6. B) Example "
      ]
    },
    {
      "cell_type": "code",
      "metadata": {
        "id": "rgUOQPcMRZB0",
        "colab_type": "code",
        "outputId": "1ef6eeec-2200-4877-a4da-d8ed3a0ccd21",
        "colab": {
          "base_uri": "https://localhost:8080/",
          "height": 507
        }
      },
      "source": [
        "params = {'train_file':'songdata.csv',\n",
        "          'model_type':\"words\",\n",
        "          'artists_names':'Coldplay',\n",
        "          'embedding' : 'one-hot',\n",
        "          'ghostwrite' : True,\n",
        "          'nb_epochs' : 12,\n",
        "          'nb_layers' : 1, \n",
        "          'seq_length' : 10,\n",
        "          'batch_size' : 50,\n",
        "          'hidden_size':512,\n",
        "          'optimizer' : torch.optim.Adam,\n",
        "          'learning_rate' : 0.01,\n",
        "          'dropout':0.5,\n",
        "          'clip':5,\n",
        "          'val_frac':0.1,\n",
        "          'top_k_sampling':5}\n",
        "\n",
        "\n",
        "dict_chars_or_words, encoded_data = get_data_from_file(params['train_file'],flags.artists_names, \n",
        "                                                           params['model_type'], params['embedding'],params['ghostwrite'])\n",
        "model, avg_train_losses, avg_valid_losses, val_accuracies, timing = create_and_train_model(dict_chars_or_words, encoded_data, \n",
        "                                                                                           params, saving_model=True, \n",
        "                                                                                           mtype=params[\"model_type\"], print_stats=True)"
      ],
      "execution_count": 153,
      "outputs": [
        {
          "output_type": "stream",
          "text": [
            "Number of songs :  178\n",
            "Text length after preprocessing is :  155201\n"
          ],
          "name": "stdout"
        },
        {
          "output_type": "stream",
          "text": [
            "/usr/local/lib/python3.6/dist-packages/torch/nn/modules/rnn.py:50: UserWarning: dropout option adds dropout after all but last recurrent layer, so non-zero dropout expects num_layers greater than 1, but got dropout=0.5 and num_layers=1\n",
            "  \"num_layers={}\".format(dropout, num_layers))\n"
          ],
          "name": "stderr"
        },
        {
          "output_type": "stream",
          "text": [
            "Epoch: [1/12] Step: [98] Loss: 4.6166 Val Loss: 5.0339 Val accuracy: 38.27%\n",
            "Saved model at epoch 1\n",
            "Epoch: [2/12] Step: [196] Loss: 3.5984 Val Loss: 3.2736 Val accuracy: 45.60%\n",
            "Saved model at epoch 2\n",
            "Epoch: [3/12] Step: [294] Loss: 3.0062 Val Loss: 5.6820 Val accuracy: 48.67%\n",
            "Saved model at epoch 3\n",
            "Epoch: [4/12] Step: [392] Loss: 2.7373 Val Loss: 2.3180 Val accuracy: 56.93%\n",
            "Saved model at epoch 4\n",
            "Epoch: [5/12] Step: [490] Loss: 2.1933 Val Loss: 2.0313 Val accuracy: 60.89%\n",
            "Saved model at epoch 5\n",
            "Epoch: [6/12] Step: [588] Loss: 1.9077 Val Loss: 1.8317 Val accuracy: 63.02%\n",
            "Saved model at epoch 6\n",
            "Epoch: [7/12] Step: [686] Loss: 1.7104 Val Loss: 1.6463 Val accuracy: 67.29%\n",
            "Saved model at epoch 7\n",
            "Epoch: [8/12] Step: [784] Loss: 1.5464 Val Loss: 1.5186 Val accuracy: 69.82%\n",
            "Saved model at epoch 8\n",
            "Epoch: [9/12] Step: [882] Loss: 1.4259 Val Loss: 1.4232 Val accuracy: 71.49%\n",
            "Saved model at epoch 9\n",
            "Epoch: [10/12] Step: [980] Loss: 1.3363 Val Loss: 1.3509 Val accuracy: 72.78%\n",
            "Saved model at epoch 10\n",
            "Epoch: [11/12] Step: [1078] Loss: 1.2550 Val Loss: 1.2918 Val accuracy: 74.22%\n",
            "Saved model at epoch 11\n",
            "Epoch: [12/12] Step: [1176] Loss: 1.1926 Val Loss: 1.2316 Val accuracy: 75.24%\n",
            "Saved model at epoch 12\n"
          ],
          "name": "stdout"
        }
      ]
    },
    {
      "cell_type": "code",
      "metadata": {
        "id": "TwYwJ_SxN9-r",
        "colab_type": "code",
        "outputId": "87f226ff-9fd8-4150-f0af-f6a0f3b82085",
        "colab": {
          "base_uri": "https://localhost:8080/",
          "height": 235
        }
      },
      "source": [
        "print(sample(model, 1000, sentence='<startsong>', top_k=40, mtype=params[\"model_type\"],ghostwrite=params['ghostwrite'], automatic_end=True))"
      ],
      "execution_count": 148,
      "outputs": [
        {
          "output_type": "stream",
          "text": [
            " when you told a girl who will love me \n",
            " she feels good, she is she's so well i'm her \n",
            " it's a long and lonely as \n",
            " i don't know why you say goodbye, i say hello \n",
            " i'm wondering why \n",
            " i guess i'd try to make it shine, the velvet hand so i can't believe \n",
            " oh ain't that i didn't \n",
            " in a way place i look into my way \n",
            " and when i, i wanna kiss you, yeah \n",
            " i guess nobody ever really done me \n",
            " so cry baby cry \n",
            "\n",
            "\n"
          ],
          "name": "stdout"
        }
      ]
    },
    {
      "cell_type": "code",
      "metadata": {
        "id": "rpautWFbzHDV",
        "colab_type": "code",
        "colab": {}
      },
      "source": [
        "#print(sample(model, 1000, sentence='i\\'ve come down', top_k=5))\n",
        "#print(sample(imported_model, 1000, sentence='i\\'ve come down', top_k=5))"
      ],
      "execution_count": 0,
      "outputs": []
    },
    {
      "cell_type": "markdown",
      "metadata": {
        "id": "EKOrJXeyszo3",
        "colab_type": "text"
      },
      "source": [
        "## 7. C) Pipeline"
      ]
    },
    {
      "cell_type": "code",
      "metadata": {
        "id": "V-ebY4uYszZt",
        "colab_type": "code",
        "colab": {}
      },
      "source": [
        "def load_model(imported_model_name):\n",
        "  \"\"\"Load an already trained model\"\"\"\n",
        "  PATH = \"../models/\" + imported_model_name + \".net\"\n",
        "  \n",
        "  checkpoint = torch.load(PATH)\n",
        "\n",
        "  imported_model = LSTM(checkpoint['chars'], checkpoint['hidden_size'], checkpoint['nb_layers'], checkpoint['drop_prob'])\n",
        "  imported_model.load_state_dict(checkpoint['model_state_dict'])\n",
        "\n",
        "  imported_model.eval()\n",
        "\n",
        "  return imported_model, checkpoint['model_type'], checkpoint['ghostwrite'], checkpoint['optimizer_state_dict']\n",
        "\n",
        "#optimizer.load_state_dict(checkpoint['optimizer_state_dict'])"
      ],
      "execution_count": 0,
      "outputs": []
    },
    {
      "cell_type": "code",
      "metadata": {
        "id": "AuiV_5RyLFrp",
        "colab_type": "code",
        "colab": {}
      },
      "source": [
        "#imported_model, optim_state_dict = load_model(\"Coldplay_epoch9\")"
      ],
      "execution_count": 0,
      "outputs": []
    },
    {
      "cell_type": "markdown",
      "metadata": {
        "id": "wG-7PSYNVE1r",
        "colab_type": "text"
      },
      "source": [
        "Option 1: Load an existing model and generate samples"
      ]
    },
    {
      "cell_type": "code",
      "metadata": {
        "id": "1MzsuRJ5MXgE",
        "colab_type": "code",
        "colab": {}
      },
      "source": [
        "def generate_save_samples(model, epoch, artist_name, nb_samples, sample_size, sentence_input, mtype, ghostwrite=None, automatic_end=None):\n",
        "  \"\"\" with a created model and an artist name generate and save samples \"\"\"\n",
        "  for i in range(1, nb_samples+1):\n",
        "    a_sample = sample(model, sample_size, sentence=sentence_input, top_k=5, mtype=mtype, ghostwrite=ghostwrite, automatic_end=automatic_end)\n",
        "    name = artist_name + \"_\"+ mtype + \"_\"+ epoch+ \"_sample\" + str(i)\n",
        "    text_file = open(\"../generated_lyrics/\"+ name + \".txt\", \"w\")\n",
        "    text_file.write(a_sample)\n",
        "    text_file.close()\n",
        "  #print(\"Samples generated for\", epoch)"
      ],
      "execution_count": 0,
      "outputs": []
    },
    {
      "cell_type": "code",
      "metadata": {
        "id": "MoDczKuLXDin",
        "colab_type": "code",
        "colab": {}
      },
      "source": [
        "def load_and_generate(model_name, nb_samples, sample_size, sentence_input, automatic_end=None, name_of_series=None):\n",
        "  \"\"\" load an existing model and generate and save samples \"\"\"\n",
        "  model, model_type, ghostwrite, optim = load_model(model_name)\n",
        "  artist_name = model_name.split(\"_\")[0]\n",
        "  epoch = model_name.split(\"_\")[1]\n",
        "  generate_save_samples(model, epoch, artist_name, nb_samples, sample_size, sentence_input, \n",
        "                        mtype=model_type, ghostwrite=ghostwrite, automatic_end=automatic_end)  "
      ],
      "execution_count": 0,
      "outputs": []
    },
    {
      "cell_type": "code",
      "metadata": {
        "id": "dilbZATJUsWn",
        "colab_type": "code",
        "outputId": "42d8b935-d39b-4de0-a802-c3a540d41f57",
        "colab": {
          "base_uri": "https://localhost:8080/",
          "height": 87
        }
      },
      "source": [
        "#Example 6B\n",
        "load_and_generate(\"Coldplay_epoch12_words\", 4, 1000, \"i have\", automatic_end=True)"
      ],
      "execution_count": 157,
      "outputs": [
        {
          "output_type": "stream",
          "text": [
            "/usr/local/lib/python3.6/dist-packages/torch/nn/modules/rnn.py:50: UserWarning: dropout option adds dropout after all but last recurrent layer, so non-zero dropout expects num_layers greater than 1, but got dropout=0.5 and num_layers=1\n",
            "  \"num_layers={}\".format(dropout, num_layers))\n"
          ],
          "name": "stderr"
        },
        {
          "output_type": "stream",
          "text": [
            "Samples generated for epoch12\n"
          ],
          "name": "stdout"
        }
      ]
    },
    {
      "cell_type": "markdown",
      "metadata": {
        "id": "uxocEmYbVQqU",
        "colab_type": "text"
      },
      "source": [
        "Option 2 : Create a model and generate/save samples"
      ]
    },
    {
      "cell_type": "code",
      "metadata": {
        "id": "HNkzqzmGKuP8",
        "colab_type": "code",
        "colab": {}
      },
      "source": [
        "# 1. CREATE & TRAIN & SAVE MODEL\n",
        "def generate_save_models(params, sample=False):\n",
        "  \"\"\"Function to create, train and save models at every epoch\"\"\"\n",
        "  dict_chars_or_words, encoded_data = get_data_from_file(params['train_file'], [params['artists_names']], \n",
        "                                                           params['model_type'], params['embedding'],params['ghostwrite'])\n",
        "  model, avg_train_losses, avg_valid_losses, val_accuracies, timing = create_and_train_model(dict_chars_or_words, encoded_data, params, \n",
        "                                                                                           saving_model=True, mtype=params['model_type'])\n",
        "  if sample:\n",
        "    return model, avg_train_losses, avg_valid_losses, val_accuracies, timing"
      ],
      "execution_count": 0,
      "outputs": []
    },
    {
      "cell_type": "code",
      "metadata": {
        "id": "fdZ1oVzzFrXa",
        "colab_type": "code",
        "colab": {}
      },
      "source": [
        "# 2. LOAD MODELS AND GENERATE SAMPLES FOR EACH EPOCHS\n",
        "def generate_samples_epochs(artists_name, model_type, nb_epochs, nb_samples_per_epoch, sample_size, sentence_input, automatic_end=None, name_of_series=None):\n",
        "  \"\"\" For a model already trained, generate some samples for model saved at each epoch and evaluate it\"\"\"\n",
        "  for epoch in range(1, nb_epochs+1):\n",
        "    model_name = artists_name + \"_epoch\" + str(epoch) +\"_\" +model_type\n",
        "    # Load model and generate samples\n",
        "    load_and_generate(model_name, nb_samples_per_epoch, sample_size, sentence_input, \n",
        "                      automatic_end=automatic_end, name_of_series=name_of_series)\n",
        "    print(\"Samples generated for epoch {}\".format(epoch))\n",
        "      "
      ],
      "execution_count": 0,
      "outputs": []
    },
    {
      "cell_type": "markdown",
      "metadata": {
        "id": "TgAOSt8lyuJq",
        "colab_type": "text"
      },
      "source": [
        "# 7. Samples' evaluation"
      ]
    },
    {
      "cell_type": "markdown",
      "metadata": {
        "id": "31Gtwd0oSL4p",
        "colab_type": "text"
      },
      "source": [
        "## A) Evaluate samples"
      ]
    },
    {
      "cell_type": "code",
      "metadata": {
        "id": "VB1rFuLPi9Ne",
        "colab_type": "code",
        "colab": {}
      },
      "source": [
        "def simple_evaluate_sample(sample_name, rhyme_function = rhyme, level=2):\n",
        "  with open(\"../generated_lyrics/\"+ sample_name + \".txt\", \"r\") as samplefile:\n",
        "    data = samplefile.read()\n",
        "  samplefile.close()\n",
        "  artists_name = sample_name.split(\"_\")[0]\n",
        "  if len(data)>0:\n",
        "    len_song = len(data)\n",
        "    nb_paragraphes = data.count('\\n\\n')\n",
        "    lines = get_lines(data)\n",
        "    nb_words = get_nb_words(lines)\n",
        "    nb_words_per_line = get_mean_nb_words_per_line(lines)\n",
        "    nb_repeated_lines = get_nb_repeated_lines(lines)\n",
        "    return len_song, nb_paragraphes, nb_words, nb_words_per_line, nb_repeated_lines\n",
        "  return None, None, None"
      ],
      "execution_count": 0,
      "outputs": []
    },
    {
      "cell_type": "code",
      "metadata": {
        "id": "0kvziCu_l6Jj",
        "colab_type": "code",
        "colab": {}
      },
      "source": [
        "def evaluate_sample(sample_name, rhyme_function = rhyme, level=2):\n",
        "  with open(\"../generated_lyrics/\"+ sample_name + \".txt\", \"r\") as samplefile:\n",
        "    data = samplefile.read()\n",
        "  samplefile.close()\n",
        "  artists_name = sample_name.split(\"_\")[0]\n",
        "  if len(data)>0:\n",
        "    len_song = len(data)\n",
        "    nb_paragraphes = len(data.split('\\n\\n'))\n",
        "    max_sim_score = get_max_similarity_score(data, artists_name,df)\n",
        "    rhyme_density = compute_rhyme_density(get_lines(data), rhyme_function, level = level)\n",
        "    nb_gram_errors = count_grammar_errors(get_lines(data))\n",
        "    return len_song, nb_paragraphes, max_sim_score, rhyme_density, nb_gram_errors\n",
        "  return None, None, None"
      ],
      "execution_count": 0,
      "outputs": []
    },
    {
      "cell_type": "code",
      "metadata": {
        "id": "eVjJYz9WZeo0",
        "colab_type": "code",
        "colab": {}
      },
      "source": [
        "def compare_samples(artists_name, model_type, start_epoch, end_epoch, nb_samples_per_epoch):\n",
        "  \"\"\" For a model already trained, compare samples of all epochs\"\"\"\n",
        "  len_songs = []\n",
        "  nb_paragraphes_list = []\n",
        "  #max_sim_scores = []\n",
        "  #rhymes_densities = []\n",
        "  #nb_gram_errorslist = []\n",
        "  nb_words_per_line_list = []\n",
        "  nb_words_list = []\n",
        "  nb_repeated_lines_list = []\n",
        "  for epoch in range(start_epoch, end_epoch+1):\n",
        "    epoch_len_songs = []\n",
        "    epoch_nb_paragraphes = []\n",
        "    epoch_nb_words_per_line_list = []\n",
        "    epoch_nb_words_list = []\n",
        "    epoch_nb_repeated_lines_list = []\n",
        "    # epoch_max_sim_scores = []\n",
        "    # epoch_rhymes_densities = []\n",
        "    # epoch_nb_gram_errorslist = []\n",
        "    for sample in range(1, nb_samples_per_epoch+1):\n",
        "        sample_name = artists_name + \"_\"+ model_type + \"_epoch\"+ str(epoch) + \"_sample\" +str(sample)\n",
        "        len_song, nb_paragraphes, nb_words, nb_words_per_line, nb_repeated_lines = simple_evaluate_sample(sample_name)\n",
        "        #len_song, nb_paragraphes, max_sim_score, rhyme_density, nb_gram_errors= evaluate_sample(sample_name)\n",
        "        epoch_len_songs.append(len_song)\n",
        "        epoch_nb_paragraphes.append(nb_paragraphes)\n",
        "        epoch_nb_words_per_line_list.append(nb_words_per_line)\n",
        "        epoch_nb_words_list.append(nb_words)\n",
        "        epoch_nb_repeated_lines_list.append(nb_repeated_lines)\n",
        "        # epoch_max_sim_scores.append(max_sim_score)\n",
        "        # epoch_rhymes_densities.append(rhyme_density)\n",
        "        # epoch_nb_gram_errorslist.append(nb_gram_errors)\n",
        "        print(\"Epoch {}, Sample {} has been evaluated\".format(epoch, sample))\n",
        "      \n",
        "    # Add mean values for samples of this epoch\n",
        "    len_songs.append(np.mean(epoch_len_songs))\n",
        "    nb_paragraphes_list.append(np.mean(epoch_nb_paragraphes))\n",
        "    nb_words_per_line_list.append(np.mean(epoch_nb_words_per_line_list))\n",
        "    nb_words_list.append(np.mean(epoch_nb_words_list))\n",
        "    nb_repeated_lines_list.append(np.mean(epoch_nb_repeated_lines_list))\n",
        "    # max_sim_scores.append(np.mean(epoch_max_sim_scores))\n",
        "    # rhymes_densities.append(np.mean(epoch_rhymes_densities))\n",
        "    # nb_gram_errorslist.append(np.mean(epoch_nb_gram_errorslist))\n",
        "  \n",
        "  return len_songs, nb_paragraphes_list, nb_words_per_line_list, nb_words_list, nb_repeated_lines_list\n",
        "  #return len_songs, nb_paragraphes_list, max_sim_scores, rhymes_densities, nb_gram_errorslist\n"
      ],
      "execution_count": 0,
      "outputs": []
    },
    {
      "cell_type": "markdown",
      "metadata": {
        "id": "XmKRHVyVjUG0",
        "colab_type": "text"
      },
      "source": [
        "## B) Final pipeline for both models"
      ]
    },
    {
      "cell_type": "markdown",
      "metadata": {
        "id": "modW6Jv-YISB",
        "colab_type": "text"
      },
      "source": [
        "### 1) word-LSTM"
      ]
    },
    {
      "cell_type": "code",
      "metadata": {
        "id": "2dj3s5tX9x2J",
        "colab_type": "code",
        "colab": {}
      },
      "source": [
        "#Final parameters for words-LSTM\n",
        "word_params = {'train_file':'songdata.csv',\n",
        "          'model_type':\"words\",\n",
        "          'artists_names':'The Beatles',\n",
        "          'embedding' : 'one-hot',\n",
        "          'ghostwrite' : True,\n",
        "          'nb_epochs' : 50,\n",
        "          #'nb_layers' : 1, \n",
        "          'nb_layers' : [1], \n",
        "          'seq_length' : 15,\n",
        "          'batch_size' : 40,\n",
        "          'hidden_size':512,\n",
        "          'optimizer' : torch.optim.Adam,\n",
        "          'learning_rate' : 0.01,\n",
        "          'dropout':0.0,\n",
        "          'clip':5,\n",
        "          'val_frac':0.2,\n",
        "          'top_k_sampling':5}"
      ],
      "execution_count": 0,
      "outputs": []
    },
    {
      "cell_type": "code",
      "metadata": {
        "id": "ZCjUQSjq-qq8",
        "colab_type": "code",
        "outputId": "58dec038-516c-4d6b-81d6-612c3e39a127",
        "colab": {
          "base_uri": "https://localhost:8080/",
          "height": 1000
        }
      },
      "source": [
        "# Add bracket somewhere in params to make it work\n",
        "run_plot_save(word_params, print_stats=True)"
      ],
      "execution_count": 280,
      "outputs": [
        {
          "output_type": "stream",
          "text": [
            "Number of songs :  178\n",
            "Text length after preprocessing is :  155201\n",
            "Epoch: [1/50] Step: [82] Loss: 4.7952 Val Loss: 4.1762 Val accuracy: 38.31%\n",
            "Epoch: [2/50] Step: [164] Loss: 3.6785 Val Loss: 3.4429 Val accuracy: 45.66%\n",
            "Epoch: [3/50] Step: [246] Loss: 2.9516 Val Loss: 2.8716 Val accuracy: 50.61%\n",
            "Epoch: [4/50] Step: [328] Loss: 2.3895 Val Loss: 2.4042 Val accuracy: 55.05%\n",
            "Epoch: [5/50] Step: [410] Loss: 1.9231 Val Loss: 2.1029 Val accuracy: 59.22%\n",
            "Epoch: [6/50] Step: [492] Loss: 1.6128 Val Loss: 1.9061 Val accuracy: 62.08%\n",
            "Epoch: [7/50] Step: [574] Loss: 1.3981 Val Loss: 1.7365 Val accuracy: 64.82%\n",
            "Epoch: [8/50] Step: [656] Loss: 1.2329 Val Loss: 1.8150 Val accuracy: 63.28%\n",
            "Epoch: [9/50] Step: [738] Loss: 1.1087 Val Loss: 1.6463 Val accuracy: 66.22%\n",
            "Epoch: [10/50] Step: [820] Loss: 1.0068 Val Loss: 1.5309 Val accuracy: 67.96%\n",
            "Epoch: [11/50] Step: [902] Loss: 0.9304 Val Loss: 1.4894 Val accuracy: 68.74%\n",
            "Epoch: [12/50] Step: [984] Loss: 0.8608 Val Loss: 1.3935 Val accuracy: 70.32%\n",
            "Epoch: [13/50] Step: [1066] Loss: 0.8034 Val Loss: 1.1436 Val accuracy: 75.16%\n",
            "Epoch: [14/50] Step: [1148] Loss: 0.7370 Val Loss: 1.2074 Val accuracy: 73.64%\n",
            "Epoch: [15/50] Step: [1230] Loss: 0.7137 Val Loss: 0.9983 Val accuracy: 77.50%\n",
            "Epoch: [16/50] Step: [1312] Loss: 0.6659 Val Loss: 0.9495 Val accuracy: 78.58%\n",
            "Epoch: [17/50] Step: [1394] Loss: 0.6233 Val Loss: 0.8910 Val accuracy: 79.79%\n",
            "Epoch: [18/50] Step: [1476] Loss: 0.5701 Val Loss: 0.8586 Val accuracy: 80.26%\n",
            "Epoch: [19/50] Step: [1558] Loss: 0.5481 Val Loss: 0.8257 Val accuracy: 80.81%\n",
            "Epoch: [20/50] Step: [1640] Loss: 0.5207 Val Loss: 0.8331 Val accuracy: 81.16%\n",
            "Epoch: [21/50] Step: [1722] Loss: 0.5123 Val Loss: 0.8529 Val accuracy: 81.08%\n",
            "Epoch: [22/50] Step: [1804] Loss: 0.4999 Val Loss: 0.9084 Val accuracy: 79.85%\n",
            "Epoch: [23/50] Step: [1886] Loss: 0.4707 Val Loss: 0.7447 Val accuracy: 83.29%\n",
            "Epoch: [24/50] Step: [1968] Loss: 0.4141 Val Loss: 0.5952 Val accuracy: 86.36%\n",
            "Epoch: [25/50] Step: [2050] Loss: 0.3722 Val Loss: 0.5851 Val accuracy: 86.97%\n",
            "Epoch: [26/50] Step: [2132] Loss: 0.3421 Val Loss: 0.6124 Val accuracy: 86.39%\n",
            "Epoch: [27/50] Step: [2214] Loss: 0.3186 Val Loss: 0.5214 Val accuracy: 88.39%\n",
            "Epoch: [28/50] Step: [2296] Loss: 0.2921 Val Loss: 0.4298 Val accuracy: 90.56%\n",
            "Epoch: [29/50] Step: [2378] Loss: 0.2784 Val Loss: 0.4186 Val accuracy: 91.08%\n",
            "Epoch: [30/50] Step: [2460] Loss: 0.2618 Val Loss: 0.4009 Val accuracy: 90.98%\n",
            "Epoch: [31/50] Step: [2542] Loss: 0.2425 Val Loss: 0.4034 Val accuracy: 91.28%\n",
            "Epoch: [32/50] Step: [2624] Loss: 0.2277 Val Loss: 0.3773 Val accuracy: 91.95%\n",
            "Epoch: [33/50] Step: [2706] Loss: 0.2171 Val Loss: 0.3641 Val accuracy: 92.15%\n",
            "Epoch: [34/50] Step: [2788] Loss: 0.2031 Val Loss: 0.3425 Val accuracy: 92.88%\n",
            "Epoch: [35/50] Step: [2870] Loss: 0.1934 Val Loss: 0.3289 Val accuracy: 93.22%\n",
            "Epoch: [36/50] Step: [2952] Loss: 0.1844 Val Loss: 0.3199 Val accuracy: 93.44%\n",
            "Epoch: [37/50] Step: [3034] Loss: 0.1822 Val Loss: 0.3275 Val accuracy: 93.19%\n",
            "Epoch: [38/50] Step: [3116] Loss: 0.1821 Val Loss: 0.3229 Val accuracy: 93.24%\n",
            "Epoch: [39/50] Step: [3198] Loss: 0.1764 Val Loss: 0.3380 Val accuracy: 92.81%\n",
            "Epoch: [40/50] Step: [3280] Loss: 0.1742 Val Loss: 0.3489 Val accuracy: 92.83%\n",
            "Epoch: [41/50] Step: [3362] Loss: 0.1761 Val Loss: 0.3286 Val accuracy: 93.14%\n",
            "Epoch: [42/50] Step: [3444] Loss: 0.1756 Val Loss: 0.3016 Val accuracy: 93.71%\n",
            "Epoch: [43/50] Step: [3526] Loss: 0.1716 Val Loss: 0.2720 Val accuracy: 94.62%\n",
            "Epoch: [44/50] Step: [3608] Loss: 0.1580 Val Loss: 0.2700 Val accuracy: 94.88%\n",
            "Epoch: [45/50] Step: [3690] Loss: 0.1566 Val Loss: 0.2590 Val accuracy: 95.06%\n",
            "Epoch: [46/50] Step: [3772] Loss: 0.1507 Val Loss: 0.2663 Val accuracy: 94.80%\n",
            "Epoch: [47/50] Step: [3854] Loss: 0.1583 Val Loss: 0.2678 Val accuracy: 94.70%\n",
            "Epoch: [48/50] Step: [3936] Loss: 0.1521 Val Loss: 0.2596 Val accuracy: 95.11%\n",
            "Epoch: [49/50] Step: [4018] Loss: 0.1478 Val Loss: 0.2427 Val accuracy: 95.34%\n",
            "Epoch: [50/50] Step: [4100] Loss: 0.1361 Val Loss: 0.2474 Val accuracy: 95.27%\n",
            "Model 1 : nb_layers = 1, accuracy = 95.27%, training time = 65.65 sec\n",
            "Best nb_layers : 1\n",
            "Accuracy of the best model on validation data: 95.27 %\n",
            "Training time of the best model: 65.65 seconds\n"
          ],
          "name": "stdout"
        },
        {
          "output_type": "display_data",
          "data": {
            "image/png": "[encoded data removed]",
            "text/plain": [
              "<Figure size 720x288 with 1 Axes>"
            ]
          },
          "metadata": {
            "tags": []
          }
        },
        {
          "output_type": "display_data",
          "data": {
            "image/png": "[encoded data removed]",
            "text/plain": [
              "<Figure size 1008x288 with 1 Axes>"
            ]
          },
          "metadata": {
            "tags": []
          }
        }
      ]
    },
    {
      "cell_type": "code",
      "metadata": {
        "id": "B7R0QxE0dN05",
        "colab_type": "code",
        "outputId": "4ad96ef3-5ad4-4bab-81a0-d5bbd394e612",
        "colab": {
          "base_uri": "https://localhost:8080/",
          "height": 890
        }
      },
      "source": [
        "generate_save_models(word_params)"
      ],
      "execution_count": 0,
      "outputs": [
        {
          "output_type": "stream",
          "text": [
            "Number of songs :  178\n",
            "Text length is :  155201\n",
            "Saved model at epoch 1\n",
            "Saved model at epoch 2\n",
            "Saved model at epoch 3\n",
            "Saved model at epoch 4\n",
            "Saved model at epoch 5\n",
            "Saved model at epoch 6\n",
            "Saved model at epoch 7\n",
            "Saved model at epoch 8\n",
            "Saved model at epoch 9\n",
            "Saved model at epoch 10\n",
            "Saved model at epoch 11\n",
            "Saved model at epoch 12\n",
            "Saved model at epoch 13\n",
            "Saved model at epoch 14\n",
            "Saved model at epoch 15\n",
            "Saved model at epoch 16\n",
            "Saved model at epoch 17\n",
            "Saved model at epoch 18\n",
            "Saved model at epoch 19\n",
            "Saved model at epoch 20\n",
            "Saved model at epoch 21\n",
            "Saved model at epoch 22\n",
            "Saved model at epoch 23\n",
            "Saved model at epoch 24\n",
            "Saved model at epoch 25\n",
            "Saved model at epoch 26\n",
            "Saved model at epoch 27\n",
            "Saved model at epoch 28\n",
            "Saved model at epoch 29\n",
            "Saved model at epoch 30\n",
            "Saved model at epoch 31\n",
            "Saved model at epoch 32\n",
            "Saved model at epoch 33\n",
            "Saved model at epoch 34\n",
            "Saved model at epoch 35\n",
            "Saved model at epoch 36\n",
            "Saved model at epoch 37\n",
            "Saved model at epoch 38\n",
            "Saved model at epoch 39\n",
            "Saved model at epoch 40\n",
            "Saved model at epoch 41\n",
            "Saved model at epoch 42\n",
            "Saved model at epoch 43\n",
            "Saved model at epoch 44\n",
            "Saved model at epoch 45\n",
            "Saved model at epoch 46\n",
            "Saved model at epoch 47\n",
            "Saved model at epoch 48\n",
            "Saved model at epoch 49\n",
            "Saved model at epoch 50\n"
          ],
          "name": "stdout"
        }
      ]
    },
    {
      "cell_type": "code",
      "metadata": {
        "id": "zWkebTUZWAJp",
        "colab_type": "code",
        "outputId": "d30f70f9-8126-436d-92e1-f07fe4dc268a",
        "colab": {
          "base_uri": "https://localhost:8080/",
          "height": 857
        }
      },
      "source": [
        "generate_samples_epochs(\"The Beatles\", \"words\", 50, 1, 173, \"<startsong>\", automatic_end=True)"
      ],
      "execution_count": 281,
      "outputs": [
        {
          "output_type": "stream",
          "text": [
            "Samples generated for epoch 1\n",
            "Samples generated for epoch 2\n",
            "Samples generated for epoch 3\n",
            "Samples generated for epoch 4\n",
            "Samples generated for epoch 5\n",
            "Samples generated for epoch 6\n",
            "Samples generated for epoch 7\n",
            "Samples generated for epoch 8\n",
            "Samples generated for epoch 9\n",
            "Samples generated for epoch 10\n",
            "Samples generated for epoch 11\n",
            "Samples generated for epoch 12\n",
            "Samples generated for epoch 13\n",
            "Samples generated for epoch 14\n",
            "Samples generated for epoch 15\n",
            "Samples generated for epoch 16\n",
            "Samples generated for epoch 17\n",
            "Samples generated for epoch 18\n",
            "Samples generated for epoch 19\n",
            "Samples generated for epoch 20\n",
            "Samples generated for epoch 21\n",
            "Samples generated for epoch 22\n",
            "Samples generated for epoch 23\n",
            "Samples generated for epoch 24\n",
            "Samples generated for epoch 25\n",
            "Samples generated for epoch 26\n",
            "Samples generated for epoch 27\n",
            "Samples generated for epoch 28\n",
            "Samples generated for epoch 29\n",
            "Samples generated for epoch 30\n",
            "Samples generated for epoch 31\n",
            "Samples generated for epoch 32\n",
            "Samples generated for epoch 33\n",
            "Samples generated for epoch 34\n",
            "Samples generated for epoch 35\n",
            "Samples generated for epoch 36\n",
            "Samples generated for epoch 37\n",
            "Samples generated for epoch 38\n",
            "Samples generated for epoch 39\n",
            "Samples generated for epoch 40\n",
            "Samples generated for epoch 41\n",
            "Samples generated for epoch 42\n",
            "Samples generated for epoch 43\n",
            "Samples generated for epoch 44\n",
            "Samples generated for epoch 45\n",
            "Samples generated for epoch 46\n",
            "Samples generated for epoch 47\n",
            "Samples generated for epoch 48\n",
            "Samples generated for epoch 49\n",
            "Samples generated for epoch 50\n"
          ],
          "name": "stdout"
        }
      ]
    },
    {
      "cell_type": "code",
      "metadata": {
        "id": "G3kPCqL4X9bm",
        "colab_type": "code",
        "outputId": "383b8010-d0e9-4d56-df21-74c1e1e07e88",
        "colab": {
          "base_uri": "https://localhost:8080/",
          "height": 857
        }
      },
      "source": [
        "#len_songs, nb_paragraphes, max_sim_scores, rhymes_densities, nb_gram_errorslist = compare_samples(\"The Beatles\", \"words\", 15, 20, 1)\n",
        "len_songs, nb_paragraphes_list, nb_words_per_line_list, nb_words_list, nb_repeated_lines_list = compare_samples(\"The Beatles\", \"words\", 1, 50, 1)"
      ],
      "execution_count": 282,
      "outputs": [
        {
          "output_type": "stream",
          "text": [
            "Epoch 1, Sample 1 has been evaluated\n",
            "Epoch 2, Sample 1 has been evaluated\n",
            "Epoch 3, Sample 1 has been evaluated\n",
            "Epoch 4, Sample 1 has been evaluated\n",
            "Epoch 5, Sample 1 has been evaluated\n",
            "Epoch 6, Sample 1 has been evaluated\n",
            "Epoch 7, Sample 1 has been evaluated\n",
            "Epoch 8, Sample 1 has been evaluated\n",
            "Epoch 9, Sample 1 has been evaluated\n",
            "Epoch 10, Sample 1 has been evaluated\n",
            "Epoch 11, Sample 1 has been evaluated\n",
            "Epoch 12, Sample 1 has been evaluated\n",
            "Epoch 13, Sample 1 has been evaluated\n",
            "Epoch 14, Sample 1 has been evaluated\n",
            "Epoch 15, Sample 1 has been evaluated\n",
            "Epoch 16, Sample 1 has been evaluated\n",
            "Epoch 17, Sample 1 has been evaluated\n",
            "Epoch 18, Sample 1 has been evaluated\n",
            "Epoch 19, Sample 1 has been evaluated\n",
            "Epoch 20, Sample 1 has been evaluated\n",
            "Epoch 21, Sample 1 has been evaluated\n",
            "Epoch 22, Sample 1 has been evaluated\n",
            "Epoch 23, Sample 1 has been evaluated\n",
            "Epoch 24, Sample 1 has been evaluated\n",
            "Epoch 25, Sample 1 has been evaluated\n",
            "Epoch 26, Sample 1 has been evaluated\n",
            "Epoch 27, Sample 1 has been evaluated\n",
            "Epoch 28, Sample 1 has been evaluated\n",
            "Epoch 29, Sample 1 has been evaluated\n",
            "Epoch 30, Sample 1 has been evaluated\n",
            "Epoch 31, Sample 1 has been evaluated\n",
            "Epoch 32, Sample 1 has been evaluated\n",
            "Epoch 33, Sample 1 has been evaluated\n",
            "Epoch 34, Sample 1 has been evaluated\n",
            "Epoch 35, Sample 1 has been evaluated\n",
            "Epoch 36, Sample 1 has been evaluated\n",
            "Epoch 37, Sample 1 has been evaluated\n",
            "Epoch 38, Sample 1 has been evaluated\n",
            "Epoch 39, Sample 1 has been evaluated\n",
            "Epoch 40, Sample 1 has been evaluated\n",
            "Epoch 41, Sample 1 has been evaluated\n",
            "Epoch 42, Sample 1 has been evaluated\n",
            "Epoch 43, Sample 1 has been evaluated\n",
            "Epoch 44, Sample 1 has been evaluated\n",
            "Epoch 45, Sample 1 has been evaluated\n",
            "Epoch 46, Sample 1 has been evaluated\n",
            "Epoch 47, Sample 1 has been evaluated\n",
            "Epoch 48, Sample 1 has been evaluated\n",
            "Epoch 49, Sample 1 has been evaluated\n",
            "Epoch 50, Sample 1 has been evaluated\n"
          ],
          "name": "stdout"
        }
      ]
    },
    {
      "cell_type": "code",
      "metadata": {
        "id": "GIZfuUhlqPat",
        "colab_type": "code",
        "colab": {
          "base_uri": "https://localhost:8080/",
          "height": 118
        },
        "outputId": "4c7f97ee-44b7-417e-bcb3-b64fa7a635ed"
      },
      "source": [
        "# COMPUTE ALL METRICS FOR ONE SAMPLE\n",
        "sample_name = \"The Beatles_words_epoch49_sample1\"\n",
        "with open(\"../generated_lyrics/\"+ sample_name + \".txt\", \"r\") as samplefile:\n",
        "    generated_song = samplefile.read()\n",
        "samplefile.close()\n",
        "print(\"max score\", get_max_similarity_score(generated_song,artist,df))\n",
        "lines = get_lines(generated_song)\n",
        "print(\"rhyme density\", compute_rhyme_density(lines))\n",
        "print(\"grammar errors\", count_grammar_errors(lines))\n",
        "print(\"song length\", len(generated_song))\n",
        "print(\"mean length of a line\", get_mean_len_line(lines))\n",
        "print(\"nb_paragraphes\", generated_song.count(\"\\n\\n\"))"
      ],
      "execution_count": 290,
      "outputs": [
        {
          "output_type": "stream",
          "text": [
            "max score 0.2278169351586046\n",
            "rhyme density 0.1111111111111111\n",
            "grammar errors 5\n",
            "song length 607\n",
            "mean length of a line 31\n",
            "nb_paragraphes 3\n"
          ],
          "name": "stdout"
        }
      ]
    },
    {
      "cell_type": "code",
      "metadata": {
        "id": "K6QCMTX5wzFR",
        "colab_type": "code",
        "colab": {
          "base_uri": "https://localhost:8080/",
          "height": 34
        },
        "outputId": "e36acbba-5f7f-4879-913d-1562d099fc1f"
      },
      "source": [
        "np.mean(len_songs)"
      ],
      "execution_count": 291,
      "outputs": [
        {
          "output_type": "execute_result",
          "data": {
            "text/plain": [
              "641.82"
            ]
          },
          "metadata": {
            "tags": []
          },
          "execution_count": 291
        }
      ]
    },
    {
      "cell_type": "code",
      "metadata": {
        "id": "uuyA0WWPrJZ9",
        "colab_type": "code",
        "colab": {
          "base_uri": "https://localhost:8080/",
          "height": 283
        },
        "outputId": "7e3994a4-778b-477c-b046-d3df841a0347"
      },
      "source": [
        "plt.plot(len_songs)\n",
        "plt.show"
      ],
      "execution_count": 286,
      "outputs": [
        {
          "output_type": "execute_result",
          "data": {
            "text/plain": [
              "<function matplotlib.pyplot.show>"
            ]
          },
          "metadata": {
            "tags": []
          },
          "execution_count": 286
        },
        {
          "output_type": "display_data",
          "data": {
            "image/png": "[encoded data removed]",
            "text/plain": [
              "<Figure size 432x288 with 1 Axes>"
            ]
          },
          "metadata": {
            "tags": []
          }
        }
      ]
    },
    {
      "cell_type": "code",
      "metadata": {
        "id": "f5qCbWdmZOfQ",
        "colab_type": "code",
        "outputId": "3a6ab501-dd47-4760-ad7b-5043a1aa204c",
        "colab": {
          "base_uri": "https://localhost:8080/",
          "height": 269
        }
      },
      "source": [
        "epochs = [i for i in range (15, 21)]\n",
        "plt.figure(figsize=(15,4))\n",
        "plt.subplot(1, 2, 1)\n",
        "plt.plot(epochs, max_sim_scores, label=\"Max similarity score\")\n",
        "plt.plot(epochs, rhymes_densities, label= \"Rhyme density\")\n",
        "plt.legend(loc='best')\n",
        "plt.subplot(1, 2, 2)\n",
        "plt.plot(epochs, nb_gram_errorslist, label= \"Nb grammar errors\")\n",
        "plt.legend(loc='best')\n",
        "plt.show()"
      ],
      "execution_count": 0,
      "outputs": [
        {
          "output_type": "display_data",
          "data": {
            "image/png": "[encoded data removed]",
            "text/plain": [
              "<Figure size 1080x288 with 2 Axes>"
            ]
          },
          "metadata": {
            "tags": []
          }
        }
      ]
    },
    {
      "cell_type": "markdown",
      "metadata": {
        "id": "CeDWMzDQYKgR",
        "colab_type": "text"
      },
      "source": [
        "### 2) chars-LSTM"
      ]
    },
    {
      "cell_type": "code",
      "metadata": {
        "id": "rM89V9OUdOQo",
        "colab_type": "code",
        "colab": {}
      },
      "source": [
        "# Final parameters for chars-LSTM\n",
        "chars_params = {'train_file':'songdata.csv',\n",
        "          'model_type':\"chars\",\n",
        "          'artists_names':'The Beatles',\n",
        "          'embedding' : 'one-hot',\n",
        "          'ghostwrite' : True,\n",
        "          'nb_epochs' : 50,\n",
        "          #'nb_layers' : 1, \n",
        "          'nb_layers' : [1],\n",
        "          'seq_length' : 10,\n",
        "          'batch_size' : 40,\n",
        "          'hidden_size':512,\n",
        "          'optimizer' : torch.optim.Adam,\n",
        "          'learning_rate' : 0.01,\n",
        "          'dropout':0.0,\n",
        "          'clip':5,\n",
        "          'val_frac':0.2,\n",
        "          'top_k_sampling':5}"
      ],
      "execution_count": 0,
      "outputs": []
    },
    {
      "cell_type": "code",
      "metadata": {
        "id": "3HozvsAKo8sk",
        "colab_type": "code",
        "colab": {
          "base_uri": "https://localhost:8080/",
          "height": 1000
        },
        "outputId": "23d578d4-c448-49f1-f778-a3362ceb61f1"
      },
      "source": [
        "# Add bracket somewhere in params to make it work\n",
        "run_plot_save(chars_params, print_stats=True)"
      ],
      "execution_count": 239,
      "outputs": [
        {
          "output_type": "stream",
          "text": [
            "Number of songs :  178\n",
            "Text length after preprocessing is :  155201\n",
            "Epoch: [1/50] Step: [558] Loss: 1.4372 Val Loss: 1.2260 Val accuracy: 63.04%\n",
            "Epoch: [2/50] Step: [1116] Loss: 0.9888 Val Loss: 1.0162 Val accuracy: 69.63%\n",
            "Epoch: [3/50] Step: [1674] Loss: 0.8683 Val Loss: 0.9879 Val accuracy: 69.39%\n",
            "Epoch: [4/50] Step: [2232] Loss: 0.7976 Val Loss: 0.8652 Val accuracy: 73.94%\n",
            "Epoch: [5/50] Step: [2790] Loss: 0.7490 Val Loss: 0.8155 Val accuracy: 75.32%\n",
            "Epoch: [6/50] Step: [3348] Loss: 0.7117 Val Loss: 0.7905 Val accuracy: 76.10%\n",
            "Epoch: [7/50] Step: [3906] Loss: 0.6875 Val Loss: 0.7654 Val accuracy: 76.71%\n",
            "Epoch: [8/50] Step: [4464] Loss: 0.6636 Val Loss: 0.7390 Val accuracy: 77.34%\n",
            "Epoch: [9/50] Step: [5022] Loss: 0.6424 Val Loss: 0.7183 Val accuracy: 78.11%\n",
            "Epoch: [10/50] Step: [5580] Loss: 0.6263 Val Loss: 0.7161 Val accuracy: 77.98%\n",
            "Epoch: [11/50] Step: [6138] Loss: 0.6135 Val Loss: 0.6971 Val accuracy: 78.68%\n",
            "Epoch: [12/50] Step: [6696] Loss: 0.6052 Val Loss: 0.6860 Val accuracy: 79.05%\n",
            "Epoch: [13/50] Step: [7254] Loss: 0.5915 Val Loss: 0.6708 Val accuracy: 79.53%\n",
            "Epoch: [14/50] Step: [7812] Loss: 0.5814 Val Loss: 0.6550 Val accuracy: 79.88%\n",
            "Epoch: [15/50] Step: [8370] Loss: 0.5684 Val Loss: 0.6475 Val accuracy: 79.94%\n",
            "Epoch: [16/50] Step: [8928] Loss: 0.5630 Val Loss: 0.6516 Val accuracy: 79.75%\n",
            "Epoch: [17/50] Step: [9486] Loss: 0.5605 Val Loss: 0.6421 Val accuracy: 80.22%\n",
            "Epoch: [18/50] Step: [10044] Loss: 0.5529 Val Loss: 0.6282 Val accuracy: 80.50%\n",
            "Epoch: [19/50] Step: [10602] Loss: 0.5424 Val Loss: 0.6139 Val accuracy: 80.87%\n",
            "Epoch: [20/50] Step: [11160] Loss: 0.5341 Val Loss: 0.6143 Val accuracy: 80.89%\n",
            "Epoch: [21/50] Step: [11718] Loss: 0.5332 Val Loss: 0.6000 Val accuracy: 81.51%\n",
            "Epoch: [22/50] Step: [12276] Loss: 0.5264 Val Loss: 0.5920 Val accuracy: 81.66%\n",
            "Epoch: [23/50] Step: [12834] Loss: 0.5207 Val Loss: 0.5909 Val accuracy: 81.60%\n",
            "Epoch: [24/50] Step: [13392] Loss: 0.5168 Val Loss: 0.5765 Val accuracy: 82.10%\n",
            "Epoch: [25/50] Step: [13950] Loss: 0.5116 Val Loss: 0.5732 Val accuracy: 82.02%\n",
            "Epoch: [26/50] Step: [14508] Loss: 0.5061 Val Loss: 0.5819 Val accuracy: 82.17%\n",
            "Epoch: [27/50] Step: [15066] Loss: 0.5062 Val Loss: 0.5677 Val accuracy: 82.30%\n",
            "Epoch: [28/50] Step: [15624] Loss: 0.5024 Val Loss: 0.5666 Val accuracy: 82.38%\n",
            "Epoch: [29/50] Step: [16182] Loss: 0.4978 Val Loss: 0.5630 Val accuracy: 82.70%\n",
            "Epoch: [30/50] Step: [16740] Loss: 0.4999 Val Loss: 0.5608 Val accuracy: 82.59%\n",
            "Epoch: [31/50] Step: [17298] Loss: 0.4909 Val Loss: 0.5500 Val accuracy: 83.02%\n",
            "Epoch: [32/50] Step: [17856] Loss: 0.4876 Val Loss: 0.5539 Val accuracy: 82.73%\n",
            "Epoch: [33/50] Step: [18414] Loss: 0.4829 Val Loss: 0.5422 Val accuracy: 83.39%\n",
            "Epoch: [34/50] Step: [18972] Loss: 0.4866 Val Loss: 0.5501 Val accuracy: 82.99%\n",
            "Epoch: [35/50] Step: [19530] Loss: 0.4833 Val Loss: 0.5488 Val accuracy: 83.09%\n",
            "Epoch: [36/50] Step: [20088] Loss: 0.4800 Val Loss: 0.5407 Val accuracy: 83.21%\n",
            "Epoch: [37/50] Step: [20646] Loss: 0.4824 Val Loss: 0.5299 Val accuracy: 83.52%\n",
            "Epoch: [38/50] Step: [21204] Loss: 0.4792 Val Loss: 0.5476 Val accuracy: 83.15%\n",
            "Epoch: [39/50] Step: [21762] Loss: 0.4795 Val Loss: 0.5378 Val accuracy: 83.32%\n",
            "Epoch: [40/50] Step: [22320] Loss: 0.4736 Val Loss: 0.5344 Val accuracy: 83.43%\n",
            "Epoch: [41/50] Step: [22878] Loss: 0.4751 Val Loss: 0.5311 Val accuracy: 83.40%\n",
            "Epoch: [42/50] Step: [23436] Loss: 0.4757 Val Loss: 0.5247 Val accuracy: 83.75%\n",
            "Epoch: [43/50] Step: [23994] Loss: 0.4589 Val Loss: 0.5136 Val accuracy: 84.17%\n",
            "Epoch: [44/50] Step: [24552] Loss: 0.4649 Val Loss: 0.5317 Val accuracy: 83.57%\n",
            "Epoch: [45/50] Step: [25110] Loss: 0.4717 Val Loss: 0.5221 Val accuracy: 83.83%\n",
            "Epoch: [46/50] Step: [25668] Loss: 0.4654 Val Loss: 0.5156 Val accuracy: 83.98%\n",
            "Epoch: [47/50] Step: [26226] Loss: 0.4651 Val Loss: 0.5202 Val accuracy: 83.83%\n",
            "Epoch: [48/50] Step: [26784] Loss: 0.4591 Val Loss: 0.5048 Val accuracy: 84.44%\n",
            "Epoch: [49/50] Step: [27342] Loss: 0.4559 Val Loss: 0.5045 Val accuracy: 84.50%\n",
            "Epoch: [50/50] Step: [27900] Loss: 0.4529 Val Loss: 0.5011 Val accuracy: 84.48%\n",
            "Model 1 : nb_layers = 1, accuracy = 84.48%, training time = 139.59 sec\n",
            "Best nb_layers : 1\n",
            "Accuracy of the best model on validation data: 84.48 %\n",
            "Training time of the best model: 139.59 seconds\n"
          ],
          "name": "stdout"
        },
        {
          "output_type": "display_data",
          "data": {
            "image/png": "[encoded data removed]",
            "text/plain": [
              "<Figure size 720x288 with 1 Axes>"
            ]
          },
          "metadata": {
            "tags": []
          }
        },
        {
          "output_type": "display_data",
          "data": {
            "image/png": "[encoded data removed]",
            "text/plain": [
              "<Figure size 1008x288 with 1 Axes>"
            ]
          },
          "metadata": {
            "tags": []
          }
        }
      ]
    },
    {
      "cell_type": "code",
      "metadata": {
        "id": "3n5eVC3Fa9Ia",
        "colab_type": "code",
        "colab": {
          "base_uri": "https://localhost:8080/",
          "height": 1000
        },
        "outputId": "8a347c6c-d96a-4c09-9fd3-44c78f7567ce"
      },
      "source": [
        "generate_save_models(chars_params)"
      ],
      "execution_count": 181,
      "outputs": [
        {
          "output_type": "stream",
          "text": [
            "Number of songs :  178\n",
            "Text length after preprocessing is :  155201\n",
            "save model True\n",
            "Saved model at epoch 1\n",
            "save model True\n",
            "Saved model at epoch 2\n",
            "save model True\n",
            "Saved model at epoch 3\n",
            "save model True\n",
            "Saved model at epoch 4\n",
            "save model True\n",
            "Saved model at epoch 5\n",
            "save model True\n",
            "Saved model at epoch 6\n",
            "save model True\n",
            "Saved model at epoch 7\n",
            "save model True\n",
            "Saved model at epoch 8\n",
            "save model True\n",
            "Saved model at epoch 9\n",
            "save model True\n",
            "Saved model at epoch 10\n",
            "save model True\n",
            "Saved model at epoch 11\n",
            "save model True\n",
            "Saved model at epoch 12\n",
            "save model True\n",
            "Saved model at epoch 13\n",
            "save model True\n",
            "Saved model at epoch 14\n",
            "save model True\n",
            "Saved model at epoch 15\n",
            "save model True\n",
            "Saved model at epoch 16\n",
            "save model True\n",
            "Saved model at epoch 17\n",
            "save model True\n",
            "Saved model at epoch 18\n",
            "save model True\n",
            "Saved model at epoch 19\n",
            "save model True\n",
            "Saved model at epoch 20\n",
            "save model True\n",
            "Saved model at epoch 21\n",
            "save model True\n",
            "Saved model at epoch 22\n",
            "save model True\n",
            "Saved model at epoch 23\n",
            "save model True\n",
            "Saved model at epoch 24\n",
            "save model True\n",
            "Saved model at epoch 25\n",
            "save model True\n",
            "Saved model at epoch 26\n",
            "save model True\n",
            "Saved model at epoch 27\n",
            "save model True\n",
            "Saved model at epoch 28\n",
            "save model True\n",
            "Saved model at epoch 29\n",
            "save model True\n",
            "Saved model at epoch 30\n",
            "save model True\n",
            "Saved model at epoch 31\n",
            "save model True\n",
            "Saved model at epoch 32\n",
            "save model True\n",
            "Saved model at epoch 33\n",
            "save model True\n",
            "Saved model at epoch 34\n",
            "save model True\n",
            "Saved model at epoch 35\n",
            "save model True\n",
            "Saved model at epoch 36\n",
            "save model True\n",
            "Saved model at epoch 37\n",
            "save model True\n",
            "Saved model at epoch 38\n",
            "save model True\n",
            "Saved model at epoch 39\n",
            "save model True\n",
            "Saved model at epoch 40\n",
            "save model True\n",
            "Saved model at epoch 41\n",
            "save model True\n",
            "Saved model at epoch 42\n",
            "save model True\n",
            "Saved model at epoch 43\n",
            "save model True\n",
            "Saved model at epoch 44\n",
            "save model True\n",
            "Saved model at epoch 45\n",
            "save model True\n",
            "Saved model at epoch 46\n",
            "save model True\n",
            "Saved model at epoch 47\n",
            "save model True\n",
            "Saved model at epoch 48\n",
            "save model True\n",
            "Saved model at epoch 49\n",
            "save model True\n",
            "Saved model at epoch 50\n"
          ],
          "name": "stdout"
        }
      ]
    },
    {
      "cell_type": "code",
      "metadata": {
        "id": "8AJ9Qd8sbB-B",
        "colab_type": "code",
        "colab": {
          "base_uri": "https://localhost:8080/",
          "height": 857
        },
        "outputId": "fbc2a802-3ee9-4c2a-9bb7-fa4cdef167c6"
      },
      "source": [
        "generate_samples_epochs(\"The Beatles\", \"chars\", 50, 1, 919, \"<startsong>\", automatic_end=False)"
      ],
      "execution_count": 269,
      "outputs": [
        {
          "output_type": "stream",
          "text": [
            "Samples generated for epoch 1\n",
            "Samples generated for epoch 2\n",
            "Samples generated for epoch 3\n",
            "Samples generated for epoch 4\n",
            "Samples generated for epoch 5\n",
            "Samples generated for epoch 6\n",
            "Samples generated for epoch 7\n",
            "Samples generated for epoch 8\n",
            "Samples generated for epoch 9\n",
            "Samples generated for epoch 10\n",
            "Samples generated for epoch 11\n",
            "Samples generated for epoch 12\n",
            "Samples generated for epoch 13\n",
            "Samples generated for epoch 14\n",
            "Samples generated for epoch 15\n",
            "Samples generated for epoch 16\n",
            "Samples generated for epoch 17\n",
            "Samples generated for epoch 18\n",
            "Samples generated for epoch 19\n",
            "Samples generated for epoch 20\n",
            "Samples generated for epoch 21\n",
            "Samples generated for epoch 22\n",
            "Samples generated for epoch 23\n",
            "Samples generated for epoch 24\n",
            "Samples generated for epoch 25\n",
            "Samples generated for epoch 26\n",
            "Samples generated for epoch 27\n",
            "Samples generated for epoch 28\n",
            "Samples generated for epoch 29\n",
            "Samples generated for epoch 30\n",
            "Samples generated for epoch 31\n",
            "Samples generated for epoch 32\n",
            "Samples generated for epoch 33\n",
            "Samples generated for epoch 34\n",
            "Samples generated for epoch 35\n",
            "Samples generated for epoch 36\n",
            "Samples generated for epoch 37\n",
            "Samples generated for epoch 38\n",
            "Samples generated for epoch 39\n",
            "Samples generated for epoch 40\n",
            "Samples generated for epoch 41\n",
            "Samples generated for epoch 42\n",
            "Samples generated for epoch 43\n",
            "Samples generated for epoch 44\n",
            "Samples generated for epoch 45\n",
            "Samples generated for epoch 46\n",
            "Samples generated for epoch 47\n",
            "Samples generated for epoch 48\n",
            "Samples generated for epoch 49\n",
            "Samples generated for epoch 50\n"
          ],
          "name": "stdout"
        }
      ]
    },
    {
      "cell_type": "code",
      "metadata": {
        "id": "9Df8aDcEcI1B",
        "colab_type": "code",
        "colab": {
          "base_uri": "https://localhost:8080/",
          "height": 857
        },
        "outputId": "29a5faff-91b4-4f46-9443-af62e40fbc71"
      },
      "source": [
        "len_songs, nb_paragraphes_list, nb_words_per_line_list, nb_words_list, nb_repeated_lines_list = compare_samples(\"The Beatles\", \"chars\", 1, 50, 1)"
      ],
      "execution_count": 270,
      "outputs": [
        {
          "output_type": "stream",
          "text": [
            "Epoch 1, Sample 1 has been evaluated\n",
            "Epoch 2, Sample 1 has been evaluated\n",
            "Epoch 3, Sample 1 has been evaluated\n",
            "Epoch 4, Sample 1 has been evaluated\n",
            "Epoch 5, Sample 1 has been evaluated\n",
            "Epoch 6, Sample 1 has been evaluated\n",
            "Epoch 7, Sample 1 has been evaluated\n",
            "Epoch 8, Sample 1 has been evaluated\n",
            "Epoch 9, Sample 1 has been evaluated\n",
            "Epoch 10, Sample 1 has been evaluated\n",
            "Epoch 11, Sample 1 has been evaluated\n",
            "Epoch 12, Sample 1 has been evaluated\n",
            "Epoch 13, Sample 1 has been evaluated\n",
            "Epoch 14, Sample 1 has been evaluated\n",
            "Epoch 15, Sample 1 has been evaluated\n",
            "Epoch 16, Sample 1 has been evaluated\n",
            "Epoch 17, Sample 1 has been evaluated\n",
            "Epoch 18, Sample 1 has been evaluated\n",
            "Epoch 19, Sample 1 has been evaluated\n",
            "Epoch 20, Sample 1 has been evaluated\n",
            "Epoch 21, Sample 1 has been evaluated\n",
            "Epoch 22, Sample 1 has been evaluated\n",
            "Epoch 23, Sample 1 has been evaluated\n",
            "Epoch 24, Sample 1 has been evaluated\n",
            "Epoch 25, Sample 1 has been evaluated\n",
            "Epoch 26, Sample 1 has been evaluated\n",
            "Epoch 27, Sample 1 has been evaluated\n",
            "Epoch 28, Sample 1 has been evaluated\n",
            "Epoch 29, Sample 1 has been evaluated\n",
            "Epoch 30, Sample 1 has been evaluated\n",
            "Epoch 31, Sample 1 has been evaluated\n",
            "Epoch 32, Sample 1 has been evaluated\n",
            "Epoch 33, Sample 1 has been evaluated\n",
            "Epoch 34, Sample 1 has been evaluated\n",
            "Epoch 35, Sample 1 has been evaluated\n",
            "Epoch 36, Sample 1 has been evaluated\n",
            "Epoch 37, Sample 1 has been evaluated\n",
            "Epoch 38, Sample 1 has been evaluated\n",
            "Epoch 39, Sample 1 has been evaluated\n",
            "Epoch 40, Sample 1 has been evaluated\n",
            "Epoch 41, Sample 1 has been evaluated\n",
            "Epoch 42, Sample 1 has been evaluated\n",
            "Epoch 43, Sample 1 has been evaluated\n",
            "Epoch 44, Sample 1 has been evaluated\n",
            "Epoch 45, Sample 1 has been evaluated\n",
            "Epoch 46, Sample 1 has been evaluated\n",
            "Epoch 47, Sample 1 has been evaluated\n",
            "Epoch 48, Sample 1 has been evaluated\n",
            "Epoch 49, Sample 1 has been evaluated\n",
            "Epoch 50, Sample 1 has been evaluated\n"
          ],
          "name": "stdout"
        }
      ]
    },
    {
      "cell_type": "code",
      "metadata": {
        "id": "HTzpSaCmk0Cs",
        "colab_type": "code",
        "colab": {
          "base_uri": "https://localhost:8080/",
          "height": 282
        },
        "outputId": "4f45d98b-7a40-46fc-b7f3-47c6f880ddf4"
      },
      "source": [
        "plt.plot(nb_paragraphes_list)"
      ],
      "execution_count": 271,
      "outputs": [
        {
          "output_type": "execute_result",
          "data": {
            "text/plain": [
              "[<matplotlib.lines.Line2D at 0x7fa5371179b0>]"
            ]
          },
          "metadata": {
            "tags": []
          },
          "execution_count": 271
        },
        {
          "output_type": "display_data",
          "data": {
            "image/png": "[encoded data removed]",
            "text/plain": [
              "<Figure size 432x288 with 1 Axes>"
            ]
          },
          "metadata": {
            "tags": []
          }
        }
      ]
    },
    {
      "cell_type": "code",
      "metadata": {
        "id": "ET-CeUxnnONS",
        "colab_type": "code",
        "colab": {
          "base_uri": "https://localhost:8080/",
          "height": 118
        },
        "outputId": "30deb135-ca61-448b-f448-10909423de32"
      },
      "source": [
        "# COMPUTE ALL METRICS FOR ONE SAMPLE\n",
        "sample_name = \"The Beatles_chars_epoch50_sample1\"\n",
        "with open(\"../generated_lyrics/\"+ sample_name + \".txt\", \"r\") as samplefile:\n",
        "    generated_song = samplefile.read()\n",
        "samplefile.close()\n",
        "print(\"max score\", get_max_similarity_score(generated_song,artist,df))\n",
        "lines = get_lines(generated_song)\n",
        "print(\"rhyme density\", compute_rhyme_density(lines))\n",
        "print(\"grammar errors\", count_grammar_errors(lines))\n",
        "print(\"song length\", len(generated_song))\n",
        "print(\"mean length of a line\", get_mean_len_line(lines))\n",
        "print(\"nb_paragraphes\", generated_song.count(\"\\n\\n\"))"
      ],
      "execution_count": 273,
      "outputs": [
        {
          "output_type": "stream",
          "text": [
            "max score 0.36904291778138965\n",
            "rhyme density 0.0\n",
            "grammar errors 8\n",
            "song length 635\n",
            "mean length of a line 26\n",
            "nb_paragraphes 3\n"
          ],
          "name": "stdout"
        }
      ]
    },
    {
      "cell_type": "code",
      "metadata": {
        "id": "4QMAKzE4yGZE",
        "colab_type": "code",
        "colab": {}
      },
      "source": [
        ""
      ],
      "execution_count": 0,
      "outputs": []
    }
  ]
}