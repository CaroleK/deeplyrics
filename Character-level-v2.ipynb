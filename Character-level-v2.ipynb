{
  "nbformat": 4,
  "nbformat_minor": 0,
  "metadata": {
    "colab": {
      "name": "V4.ipynb",
      "provenance": [],
      "collapsed_sections": [],
      "toc_visible": true,
      "machine_shape": "hm"
    },
    "kernelspec": {
      "name": "python3",
      "display_name": "Python 3"
    },
    "accelerator": "GPU"
  },
  "cells": [
    {
      "cell_type": "markdown",
      "metadata": {
        "id": "ikaf-CwjNRPG",
        "colab_type": "text"
      },
      "source": [
        "# 0. Importations "
      ]
    },
    {
      "cell_type": "code",
      "metadata": {
        "id": "HgdRco0F_0QJ",
        "colab_type": "code",
        "outputId": "88272b77-7acf-48f5-8ee5-04ce340747eb",
        "colab": {
          "base_uri": "https://localhost:8080/",
          "height": 34
        }
      },
      "source": [
        "from google.colab import drive\n",
        "drive.mount('/content/drive')"
      ],
      "execution_count": 1,
      "outputs": [
        {
          "output_type": "stream",
          "text": [
            "Drive already mounted at /content/drive; to attempt to forcibly remount, call drive.mount(\"/content/drive\", force_remount=True).\n"
          ],
          "name": "stdout"
        }
      ]
    },
    {
      "cell_type": "code",
      "metadata": {
        "id": "pv3v7l0R_8T4",
        "colab_type": "code",
        "outputId": "e41f10c0-0a19-44ed-ae5d-39db0b98b1f6",
        "colab": {
          "base_uri": "https://localhost:8080/",
          "height": 84
        }
      },
      "source": [
        "import os\n",
        "print(f\"Chemin vers le dossier actuel: \\n {os.getcwd()}\")\n",
        "path_main_folder = '/content/drive/My Drive/lyrics_generation/data/'\n",
        "\n",
        "os.chdir(path_main_folder)\n",
        "print(f\"Chemin vers le dossier actuel: \\n {os.getcwd()}\")"
      ],
      "execution_count": 2,
      "outputs": [
        {
          "output_type": "stream",
          "text": [
            "Chemin vers le dossier actuel: \n",
            " /content\n",
            "Chemin vers le dossier actuel: \n",
            " /content/drive/My Drive/lyrics_generation/data\n"
          ],
          "name": "stdout"
        }
      ]
    },
    {
      "cell_type": "code",
      "metadata": {
        "id": "CNYDItefAFi6",
        "colab_type": "code",
        "colab": {}
      },
      "source": [
        "import torch\n",
        "import torch.nn as nn\n",
        "from torch.autograd import Variable\n",
        "import torch.utils.data as data\n",
        "from torch.utils.data import DataLoader, TensorDataset\n",
        "\n",
        "import numpy as np\n",
        "import pandas as pd\n",
        "import matplotlib.pyplot as plt\n",
        "from collections import Counter\n",
        "import re\n",
        "import pickle\n",
        "import torch.nn.functional as F\n",
        "\n",
        "from argparse import Namespace\n",
        "import random\n",
        "import string\n",
        "import io\n",
        "import sys, os\n",
        "\n",
        "import math  \n",
        "import seaborn as sns"
      ],
      "execution_count": 0,
      "outputs": []
    },
    {
      "cell_type": "markdown",
      "metadata": {
        "id": "UCoe7RbCASeG",
        "colab_type": "text"
      },
      "source": [
        "Define device"
      ]
    },
    {
      "cell_type": "code",
      "metadata": {
        "id": "eC9bPRqVVDz7",
        "colab_type": "code",
        "colab": {}
      },
      "source": [
        "device = torch.device('cuda' if torch.cuda.is_available() else 'cpu')"
      ],
      "execution_count": 0,
      "outputs": []
    },
    {
      "cell_type": "markdown",
      "metadata": {
        "id": "5iJZj4jZvHUN",
        "colab_type": "text"
      },
      "source": [
        "# 0. Data Analysis"
      ]
    },
    {
      "cell_type": "markdown",
      "metadata": {
        "id": "Pai7WL4F5z9z",
        "colab_type": "text"
      },
      "source": [
        "## 0.A) Exploration"
      ]
    },
    {
      "cell_type": "code",
      "metadata": {
        "id": "V0dV1eLWu5FW",
        "colab_type": "code",
        "colab": {}
      },
      "source": [
        "df = pd.read_csv(\"songdata.csv\")\n",
        "df = df.drop(columns=\"link\")"
      ],
      "execution_count": 0,
      "outputs": []
    },
    {
      "cell_type": "code",
      "metadata": {
        "id": "AgAKjtVCwDuv",
        "colab_type": "code",
        "colab": {
          "base_uri": "https://localhost:8080/",
          "height": 195
        },
        "outputId": "e404c1c9-9045-4fd2-c561-57beb32fcf74"
      },
      "source": [
        "df.head()"
      ],
      "execution_count": 6,
      "outputs": [
        {
          "output_type": "execute_result",
          "data": {
            "text/html": [
              "<div>\n",
              "<style scoped>\n",
              "    .dataframe tbody tr th:only-of-type {\n",
              "        vertical-align: middle;\n",
              "    }\n",
              "\n",
              "    .dataframe tbody tr th {\n",
              "        vertical-align: top;\n",
              "    }\n",
              "\n",
              "    .dataframe thead th {\n",
              "        text-align: right;\n",
              "    }\n",
              "</style>\n",
              "<table border=\"1\" class=\"dataframe\">\n",
              "  <thead>\n",
              "    <tr style=\"text-align: right;\">\n",
              "      <th></th>\n",
              "      <th>artist</th>\n",
              "      <th>song</th>\n",
              "      <th>text</th>\n",
              "    </tr>\n",
              "  </thead>\n",
              "  <tbody>\n",
              "    <tr>\n",
              "      <th>0</th>\n",
              "      <td>ABBA</td>\n",
              "      <td>Ahe's My Kind Of Girl</td>\n",
              "      <td>Look at her face, it's a wonderful face  \\nAnd...</td>\n",
              "    </tr>\n",
              "    <tr>\n",
              "      <th>1</th>\n",
              "      <td>ABBA</td>\n",
              "      <td>Andante, Andante</td>\n",
              "      <td>Take it easy with me, please  \\nTouch me gentl...</td>\n",
              "    </tr>\n",
              "    <tr>\n",
              "      <th>2</th>\n",
              "      <td>ABBA</td>\n",
              "      <td>As Good As New</td>\n",
              "      <td>I'll never know why I had to go  \\nWhy I had t...</td>\n",
              "    </tr>\n",
              "    <tr>\n",
              "      <th>3</th>\n",
              "      <td>ABBA</td>\n",
              "      <td>Bang</td>\n",
              "      <td>Making somebody happy is a question of give an...</td>\n",
              "    </tr>\n",
              "    <tr>\n",
              "      <th>4</th>\n",
              "      <td>ABBA</td>\n",
              "      <td>Bang-A-Boomerang</td>\n",
              "      <td>Making somebody happy is a question of give an...</td>\n",
              "    </tr>\n",
              "  </tbody>\n",
              "</table>\n",
              "</div>"
            ],
            "text/plain": [
              "  artist  ...                                               text\n",
              "0   ABBA  ...  Look at her face, it's a wonderful face  \\nAnd...\n",
              "1   ABBA  ...  Take it easy with me, please  \\nTouch me gentl...\n",
              "2   ABBA  ...  I'll never know why I had to go  \\nWhy I had t...\n",
              "3   ABBA  ...  Making somebody happy is a question of give an...\n",
              "4   ABBA  ...  Making somebody happy is a question of give an...\n",
              "\n",
              "[5 rows x 3 columns]"
            ]
          },
          "metadata": {
            "tags": []
          },
          "execution_count": 6
        }
      ]
    },
    {
      "cell_type": "code",
      "metadata": {
        "id": "vpjccVj5wB02",
        "colab_type": "code",
        "colab": {
          "base_uri": "https://localhost:8080/",
          "height": 34
        },
        "outputId": "44a7d6a3-4056-490d-dfdb-98306b74d14d"
      },
      "source": [
        "df.shape"
      ],
      "execution_count": 7,
      "outputs": [
        {
          "output_type": "execute_result",
          "data": {
            "text/plain": [
              "(57650, 3)"
            ]
          },
          "metadata": {
            "tags": []
          },
          "execution_count": 7
        }
      ]
    },
    {
      "cell_type": "code",
      "metadata": {
        "id": "Ygr-ivnOwK9_",
        "colab_type": "code",
        "colab": {
          "base_uri": "https://localhost:8080/",
          "height": 218
        },
        "outputId": "9aec798c-3e27-4e31-bc21-42010a3123ed"
      },
      "source": [
        "df.artist.value_counts()"
      ],
      "execution_count": 8,
      "outputs": [
        {
          "output_type": "execute_result",
          "data": {
            "text/plain": [
              "Donna Summer        191\n",
              "Gordon Lightfoot    189\n",
              "George Strait       188\n",
              "Bob Dylan           188\n",
              "Alabama             187\n",
              "                   ... \n",
              "Exo-K                 2\n",
              "Zed                   1\n",
              "X-Treme               1\n",
              "U-Kiss                1\n",
              "Zoe                   1\n",
              "Name: artist, Length: 643, dtype: int64"
            ]
          },
          "metadata": {
            "tags": []
          },
          "execution_count": 8
        }
      ]
    },
    {
      "cell_type": "code",
      "metadata": {
        "id": "hhBG5MJhvAbs",
        "colab_type": "code",
        "colab": {}
      },
      "source": [
        "df['len_text']= df.text.apply(len)"
      ],
      "execution_count": 0,
      "outputs": []
    },
    {
      "cell_type": "code",
      "metadata": {
        "id": "hoqTxqD2vs6N",
        "colab_type": "code",
        "colab": {
          "base_uri": "https://localhost:8080/",
          "height": 168
        },
        "outputId": "c5066fdf-d5f2-480c-8bf8-c727cc8fe758"
      },
      "source": [
        "df.len_text.describe()"
      ],
      "execution_count": 10,
      "outputs": [
        {
          "output_type": "execute_result",
          "data": {
            "text/plain": [
              "count    57650.000000\n",
              "mean      1179.504892\n",
              "std        575.705050\n",
              "min        400.000000\n",
              "25%        784.000000\n",
              "50%       1052.000000\n",
              "75%       1415.000000\n",
              "max       3997.000000\n",
              "Name: len_text, dtype: float64"
            ]
          },
          "metadata": {
            "tags": []
          },
          "execution_count": 10
        }
      ]
    },
    {
      "cell_type": "code",
      "metadata": {
        "id": "QH7cCdhqw5f-",
        "colab_type": "code",
        "colab": {
          "base_uri": "https://localhost:8080/",
          "height": 437
        },
        "outputId": "b0d54897-f74c-4c78-d2e3-bf9ab736ee41"
      },
      "source": [
        "#Sample lyrics\n",
        "print(df.text[122])"
      ],
      "execution_count": 11,
      "outputs": [
        {
          "output_type": "stream",
          "text": [
            "I'm never gonna say I'm sorry,  \n",
            "I'm a clown for everyone  \n",
            "I'm never gonna let you down,  \n",
            "I'm always here like a sun  \n",
            "  \n",
            "I'm a looser, that is a fact for sure  \n",
            "I'm happy even if you don't want  \n",
            "To invite me out for a dance tonight  \n",
            "I'm not normal, I know, I don't care  \n",
            "I'm never gonna say  \n",
            "  \n",
            "I'm always here like a sun, I'm always here  \n",
            "Like a ghost I follow your steps so true  \n",
            "You don't have to bribe me or fill me up  \n",
            "Give me just a minute to shine with you  \n",
            "I will make you so happy, make you laugh  \n",
            "I'm never gonna say I'm sorry for  \n",
            "  \n",
            "The essence of my soul  \n",
            "There's so many ways to change my life  \n",
            "'Cause I want to, oh  \n",
            "I'm like a clown, I'm fun for everyone,  \n",
            "I'm never gonna say I'm sorry\n",
            "\n",
            "\n"
          ],
          "name": "stdout"
        }
      ]
    },
    {
      "cell_type": "code",
      "metadata": {
        "id": "5C5ViPaYxSwn",
        "colab_type": "code",
        "colab": {
          "base_uri": "https://localhost:8080/",
          "height": 54
        },
        "outputId": "401cf4fd-3124-419c-e113-e897c13b05ea"
      },
      "source": [
        "df.text[1]"
      ],
      "execution_count": 12,
      "outputs": [
        {
          "output_type": "execute_result",
          "data": {
            "text/plain": [
              "\"Take it easy with me, please  \\nTouch me gently like a summer evening breeze  \\nTake your time, make it slow  \\nAndante, Andante  \\nJust let the feeling grow  \\n  \\nMake your fingers soft and light  \\nLet your body be the velvet of the night  \\nTouch my soul, you know how  \\nAndante, Andante  \\nGo slowly with me now  \\n  \\nI'm your music  \\n(I am your music and I am your song)  \\nI'm your song  \\n(I am your music and I am your song)  \\nPlay me time and time again and make me strong  \\n(Play me again 'cause you're making me strong)  \\nMake me sing, make me sound  \\n(You make me sing and you make me)  \\nAndante, Andante  \\nTread lightly on my ground  \\nAndante, Andante  \\nOh please don't let me down  \\n  \\nThere's a shimmer in your eyes  \\nLike the feeling of a thousand butterflies  \\nPlease don't talk, go on, play  \\nAndante, Andante  \\nAnd let me float away  \\n  \\nI'm your music  \\n(I am your music and I am your song)  \\nI'm your song  \\n(I am your music and I am your song)  \\nPlay me time and time again and make me strong  \\n(Play me again 'cause you're making me strong)  \\nMake me sing, make me sound  \\n(You make me sing and you make me)  \\nAndante, Andante  \\nTread lightly on my ground  \\nAndante, Andante  \\nOh please don't let me down  \\n  \\nMake me sing, make me sound  \\n(You make me sing and you make me)  \\nAndante, Andante  \\nTread lightly on my ground  \\nAndante, Andante  \\nOh please don't let me down  \\nAndante, Andante  \\nOh please don't let me down\\n\\n\""
            ]
          },
          "metadata": {
            "tags": []
          },
          "execution_count": 12
        }
      ]
    },
    {
      "cell_type": "code",
      "metadata": {
        "id": "OhdrhGKlxFqa",
        "colab_type": "code",
        "colab": {
          "base_uri": "https://localhost:8080/",
          "height": 34
        },
        "outputId": "95647191-0178-46cb-ed73-eb2f4f1813bd"
      },
      "source": [
        "#Nombre de retours à la ligne (dont les sauts de paragraphes)\n",
        "df.text[13].count('\\n')"
      ],
      "execution_count": 13,
      "outputs": [
        {
          "output_type": "execute_result",
          "data": {
            "text/plain": [
              "56"
            ]
          },
          "metadata": {
            "tags": []
          },
          "execution_count": 13
        }
      ]
    },
    {
      "cell_type": "code",
      "metadata": {
        "id": "AtDNoOjyxc11",
        "colab_type": "code",
        "colab": {
          "base_uri": "https://localhost:8080/",
          "height": 34
        },
        "outputId": "fa44ed67-681b-4c19-fac9-30e7f61ecd33"
      },
      "source": [
        "#Nombre de sauts de ligne (nombre de paragraphes - 1)\n",
        "df.text[13].count('\\n  \\n')"
      ],
      "execution_count": 14,
      "outputs": [
        {
          "output_type": "execute_result",
          "data": {
            "text/plain": [
              "9"
            ]
          },
          "metadata": {
            "tags": []
          },
          "execution_count": 14
        }
      ]
    },
    {
      "cell_type": "code",
      "metadata": {
        "id": "W7y1STHkzmDD",
        "colab_type": "code",
        "colab": {
          "base_uri": "https://localhost:8080/",
          "height": 104
        },
        "outputId": "99798957-cb6b-4b72-b880-2beee4e683a5"
      },
      "source": [
        "#Une fin de chanson se traduit par '\\n\\n'\n",
        "df.text[122].split('\\n  \\n')"
      ],
      "execution_count": 15,
      "outputs": [
        {
          "output_type": "execute_result",
          "data": {
            "text/plain": [
              "[\"I'm never gonna say I'm sorry,  \\nI'm a clown for everyone  \\nI'm never gonna let you down,  \\nI'm always here like a sun  \",\n",
              " \"I'm a looser, that is a fact for sure  \\nI'm happy even if you don't want  \\nTo invite me out for a dance tonight  \\nI'm not normal, I know, I don't care  \\nI'm never gonna say  \",\n",
              " \"I'm always here like a sun, I'm always here  \\nLike a ghost I follow your steps so true  \\nYou don't have to bribe me or fill me up  \\nGive me just a minute to shine with you  \\nI will make you so happy, make you laugh  \\nI'm never gonna say I'm sorry for  \",\n",
              " \"The essence of my soul  \\nThere's so many ways to change my life  \\n'Cause I want to, oh  \\nI'm like a clown, I'm fun for everyone,  \\nI'm never gonna say I'm sorry\\n\\n\"]"
            ]
          },
          "metadata": {
            "tags": []
          },
          "execution_count": 15
        }
      ]
    },
    {
      "cell_type": "code",
      "metadata": {
        "id": "DS_W5O7O57Cm",
        "colab_type": "code",
        "colab": {
          "base_uri": "https://localhost:8080/",
          "height": 34
        },
        "outputId": "3261b345-8076-45f2-addf-0ee0492b135e"
      },
      "source": [
        "#Nombre de lignes par paragraphes\n",
        "print([x.replace('\\n\\n','').count('\\n') + 1 for x in df.text[13].split('\\n  \\n')])"
      ],
      "execution_count": 16,
      "outputs": [
        {
          "output_type": "stream",
          "text": [
            "[6, 6, 4, 4, 6, 6, 4, 4, 4, 2]\n"
          ],
          "name": "stdout"
        }
      ]
    },
    {
      "cell_type": "markdown",
      "metadata": {
        "id": "MEqgdbLd6F8n",
        "colab_type": "text"
      },
      "source": [
        "## 0.B) Calculate some characteristics"
      ]
    },
    {
      "cell_type": "code",
      "metadata": {
        "id": "eTlIz6K22AEi",
        "colab_type": "code",
        "colab": {}
      },
      "source": [
        "def get_nb_moy_lignes_par_para(x):\n",
        "  \"\"\"Calculate the mean number of lines in a paragraph\"\"\"\n",
        "  #Compter la dernière ligne (+1)\n",
        "  lignes_par_para = [t.replace('\\n\\n','').count('\\n') + 1 for t in x.split('\\n  \\n')]\n",
        "  return math.ceil(np.mean(lignes_par_para))\n",
        "\n",
        "def get_lignes(x):\n",
        "  \"\"\"Return a list of the lines of a song\"\"\"\n",
        "  #Split in lines\n",
        "  lines = x.split('\\n')\n",
        "  # Remove trailing spaces\n",
        "  r = [j.strip() for j in lines]\n",
        "  # Remove empty lines\n",
        "  return [x for x in r if len(x)>0]\n",
        "\n",
        "def get_len_moy_ligne(x):\n",
        "  \"\"\"Calculate average length of a line\"\"\"\n",
        "  # Calculate len of lines\n",
        "  len_lines= [len(r) for r in x]\n",
        "  # Return mean length\n",
        "  return math.ceil(np.mean(len_lines))\n",
        "\n",
        "def get_nb_repeated_lines(x):\n",
        "  \"\"\"Calculate the number of lines that are repeated\"\"\"\n",
        "  d = dict(Counter(x))\n",
        "  return sum(1 for i in d.values() if i >= 2)\n",
        "  "
      ],
      "execution_count": 0,
      "outputs": []
    },
    {
      "cell_type": "code",
      "metadata": {
        "id": "wJvBCTJ4x9O-",
        "colab_type": "code",
        "colab": {}
      },
      "source": [
        "df['nb_songs']=df.groupby('artist').count()['song']\n",
        "df['lignes']=df.text.apply(get_lignes)\n",
        "df['nb_paragrahes']= df.text.apply(lambda x: x.count('\\n  \\n')+1)\n",
        "df['nb_moy_lignes_par_para'] = df.text.apply(get_nb_moy_lignes_par_para)\n",
        "df['nb_lignes']=df.lignes.apply(len)\n",
        "df['len_moy_ligne']= df.lignes.apply(get_len_moy_ligne)\n",
        "df['nb_repeated_lines']= df.lignes.apply(get_nb_repeated_lines)"
      ],
      "execution_count": 0,
      "outputs": []
    },
    {
      "cell_type": "code",
      "metadata": {
        "id": "BevoFBA55E-D",
        "colab_type": "code",
        "colab": {
          "base_uri": "https://localhost:8080/",
          "height": 218
        },
        "outputId": "727eb752-d073-418d-b15e-1696b493a611"
      },
      "source": [
        "# Simple check\n",
        "df.iloc[122,:]"
      ],
      "execution_count": 19,
      "outputs": [
        {
          "output_type": "execute_result",
          "data": {
            "text/plain": [
              "artist                                                          Ace Of Base\n",
              "song                                              Never Gonna Say I'm Sorry\n",
              "text                      I'm never gonna say I'm sorry,  \\nI'm a clown ...\n",
              "len_text                                                                720\n",
              "nb_songs                                                                NaN\n",
              "lignes                    [I'm never gonna say I'm sorry,, I'm a clown f...\n",
              "nb_paragrahes                                                             4\n",
              "nb_moy_lignes_par_para                                                    5\n",
              "nb_lignes                                                                20\n",
              "len_moy_ligne                                                            33\n",
              "nb_repeated_lines                                                         0\n",
              "Name: 122, dtype: object"
            ]
          },
          "metadata": {
            "tags": []
          },
          "execution_count": 19
        }
      ]
    },
    {
      "cell_type": "code",
      "metadata": {
        "id": "6Ja3H3qk8l3W",
        "colab_type": "code",
        "colab": {
          "base_uri": "https://localhost:8080/",
          "height": 225
        },
        "outputId": "a05a008e-3f92-4772-9ca8-d1eaafacb3b4"
      },
      "source": [
        "# Get mean values for each artist\n",
        "artists_df = df.groupby('artist').mean()\n",
        "#artists_df = artists_df.astype(int)\n",
        "artists_df['nb_songs'] = df.groupby('artist').count()['song']\n",
        "artists_df.head()"
      ],
      "execution_count": 21,
      "outputs": [
        {
          "output_type": "execute_result",
          "data": {
            "text/html": [
              "<div>\n",
              "<style scoped>\n",
              "    .dataframe tbody tr th:only-of-type {\n",
              "        vertical-align: middle;\n",
              "    }\n",
              "\n",
              "    .dataframe tbody tr th {\n",
              "        vertical-align: top;\n",
              "    }\n",
              "\n",
              "    .dataframe thead th {\n",
              "        text-align: right;\n",
              "    }\n",
              "</style>\n",
              "<table border=\"1\" class=\"dataframe\">\n",
              "  <thead>\n",
              "    <tr style=\"text-align: right;\">\n",
              "      <th></th>\n",
              "      <th>len_text</th>\n",
              "      <th>nb_songs</th>\n",
              "      <th>nb_paragrahes</th>\n",
              "      <th>nb_moy_lignes_par_para</th>\n",
              "      <th>nb_lignes</th>\n",
              "      <th>len_moy_ligne</th>\n",
              "      <th>nb_repeated_lines</th>\n",
              "    </tr>\n",
              "    <tr>\n",
              "      <th>artist</th>\n",
              "      <th></th>\n",
              "      <th></th>\n",
              "      <th></th>\n",
              "      <th></th>\n",
              "      <th></th>\n",
              "      <th></th>\n",
              "      <th></th>\n",
              "    </tr>\n",
              "  </thead>\n",
              "  <tbody>\n",
              "    <tr>\n",
              "      <th>'n Sync</th>\n",
              "      <td>1432.580645</td>\n",
              "      <td>93</td>\n",
              "      <td>7.763441</td>\n",
              "      <td>8.075269</td>\n",
              "      <td>45.666667</td>\n",
              "      <td>29.032258</td>\n",
              "      <td>6.225806</td>\n",
              "    </tr>\n",
              "    <tr>\n",
              "      <th>ABBA</th>\n",
              "      <td>1340.168142</td>\n",
              "      <td>113</td>\n",
              "      <td>6.212389</td>\n",
              "      <td>7.486726</td>\n",
              "      <td>38.336283</td>\n",
              "      <td>32.672566</td>\n",
              "      <td>7.504425</td>\n",
              "    </tr>\n",
              "    <tr>\n",
              "      <th>Ace Of Base</th>\n",
              "      <td>1288.608108</td>\n",
              "      <td>74</td>\n",
              "      <td>8.459459</td>\n",
              "      <td>6.959459</td>\n",
              "      <td>42.864865</td>\n",
              "      <td>27.648649</td>\n",
              "      <td>6.581081</td>\n",
              "    </tr>\n",
              "    <tr>\n",
              "      <th>Adam Sandler</th>\n",
              "      <td>1475.571429</td>\n",
              "      <td>70</td>\n",
              "      <td>7.571429</td>\n",
              "      <td>13.500000</td>\n",
              "      <td>41.342857</td>\n",
              "      <td>33.328571</td>\n",
              "      <td>2.000000</td>\n",
              "    </tr>\n",
              "    <tr>\n",
              "      <th>Adele</th>\n",
              "      <td>1523.296296</td>\n",
              "      <td>54</td>\n",
              "      <td>7.740741</td>\n",
              "      <td>6.814815</td>\n",
              "      <td>46.425926</td>\n",
              "      <td>31.203704</td>\n",
              "      <td>8.314815</td>\n",
              "    </tr>\n",
              "  </tbody>\n",
              "</table>\n",
              "</div>"
            ],
            "text/plain": [
              "                 len_text  nb_songs  ...  len_moy_ligne  nb_repeated_lines\n",
              "artist                               ...                                  \n",
              "'n Sync       1432.580645        93  ...      29.032258           6.225806\n",
              "ABBA          1340.168142       113  ...      32.672566           7.504425\n",
              "Ace Of Base   1288.608108        74  ...      27.648649           6.581081\n",
              "Adam Sandler  1475.571429        70  ...      33.328571           2.000000\n",
              "Adele         1523.296296        54  ...      31.203704           8.314815\n",
              "\n",
              "[5 rows x 7 columns]"
            ]
          },
          "metadata": {
            "tags": []
          },
          "execution_count": 21
        }
      ]
    },
    {
      "cell_type": "code",
      "metadata": {
        "id": "DXnhCBhDRiaS",
        "colab_type": "code",
        "colab": {
          "base_uri": "https://localhost:8080/",
          "height": 284
        },
        "outputId": "829c20a8-53e4-438a-9b72-394ace690fed"
      },
      "source": [
        "artists_df.describe()"
      ],
      "execution_count": 22,
      "outputs": [
        {
          "output_type": "execute_result",
          "data": {
            "text/html": [
              "<div>\n",
              "<style scoped>\n",
              "    .dataframe tbody tr th:only-of-type {\n",
              "        vertical-align: middle;\n",
              "    }\n",
              "\n",
              "    .dataframe tbody tr th {\n",
              "        vertical-align: top;\n",
              "    }\n",
              "\n",
              "    .dataframe thead th {\n",
              "        text-align: right;\n",
              "    }\n",
              "</style>\n",
              "<table border=\"1\" class=\"dataframe\">\n",
              "  <thead>\n",
              "    <tr style=\"text-align: right;\">\n",
              "      <th></th>\n",
              "      <th>len_text</th>\n",
              "      <th>nb_songs</th>\n",
              "      <th>nb_paragrahes</th>\n",
              "      <th>nb_moy_lignes_par_para</th>\n",
              "      <th>nb_lignes</th>\n",
              "      <th>len_moy_ligne</th>\n",
              "      <th>nb_repeated_lines</th>\n",
              "    </tr>\n",
              "  </thead>\n",
              "  <tbody>\n",
              "    <tr>\n",
              "      <th>count</th>\n",
              "      <td>643.000000</td>\n",
              "      <td>643.000000</td>\n",
              "      <td>643.000000</td>\n",
              "      <td>643.000000</td>\n",
              "      <td>643.000000</td>\n",
              "      <td>643.000000</td>\n",
              "      <td>643.000000</td>\n",
              "    </tr>\n",
              "    <tr>\n",
              "      <th>mean</th>\n",
              "      <td>1227.661056</td>\n",
              "      <td>89.657854</td>\n",
              "      <td>6.263098</td>\n",
              "      <td>10.392282</td>\n",
              "      <td>36.150251</td>\n",
              "      <td>31.936996</td>\n",
              "      <td>4.654758</td>\n",
              "    </tr>\n",
              "    <tr>\n",
              "      <th>std</th>\n",
              "      <td>453.488452</td>\n",
              "      <td>54.689192</td>\n",
              "      <td>2.095939</td>\n",
              "      <td>5.624701</td>\n",
              "      <td>11.278775</td>\n",
              "      <td>4.239746</td>\n",
              "      <td>1.856872</td>\n",
              "    </tr>\n",
              "    <tr>\n",
              "      <th>min</th>\n",
              "      <td>469.000000</td>\n",
              "      <td>1.000000</td>\n",
              "      <td>1.000000</td>\n",
              "      <td>3.892857</td>\n",
              "      <td>16.000000</td>\n",
              "      <td>20.500000</td>\n",
              "      <td>0.000000</td>\n",
              "    </tr>\n",
              "    <tr>\n",
              "      <th>25%</th>\n",
              "      <td>959.271552</td>\n",
              "      <td>41.000000</td>\n",
              "      <td>4.996552</td>\n",
              "      <td>6.846320</td>\n",
              "      <td>28.738519</td>\n",
              "      <td>29.003401</td>\n",
              "      <td>3.462657</td>\n",
              "    </tr>\n",
              "    <tr>\n",
              "      <th>50%</th>\n",
              "      <td>1110.049180</td>\n",
              "      <td>86.000000</td>\n",
              "      <td>6.153846</td>\n",
              "      <td>8.759740</td>\n",
              "      <td>33.579618</td>\n",
              "      <td>31.459459</td>\n",
              "      <td>4.428571</td>\n",
              "    </tr>\n",
              "    <tr>\n",
              "      <th>75%</th>\n",
              "      <td>1337.497692</td>\n",
              "      <td>141.000000</td>\n",
              "      <td>7.395815</td>\n",
              "      <td>12.065913</td>\n",
              "      <td>40.885344</td>\n",
              "      <td>33.939292</td>\n",
              "      <td>5.678408</td>\n",
              "    </tr>\n",
              "    <tr>\n",
              "      <th>max</th>\n",
              "      <td>3134.571429</td>\n",
              "      <td>191.000000</td>\n",
              "      <td>24.750000</td>\n",
              "      <td>46.857143</td>\n",
              "      <td>75.836066</td>\n",
              "      <td>57.000000</td>\n",
              "      <td>13.000000</td>\n",
              "    </tr>\n",
              "  </tbody>\n",
              "</table>\n",
              "</div>"
            ],
            "text/plain": [
              "          len_text    nb_songs  ...  len_moy_ligne  nb_repeated_lines\n",
              "count   643.000000  643.000000  ...     643.000000         643.000000\n",
              "mean   1227.661056   89.657854  ...      31.936996           4.654758\n",
              "std     453.488452   54.689192  ...       4.239746           1.856872\n",
              "min     469.000000    1.000000  ...      20.500000           0.000000\n",
              "25%     959.271552   41.000000  ...      29.003401           3.462657\n",
              "50%    1110.049180   86.000000  ...      31.459459           4.428571\n",
              "75%    1337.497692  141.000000  ...      33.939292           5.678408\n",
              "max    3134.571429  191.000000  ...      57.000000          13.000000\n",
              "\n",
              "[8 rows x 7 columns]"
            ]
          },
          "metadata": {
            "tags": []
          },
          "execution_count": 22
        }
      ]
    },
    {
      "cell_type": "code",
      "metadata": {
        "id": "5FGSdqf_IHEt",
        "colab_type": "code",
        "colab": {
          "base_uri": "https://localhost:8080/",
          "height": 34
        },
        "outputId": "def09dde-7069-4397-ee0d-85aa4cfc437c"
      },
      "source": [
        "# Number of artists\n",
        "len(artists_df.index)"
      ],
      "execution_count": 25,
      "outputs": [
        {
          "output_type": "execute_result",
          "data": {
            "text/plain": [
              "643"
            ]
          },
          "metadata": {
            "tags": []
          },
          "execution_count": 25
        }
      ]
    },
    {
      "cell_type": "code",
      "metadata": {
        "id": "lYNmR4wLNXmJ",
        "colab_type": "code",
        "colab": {}
      },
      "source": [
        "def get_topk(k, df):\n",
        "  l = df.artist.value_counts()\n",
        "  return l[:k].index.tolist()"
      ],
      "execution_count": 0,
      "outputs": []
    },
    {
      "cell_type": "markdown",
      "metadata": {
        "id": "6x97SKRM6Rwe",
        "colab_type": "text"
      },
      "source": [
        "## 0.C) Plot characteristics"
      ]
    },
    {
      "cell_type": "markdown",
      "metadata": {
        "id": "MJTdgtzoAjwJ",
        "colab_type": "text"
      },
      "source": [
        "Plot characteristics for one artist"
      ]
    },
    {
      "cell_type": "code",
      "metadata": {
        "id": "YUpAxtOi6Uxn",
        "colab_type": "code",
        "colab": {
          "base_uri": "https://localhost:8080/",
          "height": 408
        },
        "outputId": "72c23578-e0f3-421d-b7dc-123657908045"
      },
      "source": [
        "plt.figure(figsize=(10, 6))\n",
        "artist = 'Coldplay'\n",
        "sns.boxplot(data=df[df.artist==artist].iloc[:,5:-1])\n",
        "plt.title(\"Characteristics for {} songs\".format(artist))"
      ],
      "execution_count": 27,
      "outputs": [
        {
          "output_type": "execute_result",
          "data": {
            "text/plain": [
              "Text(0.5, 1.0, 'Characteristics for Coldplay songs')"
            ]
          },
          "metadata": {
            "tags": []
          },
          "execution_count": 27
        },
        {
          "output_type": "display_data",
          "data": {
            "image/png": "[encoded data removed]",
            "text/plain": [
              "<Figure size 720x432 with 1 Axes>"
            ]
          },
          "metadata": {
            "tags": []
          }
        }
      ]
    },
    {
      "cell_type": "markdown",
      "metadata": {
        "id": "YjHqxf_zAoDN",
        "colab_type": "text"
      },
      "source": [
        "Compare one characteristic between artists"
      ]
    },
    {
      "cell_type": "code",
      "metadata": {
        "id": "qJnzRQpuAfEP",
        "colab_type": "code",
        "colab": {
          "base_uri": "https://localhost:8080/",
          "height": 421
        },
        "outputId": "e10e462d-3975-4cee-d7e3-af4ca8013809"
      },
      "source": [
        "plt.figure(figsize=(15, 6))\n",
        "characteristic = \"nb_paragrahes\"\n",
        "artists = get_topk(10, df)\n",
        "df_to_show = df[df.artist.isin(artists)]\n",
        "sns.boxplot(y=df[characteristic], x=df_to_show.artist)\n",
        "plt.title(\"Compare artists on {}\".format(characteristic))"
      ],
      "execution_count": 28,
      "outputs": [
        {
          "output_type": "execute_result",
          "data": {
            "text/plain": [
              "Text(0.5, 1.0, 'Compare artists on nb_paragrahes')"
            ]
          },
          "metadata": {
            "tags": []
          },
          "execution_count": 28
        },
        {
          "output_type": "display_data",
          "data": {
            "image/png": "[encoded data removed]",
            "text/plain": [
              "<Figure size 1080x432 with 1 Axes>"
            ]
          },
          "metadata": {
            "tags": []
          }
        }
      ]
    },
    {
      "cell_type": "markdown",
      "metadata": {
        "id": "0s6XxKc3bKcT",
        "colab_type": "text"
      },
      "source": [
        "Plot one characteristic"
      ]
    },
    {
      "cell_type": "code",
      "metadata": {
        "id": "eHEmaSgtdR0E",
        "colab_type": "code",
        "colab": {
          "base_uri": "https://localhost:8080/",
          "height": 422
        },
        "outputId": "413047b4-5d44-4048-a61a-c5647cf6086f"
      },
      "source": [
        "plt.figure(figsize=(10, 6))\n",
        "characteristic = 'len_text'\n",
        "sns.distplot(df[characteristic], hist=True, kde=True, \n",
        "             bins=30, color = 'green',\n",
        "             hist_kws={'edgecolor':'black'})\n",
        "# Add labels\n",
        "plt.title('Histogram of {}'.format(characteristic))\n",
        "plt.xlabel(characteristic)\n",
        "plt.ylabel('Number of songs')"
      ],
      "execution_count": 29,
      "outputs": [
        {
          "output_type": "execute_result",
          "data": {
            "text/plain": [
              "Text(0, 0.5, 'Number of songs')"
            ]
          },
          "metadata": {
            "tags": []
          },
          "execution_count": 29
        },
        {
          "output_type": "display_data",
          "data": {
            "image/png": "[encoded data removed]",
            "text/plain": [
              "<Figure size 720x432 with 1 Axes>"
            ]
          },
          "metadata": {
            "tags": []
          }
        }
      ]
    },
    {
      "cell_type": "markdown",
      "metadata": {
        "id": "gRwpvREcgSPs",
        "colab_type": "text"
      },
      "source": [
        "Compare all characteristics between all artists"
      ]
    },
    {
      "cell_type": "code",
      "metadata": {
        "id": "Zpd5fGn_fS3c",
        "colab_type": "code",
        "colab": {
          "base_uri": "https://localhost:8080/",
          "height": 374
        },
        "outputId": "a33817b3-19c5-4c09-c3fc-ce96c008e7fb"
      },
      "source": [
        "plt.figure(figsize=(15, 6))\n",
        "p1=sns.kdeplot(df['nb_paragrahes'], shade=True, color=\"r\")\n",
        "p1=sns.kdeplot(df['nb_moy_lignes_par_para'], shade=True, color=\"b\")\n",
        "p1=sns.kdeplot(df['nb_lignes'], shade=True, color=\"g\")\n",
        "p1=sns.kdeplot(df['len_moy_ligne'], shade=True, color=\"brown\")\n",
        "p1=sns.kdeplot(df['nb_repeated_lines'], shade=True, color=\"y\")"
      ],
      "execution_count": 30,
      "outputs": [
        {
          "output_type": "display_data",
          "data": {
            "image/png": "[encoded data removed]",
            "text/plain": [
              "<Figure size 1080x432 with 1 Axes>"
            ]
          },
          "metadata": {
            "tags": []
          }
        }
      ]
    },
    {
      "cell_type": "code",
      "metadata": {
        "id": "znXT82QsCXtX",
        "colab_type": "code",
        "colab": {
          "base_uri": "https://localhost:8080/",
          "height": 408
        },
        "outputId": "0564a69f-50de-4e22-a171-a081fddcc038"
      },
      "source": [
        "plt.figure(figsize=(15, 6))\n",
        "artists = get_topk(10, df)\n",
        "plot_artists_to_show = artists_df[artists_df.index.isin(artists)]\n",
        "plt.plot(plot_artists_to_show.drop(columns=['len_text']).T)\n",
        "#plt.legend(plot_artists_to_show.columns)\n",
        "plt.title(\"Compare all artists on all characteristics\")"
      ],
      "execution_count": 31,
      "outputs": [
        {
          "output_type": "execute_result",
          "data": {
            "text/plain": [
              "Text(0.5, 1.0, 'Compare all artists on all characteristics')"
            ]
          },
          "metadata": {
            "tags": []
          },
          "execution_count": 31
        },
        {
          "output_type": "display_data",
          "data": {
            "image/png": "[encoded data removed]",
            "text/plain": [
              "<Figure size 1080x432 with 1 Axes>"
            ]
          },
          "metadata": {
            "tags": []
          }
        }
      ]
    },
    {
      "cell_type": "code",
      "metadata": {
        "id": "QirAxHRZ0C9V",
        "colab_type": "code",
        "colab": {
          "base_uri": "https://localhost:8080/",
          "height": 373
        },
        "outputId": "323a3fe6-cafe-4453-da53-ed2d38847b35"
      },
      "source": [
        "plot_artists_to_show"
      ],
      "execution_count": 33,
      "outputs": [
        {
          "output_type": "execute_result",
          "data": {
            "text/html": [
              "<div>\n",
              "<style scoped>\n",
              "    .dataframe tbody tr th:only-of-type {\n",
              "        vertical-align: middle;\n",
              "    }\n",
              "\n",
              "    .dataframe tbody tr th {\n",
              "        vertical-align: top;\n",
              "    }\n",
              "\n",
              "    .dataframe thead th {\n",
              "        text-align: right;\n",
              "    }\n",
              "</style>\n",
              "<table border=\"1\" class=\"dataframe\">\n",
              "  <thead>\n",
              "    <tr style=\"text-align: right;\">\n",
              "      <th></th>\n",
              "      <th>len_text</th>\n",
              "      <th>nb_songs</th>\n",
              "      <th>nb_paragrahes</th>\n",
              "      <th>nb_moy_lignes_par_para</th>\n",
              "      <th>nb_lignes</th>\n",
              "      <th>len_moy_ligne</th>\n",
              "      <th>nb_repeated_lines</th>\n",
              "    </tr>\n",
              "    <tr>\n",
              "      <th>artist</th>\n",
              "      <th></th>\n",
              "      <th></th>\n",
              "      <th></th>\n",
              "      <th></th>\n",
              "      <th></th>\n",
              "      <th></th>\n",
              "      <th></th>\n",
              "    </tr>\n",
              "  </thead>\n",
              "  <tbody>\n",
              "    <tr>\n",
              "      <th>Alabama</th>\n",
              "      <td>1087.224599</td>\n",
              "      <td>187</td>\n",
              "      <td>5.764706</td>\n",
              "      <td>7.866310</td>\n",
              "      <td>27.973262</td>\n",
              "      <td>37.748663</td>\n",
              "      <td>3.764706</td>\n",
              "    </tr>\n",
              "    <tr>\n",
              "      <th>Bob Dylan</th>\n",
              "      <td>1384.382979</td>\n",
              "      <td>188</td>\n",
              "      <td>6.659574</td>\n",
              "      <td>6.468085</td>\n",
              "      <td>35.654255</td>\n",
              "      <td>36.760638</td>\n",
              "      <td>2.952128</td>\n",
              "    </tr>\n",
              "    <tr>\n",
              "      <th>Chaka Khan</th>\n",
              "      <td>968.682796</td>\n",
              "      <td>186</td>\n",
              "      <td>5.446237</td>\n",
              "      <td>11.247312</td>\n",
              "      <td>30.397849</td>\n",
              "      <td>29.489247</td>\n",
              "      <td>4.225806</td>\n",
              "    </tr>\n",
              "    <tr>\n",
              "      <th>Cher</th>\n",
              "      <td>1044.663102</td>\n",
              "      <td>187</td>\n",
              "      <td>5.368984</td>\n",
              "      <td>9.764706</td>\n",
              "      <td>32.433155</td>\n",
              "      <td>29.737968</td>\n",
              "      <td>4.278075</td>\n",
              "    </tr>\n",
              "    <tr>\n",
              "      <th>Dean Martin</th>\n",
              "      <td>785.080645</td>\n",
              "      <td>186</td>\n",
              "      <td>3.881720</td>\n",
              "      <td>11.333333</td>\n",
              "      <td>21.704301</td>\n",
              "      <td>34.258065</td>\n",
              "      <td>4.494624</td>\n",
              "    </tr>\n",
              "    <tr>\n",
              "      <th>Donna Summer</th>\n",
              "      <td>1240.356021</td>\n",
              "      <td>191</td>\n",
              "      <td>6.748691</td>\n",
              "      <td>14.554974</td>\n",
              "      <td>40.570681</td>\n",
              "      <td>28.308901</td>\n",
              "      <td>5.884817</td>\n",
              "    </tr>\n",
              "    <tr>\n",
              "      <th>George Strait</th>\n",
              "      <td>934.047872</td>\n",
              "      <td>188</td>\n",
              "      <td>5.106383</td>\n",
              "      <td>6.228723</td>\n",
              "      <td>25.574468</td>\n",
              "      <td>34.521277</td>\n",
              "      <td>3.957447</td>\n",
              "    </tr>\n",
              "    <tr>\n",
              "      <th>Gordon Lightfoot</th>\n",
              "      <td>1218.925926</td>\n",
              "      <td>189</td>\n",
              "      <td>4.031746</td>\n",
              "      <td>16.936508</td>\n",
              "      <td>32.142857</td>\n",
              "      <td>36.428571</td>\n",
              "      <td>4.650794</td>\n",
              "    </tr>\n",
              "    <tr>\n",
              "      <th>Loretta Lynn</th>\n",
              "      <td>787.668449</td>\n",
              "      <td>187</td>\n",
              "      <td>2.502674</td>\n",
              "      <td>8.834225</td>\n",
              "      <td>16.486631</td>\n",
              "      <td>46.454545</td>\n",
              "      <td>1.299465</td>\n",
              "    </tr>\n",
              "    <tr>\n",
              "      <th>Reba Mcentire</th>\n",
              "      <td>981.299465</td>\n",
              "      <td>187</td>\n",
              "      <td>5.882353</td>\n",
              "      <td>6.604278</td>\n",
              "      <td>29.090909</td>\n",
              "      <td>31.064171</td>\n",
              "      <td>3.470588</td>\n",
              "    </tr>\n",
              "  </tbody>\n",
              "</table>\n",
              "</div>"
            ],
            "text/plain": [
              "                     len_text  nb_songs  ...  len_moy_ligne  nb_repeated_lines\n",
              "artist                                   ...                                  \n",
              "Alabama           1087.224599       187  ...      37.748663           3.764706\n",
              "Bob Dylan         1384.382979       188  ...      36.760638           2.952128\n",
              "Chaka Khan         968.682796       186  ...      29.489247           4.225806\n",
              "Cher              1044.663102       187  ...      29.737968           4.278075\n",
              "Dean Martin        785.080645       186  ...      34.258065           4.494624\n",
              "Donna Summer      1240.356021       191  ...      28.308901           5.884817\n",
              "George Strait      934.047872       188  ...      34.521277           3.957447\n",
              "Gordon Lightfoot  1218.925926       189  ...      36.428571           4.650794\n",
              "Loretta Lynn       787.668449       187  ...      46.454545           1.299465\n",
              "Reba Mcentire      981.299465       187  ...      31.064171           3.470588\n",
              "\n",
              "[10 rows x 7 columns]"
            ]
          },
          "metadata": {
            "tags": []
          },
          "execution_count": 33
        }
      ]
    },
    {
      "cell_type": "code",
      "metadata": {
        "id": "T2YAUYQvSsxQ",
        "colab_type": "code",
        "colab": {
          "base_uri": "https://localhost:8080/",
          "height": 407
        },
        "outputId": "8cee0da6-56e7-4fa8-bf69-2383fbdfcf4a"
      },
      "source": [
        "plt.figure(figsize=(15, 6))\n",
        "artists = get_topk(10, df)\n",
        "plot_artists_to_show = artists_df[artists_df.index.isin(artists)]\n",
        "df2 = plot_artists_to_show.drop(columns=['len_text'])\n",
        "plt.plot(df2)\n",
        "plt.legend(df2.columns)\n",
        "plt.title(\"Compare all artists on all characteristics\")"
      ],
      "execution_count": 36,
      "outputs": [
        {
          "output_type": "execute_result",
          "data": {
            "text/plain": [
              "Text(0.5, 1.0, 'Compare all artists on all characteristics')"
            ]
          },
          "metadata": {
            "tags": []
          },
          "execution_count": 36
        },
        {
          "output_type": "display_data",
          "data": {
            "image/png": "[encoded data removed]",
            "text/plain": [
              "<Figure size 1080x432 with 1 Axes>"
            ]
          },
          "metadata": {
            "tags": []
          }
        }
      ]
    },
    {
      "cell_type": "code",
      "metadata": {
        "id": "eDaxZAd0Cz07",
        "colab_type": "code",
        "colab": {
          "base_uri": "https://localhost:8080/",
          "height": 408
        },
        "outputId": "077f9163-a923-4006-92eb-8d0effcb7cc0"
      },
      "source": [
        "plt.figure(figsize=(10, 6))\n",
        "df_plot = artists_df\n",
        "sns.boxplot(data=df_plot.drop(columns=['nb_lignes','len_moy_ligne','len_text','nb_songs']))\n",
        "plt.title(\"Compare all artists on all characteristics\")"
      ],
      "execution_count": 37,
      "outputs": [
        {
          "output_type": "execute_result",
          "data": {
            "text/plain": [
              "Text(0.5, 1.0, 'Compare all artists on all characteristics')"
            ]
          },
          "metadata": {
            "tags": []
          },
          "execution_count": 37
        },
        {
          "output_type": "display_data",
          "data": {
            "image/png": "[encoded data removed]",
            "text/plain": [
              "<Figure size 720x432 with 1 Axes>"
            ]
          },
          "metadata": {
            "tags": []
          }
        }
      ]
    },
    {
      "cell_type": "markdown",
      "metadata": {
        "id": "FDGGtBJyNXck",
        "colab_type": "text"
      },
      "source": [
        "# 1. Text pre-processing "
      ]
    },
    {
      "cell_type": "code",
      "metadata": {
        "id": "KBM0ev3AAdx8",
        "colab_type": "code",
        "colab": {}
      },
      "source": [
        "def preprocess(text):\n",
        "    #text = text.replace(\"'ll\",' will')\n",
        "    #text = text.replace(\"'m\",' am')\n",
        "    #text = text.replace(\"'re\",' are')\n",
        "    #text = text.replace(\"'s\",' is')\n",
        "    \n",
        "    text = text.replace(\"\\n\",\" \\n \")\n",
        "    text = text.lower()\n",
        "    \n",
        "    # Remove all words in-between () or []\n",
        "    text = re.sub(\"[\\(\\[].*?[\\)\\]]\", \"\", text)\n",
        "   \n",
        "    # Remove unwanted words\n",
        "    unwanted_words = ['chorus\\s*', 'verse\\s*', 'intro\\s*', 'outro\\s*', 'bridge\\s*','pre-chorus\\s*','hook\\s*']\n",
        "    text = re.sub('({})'.format('|'.join(unwanted_words)),\"\",text.strip())\n",
        "    \n",
        "    # Remove numbers\n",
        "    text = re.sub(r'[0-9\\.]+', '', text)\n",
        "\n",
        "    # Only keep one space\n",
        "    text = re.sub(' {2,}', ' ', text)\n",
        "\n",
        "    # Remove some punctiation\n",
        "    punct_to_keep = [\"'\",\"!\",\"?\",\",\"]\n",
        "    punct_to_discard = [x for x in string.punctuation if x not in punct_to_keep]\n",
        "    text = \"\".join(v for v in text if v not in punct_to_discard)\n",
        "    \n",
        "    #text = text.replace(\"\\n\",\" \\SAUT \")\n",
        "\n",
        "    print (\"Text length is : \", len(text))\n",
        "    return text\n",
        "\n",
        "def extract_characters(text):\n",
        "    return sorted(list(set(text)))\n",
        "\n",
        "def get_chars_index_dicts(chars):\n",
        "    return dict((c, i) for i, c in enumerate(chars)), dict((i, c) for i, c in enumerate(chars))"
      ],
      "execution_count": 0,
      "outputs": []
    },
    {
      "cell_type": "code",
      "metadata": {
        "id": "EJ_mn-b0VwAk",
        "colab_type": "code",
        "colab": {
          "base_uri": "https://localhost:8080/",
          "height": 50
        },
        "outputId": "cf328bfd-4296-414c-ad47-3d5c5f711155"
      },
      "source": [
        "#Check up\n",
        "# word = 'chorus'\n",
        "\n",
        "# def contains_word(x,word):\n",
        "#   x = x.lower()\n",
        "#   return word in x\n",
        "\n",
        "# df_chorus.text.apply(lambda x: contains_word(x,\"[intro]\")).value_counts()"
      ],
      "execution_count": 422,
      "outputs": [
        {
          "output_type": "execute_result",
          "data": {
            "text/plain": [
              "False    489\n",
              "Name: text, dtype: int64"
            ]
          },
          "metadata": {
            "tags": []
          },
          "execution_count": 422
        }
      ]
    },
    {
      "cell_type": "markdown",
      "metadata": {
        "id": "rYnKH9giN_xS",
        "colab_type": "text"
      },
      "source": [
        "# 2. Vectorization"
      ]
    },
    {
      "cell_type": "code",
      "metadata": {
        "id": "omsBXGzqQe69",
        "colab_type": "code",
        "colab": {}
      },
      "source": [
        "#Encode characters in numbers\n",
        "def vectorize(sentence, char_to_index):\n",
        "  return np.array([char_to_index[char] for char in sentence])\n",
        "\n",
        "#Project a batch of int_sequences in dim chars space\n",
        "def one_hot_encode(sequences, chars):\n",
        "    X = np.zeros((len(sequences), len(sequences[0]), len(chars)), dtype=int)\n",
        "    for i, sentence in enumerate(sequences):\n",
        "        for t, integer in enumerate(sentence):\n",
        "            X[i, t, integer] = 1\n",
        "    return X\n",
        "\n",
        "# def one_hot_encode(sequences, sequence_length, chars, char_to_index, next_chars):\n",
        "#     X = np.zeros((len(sequences), sequence_length, len(chars)), dtype=int)\n",
        "#     y = np.zeros((len(sequences), len(chars)), dtype=int)\n",
        "#     for i, sentence in enumerate(sequences):\n",
        "#         for t, char in enumerate(sentence):\n",
        "#             X[i, t, char_to_index[char]] = 1\n",
        "#         y[i, char_to_index[next_chars[i]]] = 1\n",
        "\n",
        "#     return X, y"
      ],
      "execution_count": 0,
      "outputs": []
    },
    {
      "cell_type": "code",
      "metadata": {
        "id": "o7VoDFaDrkR9",
        "colab_type": "code",
        "colab": {}
      },
      "source": [
        "def show_batch(train_loader):\n",
        "    # obtain one batch of training data\n",
        "    dataiter = iter(train_loader)\n",
        "    sample_x, sample_y = dataiter.next()\n",
        "    print('Sample input size: ', sample_x.size()) # batch_size, seq_length\n",
        "    print('Sample input: \\n', sample_x)\n",
        "    print()\n",
        "    print('Sample output size: ', sample_y.size()) # batch_size\n",
        "    print('Sample output: \\n', sample_y)"
      ],
      "execution_count": 0,
      "outputs": []
    },
    {
      "cell_type": "markdown",
      "metadata": {
        "id": "yhETnRtsRWz4",
        "colab_type": "text"
      },
      "source": [
        "# Data extraction"
      ]
    },
    {
      "cell_type": "code",
      "metadata": {
        "id": "ep-zkc-yReSj",
        "colab_type": "code",
        "colab": {}
      },
      "source": [
        "def get_data_from_file(train_file,artists_names=None):\n",
        "    \n",
        "    df = pd.read_csv(train_file)\n",
        "    \n",
        "    #Select artist\n",
        "    if artists_names :\n",
        "      df = df[df.artist.isin(artists_names)]\n",
        "    \n",
        "    print(\"Number of songs : \", len(df.index))\n",
        "\n",
        "    #Get text\n",
        "    text = ' '.join([x for x in df.text])\n",
        "\n",
        "    #Transform data\n",
        "    text = preprocess(text)\n",
        "    \n",
        "    #Get characters\n",
        "    chars = extract_characters(text)\n",
        "\n",
        "    #Get dictionnaries\n",
        "    char_to_index, indices_char = get_chars_index_dicts(chars)\n",
        "\n",
        "    #Encode text\n",
        "    encoded_text = vectorize(text, char_to_index)\n",
        "\n",
        "    return chars, encoded_text"
      ],
      "execution_count": 0,
      "outputs": []
    },
    {
      "cell_type": "markdown",
      "metadata": {
        "id": "BXfEMBsMTBa9",
        "colab_type": "text"
      },
      "source": [
        "# Create Batches"
      ]
    },
    {
      "cell_type": "code",
      "metadata": {
        "id": "DfK3g6sKTDw2",
        "colab_type": "code",
        "colab": {}
      },
      "source": [
        "def get_batches(arr, batch_size, seq_length):\n",
        "    '''Create a generator that returns batches of size\n",
        "       batch_size x seq_length from arr.\n",
        "       \n",
        "       Arguments\n",
        "       ---------\n",
        "       arr: Array you want to make batches from\n",
        "       batch_size: Batch size, the number of sequences per batch\n",
        "       seq_length: Number of encoded chars in a sequence\n",
        "    '''\n",
        "    \n",
        "    batch_size_total = batch_size * seq_length\n",
        "    # total number of batches we can make\n",
        "    n_batches = len(arr)//batch_size_total\n",
        "    \n",
        "    # Keep only enough characters to make full batches\n",
        "    arr = arr[:n_batches * batch_size_total]\n",
        "    # Reshape into batch_size rows\n",
        "    arr = arr.reshape((batch_size, -1))\n",
        "    \n",
        "    # iterate through the array, one sequence at a time\n",
        "    for n in range(0, arr.shape[1], seq_length):\n",
        "        # The features\n",
        "        x = arr[:, n:n+seq_length]\n",
        "        # The targets, shifted by one\n",
        "        y = np.zeros_like(x)\n",
        "        try:\n",
        "            y[:, :-1], y[:, -1] = x[:, 1:], arr[:, n+seq_length]\n",
        "        except IndexError:\n",
        "            y[:, :-1], y[:, -1] = x[:, 1:], arr[:, 0]\n",
        "        yield x, y"
      ],
      "execution_count": 0,
      "outputs": []
    },
    {
      "cell_type": "code",
      "metadata": {
        "id": "1K7tJnqQUsuY",
        "colab_type": "code",
        "colab": {}
      },
      "source": [
        "# def create_sequences(text, sequence_length, step):\n",
        "#     sequences = []\n",
        "#     next_chars = []\n",
        "#     for i in range(0, len(text) - sequence_length, step):\n",
        "#         sequences.append(text[i: i + sequence_length])\n",
        "#         next_chars.append(text[i + sequence_length])\n",
        "#     return sequences, next_chars\n",
        "\n",
        "# def create_sequences(text, sequence_length, step):\n",
        "#     text = text[:sequence_length * (len(text)//sequence_length)+2]\n",
        "#     sequences = []\n",
        "#     next_sequences = []\n",
        "#     for i in range(0, len(text) - sequence_length-1, step):\n",
        "#         sequences.append(text[i: i + sequence_length])\n",
        "#         next_sequences.append(text[i+1: i + sequence_length+1])\n",
        "#     return sequences, next_sequences"
      ],
      "execution_count": 0,
      "outputs": []
    },
    {
      "cell_type": "markdown",
      "metadata": {
        "id": "RKwmVCuBOSUj",
        "colab_type": "text"
      },
      "source": [
        "# 3. Create Model class and train function"
      ]
    },
    {
      "cell_type": "markdown",
      "metadata": {
        "id": "azqpndqROvF_",
        "colab_type": "text"
      },
      "source": [
        "## 3. A) LSTM"
      ]
    },
    {
      "cell_type": "code",
      "metadata": {
        "id": "1lKvf1MlFiCG",
        "colab_type": "code",
        "colab": {}
      },
      "source": [
        "class LSTM(nn.Module):\n",
        "    def __init__(self, chars, hidden_size=flags.hidden_size, num_layers=flags.n_layers, drop_prob=0.5, lr=0.001):\n",
        "        super().__init__()\n",
        "        self.chars = chars\n",
        "        self.hidden_size = hidden_size\n",
        "        self.num_layers = num_layers\n",
        "        self.drop_prob = drop_prob\n",
        "        self.lr = lr\n",
        "        self.int2char = dict(enumerate(self.chars))\n",
        "        self.char2int = {ch: ii for ii, ch in self.int2char.items()}\n",
        "\n",
        "        # Define layers\n",
        "        self.lstm = nn.LSTM(input_size=len(chars), hidden_size=hidden_size, num_layers=num_layers, dropout=drop_prob, batch_first=True)\n",
        "        self.dropout = nn.Dropout(drop_prob)\n",
        "        self.fc = nn.Linear(hidden_size, len(chars))\n",
        "        self.softmax = nn.Softmax(dim=1)\n",
        "\n",
        "\n",
        "    def forward(self, x, hidden):\n",
        "      # Hidden = h et c les états internes\n",
        "      \n",
        "      output, hidden = self.lstm(x, hidden)\n",
        "  \n",
        "      # Use dropout\n",
        "      out = self.dropout(output)\n",
        "\n",
        "      out = out.contiguous().view(-1, self.hidden_size)\n",
        "      #x = x[:,-1,:]  # Keep only the output of the last iteration. Before shape (6,3,128), after shape (6,128)\n",
        "      \n",
        "      out = self.fc(out)\n",
        "      #out = self.softmax(out)\n",
        "      \n",
        "      return out, hidden\n",
        "    \n",
        "      \n",
        "    def init_hidden(self, batch_size):\n",
        "        ''' Initializes hidden state '''\n",
        "        # Create two new tensors with sizes nb_layers x batch_size x hidden_size,\n",
        "        # initialized to zero, for hidden state and cell state of LSTM\n",
        "        \n",
        "        hidden = (torch.zeros(self.num_layers, batch_size, self.hidden_size, dtype=int).to(device),\n",
        "                torch.zeros(self.num_layers, batch_size, self.hidden_size,dtype=int).to(device))\n",
        "        \n",
        "        return hidden"
      ],
      "execution_count": 0,
      "outputs": []
    },
    {
      "cell_type": "markdown",
      "metadata": {
        "id": "z07TRaUYOzbT",
        "colab_type": "text"
      },
      "source": [
        "## 3. B) Train function"
      ]
    },
    {
      "cell_type": "code",
      "metadata": {
        "id": "yu3YONIuAug8",
        "colab_type": "code",
        "colab": {}
      },
      "source": [
        "def train(model, data, batch_size=10, seq_length=40, nb_epochs=8000, lr=0.01, clip=5, val_frac=0.1, print_every=1):\n",
        "  \n",
        "  model = model.to(device)\n",
        "  model.train()\n",
        "  \n",
        "  #criterion = nn.MSELoss()\n",
        "  #criterion = nn.CategoricalCrossEntropy()\n",
        "  criterion = nn.CrossEntropyLoss()\n",
        " \n",
        "  #optimizer = torch.optim.RMSprop(model.parameters(), lr = lr)\n",
        "  optimizer = torch.optim.Adam(model.parameters(), lr=lr)\n",
        "\n",
        "  flags.optimizer = optimizer\n",
        "  \n",
        "  # Create training and validation data\n",
        "  #TODO: cross-validation\n",
        "  val_index = int(len(data)*(1-val_frac))\n",
        "  train_data, val_data = data[:val_index], data[val_index:]\n",
        "\n",
        "  counter = 0\n",
        "  n_chars = len(model.chars)\n",
        "\n",
        "  for epoch in range(nb_epochs):\n",
        "    # initialize hidden state\n",
        "    h = model.init_hidden(batch_size)\n",
        "\n",
        "    #train_data = TensorDataset(torch.from_numpy(X).to(device), torch.from_numpy(y).to(device))\n",
        "    #train_loader = DataLoader(train_data, shuffle=False, batch_size=batch_size, drop_last=True)\n",
        "\n",
        "    for x, y in get_batches(data, batch_size, seq_length):\n",
        "      \n",
        "      counter+=1\n",
        "\n",
        "      # One-hot encode our data and make them Torch tensors (only x data!!)  \n",
        "      x = one_hot_encode(x, model.chars)\n",
        "\n",
        "\n",
        "      inputs, targets = torch.from_numpy(x).float(), torch.from_numpy(y).float()\n",
        "      \n",
        "      inputs, targets = inputs.to(device), targets.to(device)\n",
        "      \n",
        "      # Creating new variables for the hidden state, otherwise\n",
        "      # we'd backprop through the entire training history\n",
        "      h = tuple([each.data.float() for each in h])\n",
        " \n",
        "      model.zero_grad()\n",
        "\n",
        "      output, h = model(inputs, h)\n",
        "      \n",
        "      loss = criterion(output, targets.view(batch_size*seq_length).long())\n",
        "      #loss = criterion(output, targets)\n",
        "      \n",
        "      loss.backward()\n",
        "      \n",
        "      # `clip_grad_norm` helps prevent the exploding gradient problem in RNNs / LSTMs.\n",
        "      nn.utils.clip_grad_norm_(model.parameters(), clip)\n",
        "\n",
        "      optimizer.step()\n",
        "\n",
        "      # loss stats\n",
        "      if counter % print_every == 0:\n",
        "          # Get validation loss\n",
        "          val_h = model.init_hidden(batch_size)\n",
        "          val_losses = []\n",
        "          model.eval()\n",
        "          for x, y in get_batches(val_data, batch_size, seq_length):\n",
        "              # One-hot encode our data and make them Torch tensors\n",
        "              x = one_hot_encode(x, model.chars)\n",
        "              inputs, targets = torch.from_numpy(x).float(), torch.from_numpy(y).float()\n",
        "              \n",
        "              # Creating new variables for the hidden state, otherwise\n",
        "              # we'd backprop through the entire training history\n",
        "              val_h = tuple([each.data.float() for each in val_h])\n",
        "            \n",
        "              inputs, targets = inputs.to(device), targets.to(device)\n",
        "\n",
        "              output, val_h = model(inputs, val_h)\n",
        "              val_loss = criterion(output, targets.view(batch_size*seq_length).long())\n",
        "          \n",
        "              val_losses.append(val_loss.item())\n",
        "          \n",
        "          model.train() # reset to train mode after iterationg through validation data\n",
        "                \n",
        "          print(\"Epoch: [{}/{}]\".format(epoch+1, nb_epochs),\n",
        "                \"Step: [{}]\".format(counter),\n",
        "                \"Loss: {:.4f}\".format(loss.item()),\n",
        "                \"Val Loss: {:.4f}\".format(np.mean(val_losses)))\n",
        "\n",
        "    #print(f\"Epoch {epoch+1}/{n_epochs}, loss = {loss.item()}\")"
      ],
      "execution_count": 0,
      "outputs": []
    },
    {
      "cell_type": "markdown",
      "metadata": {
        "id": "0jXFz7ZjIaXz",
        "colab_type": "text"
      },
      "source": [
        "# 4. Instantiate model"
      ]
    },
    {
      "cell_type": "markdown",
      "metadata": {
        "id": "SUahDdWnO50g",
        "colab_type": "text"
      },
      "source": [
        "## 4. A) Pipeline : from text"
      ]
    },
    {
      "cell_type": "code",
      "metadata": {
        "id": "ZwCqQQBlPy13",
        "colab_type": "code",
        "colab": {}
      },
      "source": [
        "flags = Namespace(\n",
        "    train_file='songdata.csv',\n",
        "    artists_names=['Coldplay'],\n",
        "    n_epochs=10,\n",
        "    batch_size=128,\n",
        "    seq_length=40,\n",
        "    hidden_size=256,\n",
        "    gradients_norm=5,\n",
        "    predict_top_k=5,\n",
        "    checkpoint_path='checkpoint',\n",
        "    n_layers=2,\n",
        "    SEQUENCE_STEP = 1,\n",
        "    DIVERSITY = 1.0,\n",
        "    optimizer = None\n",
        ")"
      ],
      "execution_count": 0,
      "outputs": []
    },
    {
      "cell_type": "code",
      "metadata": {
        "id": "01wmppOoPpxG",
        "colab_type": "code",
        "colab": {
          "base_uri": "https://localhost:8080/",
          "height": 50
        },
        "outputId": "522bde9a-f3e3-412b-c8b2-6db07944e5f2"
      },
      "source": [
        "chars, encoded_text = get_data_from_file(flags.train_file,flags.artists_names)"
      ],
      "execution_count": 86,
      "outputs": [
        {
          "output_type": "stream",
          "text": [
            "Number of songs :  120\n",
            "Text length is :  113413\n"
          ],
          "name": "stdout"
        }
      ]
    },
    {
      "cell_type": "code",
      "metadata": {
        "id": "6VGCwr9fU3Ny",
        "colab_type": "code",
        "colab": {}
      },
      "source": [
        "model = LSTM(chars,hidden_size=flags.hidden_size)"
      ],
      "execution_count": 0,
      "outputs": []
    },
    {
      "cell_type": "code",
      "metadata": {
        "id": "jXs4iBvxU55i",
        "colab_type": "code",
        "colab": {}
      },
      "source": [
        "model =model.float()"
      ],
      "execution_count": 0,
      "outputs": []
    },
    {
      "cell_type": "code",
      "metadata": {
        "id": "mnzKxXI_U0-x",
        "colab_type": "code",
        "outputId": "91f740cf-d5c2-49af-f611-ebc060a51d63",
        "colab": {
          "base_uri": "https://localhost:8080/",
          "height": 202
        }
      },
      "source": [
        "#Train the model\n",
        "\n",
        "train(model, encoded_text, batch_size=flags.batch_size, seq_length=flags.seq_length, nb_epochs=flags.n_epochs, lr=0.01, print_every=20)"
      ],
      "execution_count": 93,
      "outputs": [
        {
          "output_type": "stream",
          "text": [
            "Epoch: [1/10] Step: [20] Loss: 2.9139 Val Loss: 2.8826\n",
            "Epoch: [2/10] Step: [40] Loss: 2.8089 Val Loss: 2.7943\n",
            "Epoch: [3/10] Step: [60] Loss: 2.5431 Val Loss: 2.5134\n",
            "Epoch: [4/10] Step: [80] Loss: 2.3039 Val Loss: 2.2502\n",
            "Epoch: [5/10] Step: [100] Loss: 2.1557 Val Loss: 2.0626\n",
            "Epoch: [6/10] Step: [120] Loss: 2.0272 Val Loss: 1.9395\n",
            "Epoch: [7/10] Step: [140] Loss: 1.9074 Val Loss: 1.8270\n",
            "Epoch: [8/10] Step: [160] Loss: 1.8100 Val Loss: 1.7331\n",
            "Epoch: [9/10] Step: [180] Loss: 1.7587 Val Loss: 1.6524\n",
            "Epoch: [10/10] Step: [200] Loss: 1.6840 Val Loss: 1.5871\n",
            "Epoch: [10/10] Step: [220] Loss: 1.7392 Val Loss: 1.5324\n"
          ],
          "name": "stdout"
        }
      ]
    },
    {
      "cell_type": "markdown",
      "metadata": {
        "id": "eWmLOdgGyGQH",
        "colab_type": "text"
      },
      "source": [
        "# 5. Save Model"
      ]
    },
    {
      "cell_type": "code",
      "metadata": {
        "id": "wEGkISbDyF0v",
        "colab_type": "code",
        "colab": {}
      },
      "source": [
        "model_name = \"10_epochs_coldplay\"\n",
        "PATH = \"../models/\" + model_name + \".net\"\n",
        "\n",
        "checkpoint = {'nb_epochs': 10,\n",
        "              'n_hidden': model.hidden_size,\n",
        "              'n_layers': model.num_layers,\n",
        "              'model_state_dict': model.state_dict(),\n",
        "              'tokens': model.chars,\n",
        "              'optimizer_state_dict' : flags.optimizer.state_dict()}\n",
        "\n",
        "torch.save(checkpoint, PATH)"
      ],
      "execution_count": 0,
      "outputs": []
    },
    {
      "cell_type": "markdown",
      "metadata": {
        "id": "N_sqtcvjyBOV",
        "colab_type": "text"
      },
      "source": [
        "# 6. Generate samples"
      ]
    },
    {
      "cell_type": "markdown",
      "metadata": {
        "id": "EKOrJXeyszo3",
        "colab_type": "text"
      },
      "source": [
        "## 6. A) Load model"
      ]
    },
    {
      "cell_type": "code",
      "metadata": {
        "id": "V-ebY4uYszZt",
        "colab_type": "code",
        "colab": {
          "base_uri": "https://localhost:8080/",
          "height": 118
        },
        "outputId": "16f81005-04f5-43fa-e28a-1827e1c4a1d1"
      },
      "source": [
        "import configparser as config\n",
        "imported_model_name = \"10_epochs_coldplay\"\n",
        "PATH = \"../models/\" + imported_model_name + \".net\"\n",
        "\n",
        "imported_model = LSTM(chars)\n",
        "\n",
        "# if os.path.exists(PATH):\n",
        "#      if config.resume:\n",
        "checkpoint = torch.load(PATH)\n",
        "imported_model.load_state_dict(checkpoint['model_state_dict'])\n",
        "\n",
        "imported_model.eval()\n",
        "\n",
        "#optimizer.load_state_dict(checkpoint['optimizer_state_dict'])"
      ],
      "execution_count": 99,
      "outputs": [
        {
          "output_type": "execute_result",
          "data": {
            "text/plain": [
              "LSTM(\n",
              "  (lstm): LSTM(32, 256, num_layers=2, batch_first=True, dropout=0.5)\n",
              "  (dropout): Dropout(p=0.5, inplace=False)\n",
              "  (fc): Linear(in_features=256, out_features=32, bias=True)\n",
              "  (softmax): Softmax(dim=1)\n",
              ")"
            ]
          },
          "metadata": {
            "tags": []
          },
          "execution_count": 99
        }
      ]
    },
    {
      "cell_type": "markdown",
      "metadata": {
        "id": "1hMCm4rMtjSd",
        "colab_type": "text"
      },
      "source": [
        "## 6. B) Predict function"
      ]
    },
    {
      "cell_type": "code",
      "metadata": {
        "id": "x0BQGwWUylhy",
        "colab_type": "code",
        "colab": {}
      },
      "source": [
        "def predict(model, char, h=None, top_k=None):\n",
        "        ''' Given a character, predict the next character.\n",
        "            Returns the predicted character and the hidden state.\n",
        "        '''\n",
        "        # tensor inputs\n",
        "        x = np.array([[model.char2int[char]]])\n",
        "        x = one_hot_encode(x, model.chars)\n",
        "        inputs = torch.from_numpy(x).float()\n",
        "        \n",
        "        inputs = inputs.to(device)\n",
        "        \n",
        "        # detach hidden state from history\n",
        "        h = tuple([each.data.float() for each in h])\n",
        "        \n",
        "        # get the output of the model\n",
        "        out, h = model(inputs, h)\n",
        "\n",
        "        # get the character probabilities\n",
        "        p = F.softmax(out, dim=1).data\n",
        "        \n",
        "        p = p.cpu() # move to cpu\n",
        "        \n",
        "        # get top characters\n",
        "        if top_k is None:\n",
        "            top_ch = np.arange(len(model.chars))\n",
        "        else:\n",
        "            p, top_ch = p.topk(top_k)\n",
        "            top_ch = top_ch.numpy().squeeze()\n",
        "        \n",
        "        # select the likely next character with some element of randomness\n",
        "        p = p.numpy().squeeze()\n",
        "        char = np.random.choice(top_ch, p=p/p.sum())\n",
        "        \n",
        "        # return the encoded value of the predicted char and the hidden state\n",
        "        return model.int2char[char], h"
      ],
      "execution_count": 0,
      "outputs": []
    },
    {
      "cell_type": "code",
      "metadata": {
        "id": "PQPQ6mp9y3ms",
        "colab_type": "code",
        "colab": {}
      },
      "source": [
        "def sample(model, size, sentence='The', top_k=None):\n",
        "    \n",
        "    model = model.to(device)\n",
        "    \n",
        "    model.eval() # eval mode\n",
        "    \n",
        "    sentence = sentence.lower()\n",
        "\n",
        "    chars = [ch for ch in sentence]\n",
        "    \n",
        "    h = model.init_hidden(1)\n",
        "    \n",
        "    for ch in sentence:\n",
        "        char, h = predict(model, ch, h, top_k=top_k)\n",
        "    \n",
        "    #add last one\n",
        "    chars.append(char)\n",
        "    \n",
        "    # Now pass in the previous character and get a new one\n",
        "    for i in range(size):\n",
        "        char, h = predict(model, chars[-1], h, top_k=top_k)\n",
        "        chars.append(char)\n",
        "\n",
        "    return ''.join(chars)"
      ],
      "execution_count": 0,
      "outputs": []
    },
    {
      "cell_type": "code",
      "metadata": {
        "id": "rpautWFbzHDV",
        "colab_type": "code",
        "colab": {
          "base_uri": "https://localhost:8080/",
          "height": 1000
        },
        "outputId": "e9b257b8-e213-41f9-d334-22863e4d7e0f"
      },
      "source": [
        "print(sample(imported_model, 1000, sentence='i\\'ve come down', top_k=5))"
      ],
      "execution_count": 100,
      "outputs": [
        {
          "output_type": "stream",
          "text": [
            "i've come downs \n",
            " and try to timing at \n",
            " \n",
            " \n",
            " \n",
            " i con't light thit i light \n",
            " \n",
            " the time \n",
            " \n",
            " \n",
            " it's gonni wall op a croust \n",
            " \n",
            " i don't tone \n",
            " in'm gead think a whost one \n",
            " and i could \n",
            " to doung it's whot mingen \n",
            " i wait you sead \n",
            " \n",
            " there a leart \n",
            " a was as you're whese? the songang, oh you that your warn \n",
            " i'm song \n",
            " that in the wattill \n",
            " i can lages \n",
            " \n",
            " oh \n",
            " \n",
            " to that you try it to shich \n",
            " that's mesting \n",
            " i'm what's all in a song to deising \n",
            " \n",
            " and all there a wat \n",
            " that mant to the way \n",
            " and a lide \n",
            " \n",
            " i'm is my alone \n",
            " \n",
            " and i want you're wook \n",
            " and i way \n",
            " it's me \n",
            " \n",
            " there lise \n",
            " that't loves a lotken \n",
            " i know the skys the ticks \n",
            " oh \n",
            " a lead that it and i contise, and to the to see of the car \n",
            " \n",
            " on trass to me i can to the warn \n",
            " oh, i want, oh you see your \n",
            " in the like to the what you samss in and thround and tele whin to me \n",
            " in yauree \n",
            " i wanted \n",
            " \n",
            " the woald and and take \n",
            " the want \n",
            " \n",
            " i do \n",
            " \n",
            " \n",
            " it's go \n",
            " or the stard \n",
            " the want, a wasnas it a songes \n",
            " te we the sting \n",
            " \n",
            " oh, i don't se\n"
          ],
          "name": "stdout"
        }
      ]
    },
    {
      "cell_type": "code",
      "metadata": {
        "id": "DXlUnEvhE4NP",
        "colab_type": "code",
        "outputId": "f7e890aa-1dbb-4698-e12b-049d169a69fd",
        "colab": {
          "base_uri": "https://localhost:8080/",
          "height": 296
        }
      },
      "source": [
        "for diversity in [0.2, 0.5, 1.0, 1.2]:\n",
        "    print()\n",
        "    print('----- diversity:', diversity)\n",
        "\n",
        "    generated = ''\n",
        "    # insert your 40-chars long string. OBS it needs to be exactly 40 chars!\n",
        "    sentence = \"Hey my lovely dear, i missed you so much\"\n",
        "    sentence = sentence.lower() #stop here-------------^\"\n",
        "    generated += sentence\n",
        "\n",
        "    print('----- Generating with seed: \"' + sentence + '\"')\n",
        "    sys.stdout.write(generated)\n",
        "\n",
        "    for i in range(400):\n",
        "        x = np.zeros((1, SEQUENCE_LENGTH, len(chars)))\n",
        "        for t, char in enumerate(sentence):\n",
        "            x[0, t, char_to_index[char]] = 1\n",
        "        x = torch.from_numpy(x)\n",
        "        x = x.float()\n",
        "        x = x.to(device)\n",
        "        model.eval()\n",
        "        #x_input = torch.tensor([70, 80, 90]).float().reshape((1, 3, 1))\n",
        "        #yhat = model(x_input)\n",
        "        #print(yhat)\n",
        "        predictions = model(x)[0]\n",
        "        predictions = predictions.cpu().detach()\n",
        "        predictions = predictions.numpy()\n",
        "        #next_index = sample(predictions, diversity)\n",
        "        next_index = np.argmax(predictions)\n",
        "        next_char = indices_char[next_index]\n",
        "\n",
        "        generated += next_char\n",
        "        sentence = sentence[1:] + next_char\n",
        "\n",
        "        sys.stdout.write(next_char)\n",
        "        sys.stdout.flush()\n",
        "    print()"
      ],
      "execution_count": 290,
      "outputs": [
        {
          "output_type": "stream",
          "text": [
            "\n",
            "----- diversity: 0.2\n",
            "----- Generating with seed: \"hey my lovely dear, i missed you so much\"\n",
            "hey my lovely dear, i missed you so much"
          ],
          "name": "stdout"
        },
        {
          "output_type": "error",
          "ename": "NameError",
          "evalue": "ignored",
          "traceback": [
            "\u001b[0;31m---------------------------------------------------------------------------\u001b[0m",
            "\u001b[0;31mNameError\u001b[0m                                 Traceback (most recent call last)",
            "\u001b[0;32m<ipython-input-290-b7a04d23c7ad>\u001b[0m in \u001b[0;36m<module>\u001b[0;34m()\u001b[0m\n\u001b[1;32m     13\u001b[0m \u001b[0;34m\u001b[0m\u001b[0m\n\u001b[1;32m     14\u001b[0m     \u001b[0;32mfor\u001b[0m \u001b[0mi\u001b[0m \u001b[0;32min\u001b[0m \u001b[0mrange\u001b[0m\u001b[0;34m(\u001b[0m\u001b[0;36m400\u001b[0m\u001b[0;34m)\u001b[0m\u001b[0;34m:\u001b[0m\u001b[0;34m\u001b[0m\u001b[0;34m\u001b[0m\u001b[0m\n\u001b[0;32m---> 15\u001b[0;31m         \u001b[0mx\u001b[0m \u001b[0;34m=\u001b[0m \u001b[0mnp\u001b[0m\u001b[0;34m.\u001b[0m\u001b[0mzeros\u001b[0m\u001b[0;34m(\u001b[0m\u001b[0;34m(\u001b[0m\u001b[0;36m1\u001b[0m\u001b[0;34m,\u001b[0m \u001b[0mSEQUENCE_LENGTH\u001b[0m\u001b[0;34m,\u001b[0m \u001b[0mlen\u001b[0m\u001b[0;34m(\u001b[0m\u001b[0mchars\u001b[0m\u001b[0;34m)\u001b[0m\u001b[0;34m)\u001b[0m\u001b[0;34m)\u001b[0m\u001b[0;34m\u001b[0m\u001b[0;34m\u001b[0m\u001b[0m\n\u001b[0m\u001b[1;32m     16\u001b[0m         \u001b[0;32mfor\u001b[0m \u001b[0mt\u001b[0m\u001b[0;34m,\u001b[0m \u001b[0mchar\u001b[0m \u001b[0;32min\u001b[0m \u001b[0menumerate\u001b[0m\u001b[0;34m(\u001b[0m\u001b[0msentence\u001b[0m\u001b[0;34m)\u001b[0m\u001b[0;34m:\u001b[0m\u001b[0;34m\u001b[0m\u001b[0;34m\u001b[0m\u001b[0m\n\u001b[1;32m     17\u001b[0m             \u001b[0mx\u001b[0m\u001b[0;34m[\u001b[0m\u001b[0;36m0\u001b[0m\u001b[0;34m,\u001b[0m \u001b[0mt\u001b[0m\u001b[0;34m,\u001b[0m \u001b[0mchar_to_index\u001b[0m\u001b[0;34m[\u001b[0m\u001b[0mchar\u001b[0m\u001b[0;34m]\u001b[0m\u001b[0;34m]\u001b[0m \u001b[0;34m=\u001b[0m \u001b[0;36m1\u001b[0m\u001b[0;34m\u001b[0m\u001b[0;34m\u001b[0m\u001b[0m\n",
            "\u001b[0;31mNameError\u001b[0m: name 'SEQUENCE_LENGTH' is not defined"
          ]
        }
      ]
    },
    {
      "cell_type": "code",
      "metadata": {
        "id": "gmZd4-npZnvR",
        "colab_type": "code",
        "colab": {}
      },
      "source": [
        "def sample(preds, temperature=1.0):\n",
        "    preds =preds.cpu()\n",
        "    preds = preds.detach()\n",
        "    print(preds.shape)\n",
        "    print(preds)\n",
        "    if temperature == 0:\n",
        "        temperature = 1\n",
        "\n",
        "    preds = np.asarray(preds).astype('float64')\n",
        "    preds = np.log(preds) / temperature\n",
        "    exp_preds = np.exp(preds)\n",
        "    preds = exp_preds / np.sum(exp_preds)\n",
        "    probas = np.random.multinomial(1, preds, 1)\n",
        "    return np.argmax(probas)"
      ],
      "execution_count": 0,
      "outputs": []
    }
  ]
}